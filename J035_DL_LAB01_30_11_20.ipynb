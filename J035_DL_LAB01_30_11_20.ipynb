{
  "nbformat": 4,
  "nbformat_minor": 0,
  "metadata": {
    "colab": {
      "name": "J035_DL_LAB01_30-11-20.ipynb",
      "provenance": [],
      "collapsed_sections": [],
      "authorship_tag": "ABX9TyO6yo3dBD5ObmdLNPpw9iOJ",
      "include_colab_link": true
    },
    "kernelspec": {
      "name": "python3",
      "display_name": "Python 3"
    },
    "accelerator": "GPU"
  },
  "cells": [
    {
      "cell_type": "markdown",
      "metadata": {
        "id": "view-in-github",
        "colab_type": "text"
      },
      "source": [
        "<a href=\"https://colab.research.google.com/github/JaiminPatel23/DL/blob/main/J035_DL_LAB01_30_11_20.ipynb\" target=\"_parent\"><img src=\"https://colab.research.google.com/assets/colab-badge.svg\" alt=\"Open In Colab\"/></a>"
      ]
    },
    {
      "cell_type": "markdown",
      "metadata": {
        "id": "mnel6VX7dpCG"
      },
      "source": [
        "# **Handwriting Recognition - Arabic Alphabets**"
      ]
    },
    {
      "cell_type": "markdown",
      "metadata": {
        "id": "OSYF3PDzdUyi"
      },
      "source": [
        "### Importing Necessary Libraries"
      ]
    },
    {
      "cell_type": "code",
      "metadata": {
        "id": "skS9IpH5ZLzl"
      },
      "source": [
        "import numpy as np\n",
        "import pandas as pd\n",
        "import matplotlib.pyplot as plt\n",
        "import seaborn as sns\n"
      ],
      "execution_count": 1,
      "outputs": []
    },
    {
      "cell_type": "markdown",
      "metadata": {
        "id": "53xt_KI2d7Aj"
      },
      "source": [
        "### Loading the Dataset"
      ]
    },
    {
      "cell_type": "code",
      "metadata": {
        "colab": {
          "base_uri": "https://localhost:8080/"
        },
        "id": "VTbKCTFncWFl",
        "outputId": "f39f0156-246e-47ee-cad1-01fb0516b5f4"
      },
      "source": [
        "!wget http://upscfever.com/datasets/csvTrainImages13440x1024.csv -P drive/app\n",
        "!wget http://upscfever.com/datasets/csvTrainLabel13440x1.csv -P drive/app\n",
        "!wget http://upscfever.com/datasets/csvTestImages3360x1024.csv -P drive/app\n",
        "!wget http://upscfever.com/datasets/csvTestLabel3360x1.csv -P drive/app\n"
      ],
      "execution_count": 2,
      "outputs": [
        {
          "output_type": "stream",
          "text": [
            "--2020-12-06 17:52:23--  http://upscfever.com/datasets/csvTrainImages13440x1024.csv\n",
            "Resolving upscfever.com (upscfever.com)... 104.27.176.133, 172.67.193.2, 104.27.177.133, ...\n",
            "Connecting to upscfever.com (upscfever.com)|104.27.176.133|:80... connected.\n",
            "HTTP request sent, awaiting response... 301 Moved Permanently\n",
            "Location: https://upscfever.com/datasets/csvTrainImages13440x1024.csv [following]\n",
            "--2020-12-06 17:52:23--  https://upscfever.com/datasets/csvTrainImages13440x1024.csv\n",
            "Connecting to upscfever.com (upscfever.com)|104.27.176.133|:443... connected.\n",
            "HTTP request sent, awaiting response... 200 OK\n",
            "Length: unspecified [text/csv]\n",
            "Saving to: ‘drive/app/csvTrainImages13440x1024.csv’\n",
            "\n",
            "\r          csvTrainI     [<=>                 ]       0  --.-KB/s               \rcsvTrainImages13440     [ <=>                ]  28.22M  --.-KB/s    in 0.1s    \n",
            "\n",
            "2020-12-06 17:52:23 (195 MB/s) - ‘drive/app/csvTrainImages13440x1024.csv’ saved [29593405]\n",
            "\n",
            "--2020-12-06 17:52:23--  http://upscfever.com/datasets/csvTrainLabel13440x1.csv\n",
            "Resolving upscfever.com (upscfever.com)... 104.27.176.133, 172.67.193.2, 104.27.177.133, ...\n",
            "Connecting to upscfever.com (upscfever.com)|104.27.176.133|:80... connected.\n",
            "HTTP request sent, awaiting response... 301 Moved Permanently\n",
            "Location: https://upscfever.com/datasets/csvTrainLabel13440x1.csv [following]\n",
            "--2020-12-06 17:52:23--  https://upscfever.com/datasets/csvTrainLabel13440x1.csv\n",
            "Connecting to upscfever.com (upscfever.com)|104.27.176.133|:443... connected.\n",
            "HTTP request sent, awaiting response... 200 OK\n",
            "Length: unspecified [text/csv]\n",
            "Saving to: ‘drive/app/csvTrainLabel13440x1.csv’\n",
            "\n",
            "csvTrainLabel13440x     [ <=>                ]  35.16K  --.-KB/s    in 0s      \n",
            "\n",
            "2020-12-06 17:52:23 (116 MB/s) - ‘drive/app/csvTrainLabel13440x1.csv’ saved [36000]\n",
            "\n",
            "--2020-12-06 17:52:23--  http://upscfever.com/datasets/csvTestImages3360x1024.csv\n",
            "Resolving upscfever.com (upscfever.com)... 104.27.176.133, 172.67.193.2, 104.27.177.133, ...\n",
            "Connecting to upscfever.com (upscfever.com)|104.27.176.133|:80... connected.\n",
            "HTTP request sent, awaiting response... 301 Moved Permanently\n",
            "Location: https://upscfever.com/datasets/csvTestImages3360x1024.csv [following]\n",
            "--2020-12-06 17:52:24--  https://upscfever.com/datasets/csvTestImages3360x1024.csv\n",
            "Connecting to upscfever.com (upscfever.com)|104.27.176.133|:443... connected.\n",
            "HTTP request sent, awaiting response... 200 OK\n",
            "Length: unspecified [text/csv]\n",
            "Saving to: ‘drive/app/csvTestImages3360x1024.csv’\n",
            "\n",
            "csvTestImages3360x1     [ <=>                ]   7.06M  --.-KB/s    in 0.03s   \n",
            "\n",
            "2020-12-06 17:52:24 (237 MB/s) - ‘drive/app/csvTestImages3360x1024.csv’ saved [7400507]\n",
            "\n",
            "--2020-12-06 17:52:24--  http://upscfever.com/datasets/csvTestLabel3360x1.csv\n",
            "Resolving upscfever.com (upscfever.com)... 104.27.176.133, 172.67.193.2, 104.27.177.133, ...\n",
            "Connecting to upscfever.com (upscfever.com)|104.27.176.133|:80... connected.\n",
            "HTTP request sent, awaiting response... 301 Moved Permanently\n",
            "Location: https://upscfever.com/datasets/csvTestLabel3360x1.csv [following]\n",
            "--2020-12-06 17:52:24--  https://upscfever.com/datasets/csvTestLabel3360x1.csv\n",
            "Connecting to upscfever.com (upscfever.com)|104.27.176.133|:443... connected.\n",
            "HTTP request sent, awaiting response... 200 OK\n",
            "Length: unspecified [text/csv]\n",
            "Saving to: ‘drive/app/csvTestLabel3360x1.csv’\n",
            "\n",
            "csvTestLabel3360x1.     [ <=>                ]   8.79K  --.-KB/s    in 0s      \n",
            "\n",
            "2020-12-06 17:52:24 (55.6 MB/s) - ‘drive/app/csvTestLabel3360x1.csv’ saved [9000]\n",
            "\n"
          ],
          "name": "stdout"
        }
      ]
    },
    {
      "cell_type": "code",
      "metadata": {
        "id": "pRYkmSxSeCMI"
      },
      "source": [
        "train_data = pd.read_csv('drive/app/csvTrainImages13440x1024.csv', header = None)\n",
        "train_label = pd.read_csv('drive/app/csvTrainLabel13440x1.csv', header = None)\n",
        "test_data = pd.read_csv('drive/app/csvTestImages3360x1024.csv', header = None)\n",
        "test_label = pd.read_csv('drive/app/csvTestLabel3360x1.csv', header = None)"
      ],
      "execution_count": 3,
      "outputs": []
    },
    {
      "cell_type": "code",
      "metadata": {
        "colab": {
          "base_uri": "https://localhost:8080/"
        },
        "id": "T9lyJBQbeDy9",
        "outputId": "e07a24a2-1885-4cf5-c8ea-8dd67e44f594"
      },
      "source": [
        "train_data.info()"
      ],
      "execution_count": 4,
      "outputs": [
        {
          "output_type": "stream",
          "text": [
            "<class 'pandas.core.frame.DataFrame'>\n",
            "RangeIndex: 13440 entries, 0 to 13439\n",
            "Columns: 1024 entries, 0 to 1023\n",
            "dtypes: int64(1024)\n",
            "memory usage: 105.0 MB\n"
          ],
          "name": "stdout"
        }
      ]
    },
    {
      "cell_type": "code",
      "metadata": {
        "id": "ksPV_lwfeOgf"
      },
      "source": [
        "train_data = train_data.iloc[:,:].values.astype('float32')\n",
        "train_label = train_label.iloc[:,:].values.astype('int32')-1\n",
        "test_data = test_data.iloc[:,:].values.astype('float32')\n",
        "test_label = test_label.iloc[:,:].values.astype('int32')-1"
      ],
      "execution_count": 5,
      "outputs": []
    },
    {
      "cell_type": "markdown",
      "metadata": {
        "_uuid": "14f507162de825018b101368e988ad5985c5903b",
        "id": "Sm_YZkhrf3Js"
      },
      "source": [
        "## Visualizing the dataset(displaying data)"
      ]
    },
    {
      "cell_type": "code",
      "metadata": {
        "trusted": true,
        "_uuid": "5540975cac6798768d01f66df075f50ff144bb4b",
        "id": "VlgYyv6-f3Jt"
      },
      "source": [
        "def row_calculator(number_of_images, number_of_columns):\n",
        "    if number_of_images % number_of_columns != 0:\n",
        "        return (number_of_images / number_of_columns)+1\n",
        "    else:\n",
        "        return (number_of_images / number_of_columns)"
      ],
      "execution_count": 6,
      "outputs": []
    },
    {
      "cell_type": "code",
      "metadata": {
        "trusted": true,
        "_uuid": "e9fb7880bf7127113cbd38e5bf91a5d391779365",
        "id": "pzaGqhlQf3Jz"
      },
      "source": [
        "def display_image(x, img_size, number_of_images):\n",
        "    plt.figure(figsize = (8, 7))\n",
        "    if x.shape[0] > 0:\n",
        "        n_samples = x.shape[0]\n",
        "        x = x.reshape(n_samples, img_size, img_size)\n",
        "        number_of_rows = row_calculator(number_of_images, 4)\n",
        "        for i in range(number_of_images):\n",
        "            plt.subplot(number_of_rows, 4, i+1)\n",
        "            plt.imshow(x[i])"
      ],
      "execution_count": 7,
      "outputs": []
    },
    {
      "cell_type": "markdown",
      "metadata": {
        "_uuid": "feba0bd644aee2b3b4dd99ae7cf35d36f3d874a0",
        "id": "H4jC6eB6f3J3"
      },
      "source": [
        "### The training set"
      ]
    },
    {
      "cell_type": "code",
      "metadata": {
        "trusted": true,
        "_uuid": "3e6f0bd1c9353ce2f5410acf4353106a23fb44b9",
        "id": "uQg30rIgf3J5",
        "colab": {
          "base_uri": "https://localhost:8080/",
          "height": 431
        },
        "outputId": "a89e1e3d-aceb-43bd-8470-07d1097ed624"
      },
      "source": [
        "display_image(train_data, 32, 16)"
      ],
      "execution_count": 8,
      "outputs": [
        {
          "output_type": "display_data",
          "data": {
            "image/png": "[encoded data removed]",
            "text/plain": [
              "<Figure size 576x504 with 16 Axes>"
            ]
          },
          "metadata": {
            "tags": [],
            "needs_background": "light"
          }
        }
      ]
    },
    {
      "cell_type": "markdown",
      "metadata": {
        "_uuid": "83129df797c7d82d728cecbefe3879f9ef3fbd39",
        "id": "tfJ_ip2Tf3J7"
      },
      "source": [
        "### The test set"
      ]
    },
    {
      "cell_type": "code",
      "metadata": {
        "trusted": true,
        "_uuid": "34fee0e80ad9c194c12ed52c628346706b0e8d50",
        "id": "_OeDufXkf3J7",
        "colab": {
          "base_uri": "https://localhost:8080/",
          "height": 431
        },
        "outputId": "29cf5b4f-9b5c-42c8-8253-63a4ca761194"
      },
      "source": [
        "display_image(test_data, 32, 16)"
      ],
      "execution_count": 9,
      "outputs": [
        {
          "output_type": "display_data",
          "data": {
            "image/png": "[encoded data removed]",
            "text/plain": [
              "<Figure size 576x504 with 16 Axes>"
            ]
          },
          "metadata": {
            "tags": [],
            "needs_background": "light"
          }
        }
      ]
    },
    {
      "cell_type": "markdown",
      "metadata": {
        "_uuid": "1b8d76fafe7c05f63865651207dcd5a6a770d767",
        "id": "EkmAo_Ntf3J9"
      },
      "source": [
        "## Data preprocessing"
      ]
    },
    {
      "cell_type": "markdown",
      "metadata": {
        "id": "a4txyjdme0tr"
      },
      "source": [
        "### Encoding"
      ]
    },
    {
      "cell_type": "code",
      "metadata": {
        "id": "mAcjIWele9Rw"
      },
      "source": [
        "from keras.utils import to_categorical\n"
      ],
      "execution_count": 10,
      "outputs": []
    },
    {
      "cell_type": "code",
      "metadata": {
        "id": "jgrbPAzyerSo"
      },
      "source": [
        "train_label = to_categorical(train_label,28)"
      ],
      "execution_count": 11,
      "outputs": []
    },
    {
      "cell_type": "markdown",
      "metadata": {
        "id": "AI837yvHfBWb"
      },
      "source": [
        "### Normalization"
      ]
    },
    {
      "cell_type": "code",
      "metadata": {
        "id": "_H6EPTtce4Nz"
      },
      "source": [
        "train_data = train_data/255\n",
        "test_data = test_data/255"
      ],
      "execution_count": 12,
      "outputs": []
    },
    {
      "cell_type": "code",
      "metadata": {
        "id": "s1IGO8MjfF0Z"
      },
      "source": [
        "train_data = train_data.reshape([-1, 32, 32, 1])\n",
        "test_data = test_data.reshape([-1, 32, 32, 1])"
      ],
      "execution_count": 13,
      "outputs": []
    },
    {
      "cell_type": "markdown",
      "metadata": {
        "id": "Ioub2U9yfMi2"
      },
      "source": [
        "### Building the ANN"
      ]
    },
    {
      "cell_type": "code",
      "metadata": {
        "id": "8tH2eenbfRog"
      },
      "source": [
        "import tensorflow as tf \n",
        "from tensorflow import keras \n",
        "import matplotlib.pyplot as plt \n"
      ],
      "execution_count": 14,
      "outputs": []
    },
    {
      "cell_type": "code",
      "metadata": {
        "id": "7T0xnz94iH3M"
      },
      "source": [
        "model = keras.Sequential([keras.layers.Flatten(input_shape=(32,32,1)),\n",
        "                          keras.layers.Dense(128,activation = tf.nn.relu),\n",
        "                          keras.layers.Dense(28,activation = tf.nn.softmax)])"
      ],
      "execution_count": 15,
      "outputs": []
    },
    {
      "cell_type": "code",
      "metadata": {
        "id": "284rVVslifKW"
      },
      "source": [
        "model.compile(optimizer = tf.keras.optimizers.Adam(),\n",
        "              loss = 'categorical_crossentropy',\n",
        "              metrics=['accuracy'])"
      ],
      "execution_count": 16,
      "outputs": []
    },
    {
      "cell_type": "markdown",
      "metadata": {
        "id": "ufYaODsdmfhc"
      },
      "source": [
        "### Image Data Generator"
      ]
    },
    {
      "cell_type": "code",
      "metadata": {
        "id": "2T__GQYGm6er"
      },
      "source": [
        "from keras.preprocessing.image import ImageDataGenerator\n"
      ],
      "execution_count": 17,
      "outputs": []
    },
    {
      "cell_type": "code",
      "metadata": {
        "id": "1LFXNZP2mjOC"
      },
      "source": [
        "datagen = ImageDataGenerator(\n",
        "        featurewise_center=False, \n",
        "        samplewise_center=False,  \n",
        "        featurewise_std_normalization=False,\n",
        "        samplewise_std_normalization=False,\n",
        "        zca_whitening=False,\n",
        "        rotation_range=10,\n",
        "        zoom_range = 0.1,  \n",
        "        width_shift_range=0.1, \n",
        "        height_shift_range=0.1,\n",
        "        horizontal_flip=False,\n",
        "        vertical_flip=False,\n",
        "        validation_split=0.2)\n",
        "\n",
        "val_generator = datagen.flow(train_data,subset='validation')\n"
      ],
      "execution_count": 18,
      "outputs": []
    },
    {
      "cell_type": "code",
      "metadata": {
        "id": "NYk3rlyUm0cm"
      },
      "source": [
        "datagen.fit(train_data)"
      ],
      "execution_count": 19,
      "outputs": []
    },
    {
      "cell_type": "code",
      "metadata": {
        "colab": {
          "base_uri": "https://localhost:8080/"
        },
        "id": "sW2EK190nphD",
        "outputId": "18701e22-e96a-404f-9593-438dc3da614f"
      },
      "source": [
        "train_data.shape"
      ],
      "execution_count": 20,
      "outputs": [
        {
          "output_type": "execute_result",
          "data": {
            "text/plain": [
              "(13440, 32, 32, 1)"
            ]
          },
          "metadata": {
            "tags": []
          },
          "execution_count": 20
        }
      ]
    },
    {
      "cell_type": "code",
      "metadata": {
        "colab": {
          "base_uri": "https://localhost:8080/"
        },
        "id": "aR18BqVHoL7o",
        "outputId": "69f8273d-fb7a-4aed-b63e-f3277ea038eb"
      },
      "source": [
        "train_label.shape"
      ],
      "execution_count": 21,
      "outputs": [
        {
          "output_type": "execute_result",
          "data": {
            "text/plain": [
              "(13440, 28)"
            ]
          },
          "metadata": {
            "tags": []
          },
          "execution_count": 21
        }
      ]
    },
    {
      "cell_type": "markdown",
      "metadata": {
        "id": "eM9GV8rFWG4n"
      },
      "source": [
        "### Building ANN Model "
      ]
    },
    {
      "cell_type": "code",
      "metadata": {
        "colab": {
          "base_uri": "https://localhost:8080/"
        },
        "id": "075FqlshnDqS",
        "outputId": "1c0c3cc4-4f32-46ad-be9e-45dc453529b8"
      },
      "source": [
        "history = model.fit_generator(datagen.flow(train_data,train_label, batch_size=100), validation_data=val_generator,\n",
        "                             epochs = 30, verbose = 2, steps_per_epoch=train_data.shape[0] // 100)"
      ],
      "execution_count": 22,
      "outputs": [
        {
          "output_type": "stream",
          "text": [
            "WARNING:tensorflow:From <ipython-input-22-41a7bbc9bde9>:2: Model.fit_generator (from tensorflow.python.keras.engine.training) is deprecated and will be removed in a future version.\n",
            "Instructions for updating:\n",
            "Please use Model.fit, which supports generators.\n",
            "Epoch 1/30\n",
            "134/134 - 4s - loss: 2.9119 - accuracy: 0.1679 - val_loss: 0.0000e+00 - val_accuracy: 0.0000e+00\n",
            "Epoch 2/30\n",
            "134/134 - 4s - loss: 2.4471 - accuracy: 0.2882 - val_loss: 0.0000e+00 - val_accuracy: 0.0000e+00\n",
            "Epoch 3/30\n",
            "134/134 - 4s - loss: 2.1365 - accuracy: 0.3653 - val_loss: 0.0000e+00 - val_accuracy: 0.0000e+00\n",
            "Epoch 4/30\n",
            "134/134 - 4s - loss: 1.9143 - accuracy: 0.4307 - val_loss: 0.0000e+00 - val_accuracy: 0.0000e+00\n",
            "Epoch 5/30\n",
            "134/134 - 4s - loss: 1.7265 - accuracy: 0.4738 - val_loss: 0.0000e+00 - val_accuracy: 0.0000e+00\n",
            "Epoch 6/30\n",
            "134/134 - 4s - loss: 1.5719 - accuracy: 0.5170 - val_loss: 0.0000e+00 - val_accuracy: 0.0000e+00\n",
            "Epoch 7/30\n",
            "134/134 - 4s - loss: 1.4639 - accuracy: 0.5465 - val_loss: 0.0000e+00 - val_accuracy: 0.0000e+00\n",
            "Epoch 8/30\n",
            "134/134 - 4s - loss: 1.3666 - accuracy: 0.5738 - val_loss: 0.0000e+00 - val_accuracy: 0.0000e+00\n",
            "Epoch 9/30\n",
            "134/134 - 4s - loss: 1.2962 - accuracy: 0.5955 - val_loss: 0.0000e+00 - val_accuracy: 0.0000e+00\n",
            "Epoch 10/30\n",
            "134/134 - 4s - loss: 1.2412 - accuracy: 0.6079 - val_loss: 0.0000e+00 - val_accuracy: 0.0000e+00\n",
            "Epoch 11/30\n",
            "134/134 - 4s - loss: 1.1824 - accuracy: 0.6277 - val_loss: 0.0000e+00 - val_accuracy: 0.0000e+00\n",
            "Epoch 12/30\n",
            "134/134 - 4s - loss: 1.1488 - accuracy: 0.6340 - val_loss: 0.0000e+00 - val_accuracy: 0.0000e+00\n",
            "Epoch 13/30\n",
            "134/134 - 4s - loss: 1.1017 - accuracy: 0.6501 - val_loss: 0.0000e+00 - val_accuracy: 0.0000e+00\n",
            "Epoch 14/30\n",
            "134/134 - 4s - loss: 1.0644 - accuracy: 0.6567 - val_loss: 0.0000e+00 - val_accuracy: 0.0000e+00\n",
            "Epoch 15/30\n",
            "134/134 - 4s - loss: 1.0349 - accuracy: 0.6678 - val_loss: 0.0000e+00 - val_accuracy: 0.0000e+00\n",
            "Epoch 16/30\n",
            "134/134 - 4s - loss: 1.0102 - accuracy: 0.6814 - val_loss: 0.0000e+00 - val_accuracy: 0.0000e+00\n",
            "Epoch 17/30\n",
            "134/134 - 4s - loss: 0.9865 - accuracy: 0.6834 - val_loss: 0.0000e+00 - val_accuracy: 0.0000e+00\n",
            "Epoch 18/30\n",
            "134/134 - 4s - loss: 0.9607 - accuracy: 0.6936 - val_loss: 0.0000e+00 - val_accuracy: 0.0000e+00\n",
            "Epoch 19/30\n",
            "134/134 - 4s - loss: 0.9374 - accuracy: 0.6990 - val_loss: 0.0000e+00 - val_accuracy: 0.0000e+00\n",
            "Epoch 20/30\n",
            "134/134 - 4s - loss: 0.9146 - accuracy: 0.7028 - val_loss: 0.0000e+00 - val_accuracy: 0.0000e+00\n",
            "Epoch 21/30\n",
            "134/134 - 4s - loss: 0.8995 - accuracy: 0.7116 - val_loss: 0.0000e+00 - val_accuracy: 0.0000e+00\n",
            "Epoch 22/30\n",
            "134/134 - 4s - loss: 0.8893 - accuracy: 0.7102 - val_loss: 0.0000e+00 - val_accuracy: 0.0000e+00\n",
            "Epoch 23/30\n",
            "134/134 - 4s - loss: 0.8694 - accuracy: 0.7182 - val_loss: 0.0000e+00 - val_accuracy: 0.0000e+00\n",
            "Epoch 24/30\n",
            "134/134 - 4s - loss: 0.8585 - accuracy: 0.7234 - val_loss: 0.0000e+00 - val_accuracy: 0.0000e+00\n",
            "Epoch 25/30\n",
            "134/134 - 4s - loss: 0.8530 - accuracy: 0.7217 - val_loss: 0.0000e+00 - val_accuracy: 0.0000e+00\n",
            "Epoch 26/30\n",
            "134/134 - 4s - loss: 0.8331 - accuracy: 0.7322 - val_loss: 0.0000e+00 - val_accuracy: 0.0000e+00\n",
            "Epoch 27/30\n",
            "134/134 - 4s - loss: 0.8238 - accuracy: 0.7325 - val_loss: 0.0000e+00 - val_accuracy: 0.0000e+00\n",
            "Epoch 28/30\n",
            "134/134 - 4s - loss: 0.8103 - accuracy: 0.7396 - val_loss: 0.0000e+00 - val_accuracy: 0.0000e+00\n",
            "Epoch 29/30\n",
            "134/134 - 4s - loss: 0.7935 - accuracy: 0.7445 - val_loss: 0.0000e+00 - val_accuracy: 0.0000e+00\n",
            "Epoch 30/30\n",
            "134/134 - 4s - loss: 0.7928 - accuracy: 0.7429 - val_loss: 0.0000e+00 - val_accuracy: 0.0000e+00\n"
          ],
          "name": "stdout"
        }
      ]
    },
    {
      "cell_type": "code",
      "metadata": {
        "id": "bkMtSArolHJo"
      },
      "source": [
        "predictions = model.predict(test_data)\n",
        "predictions = np.argmax(predictions,axis = 1)"
      ],
      "execution_count": 23,
      "outputs": []
    },
    {
      "cell_type": "markdown",
      "metadata": {
        "id": "eMq21xueqcgo"
      },
      "source": [
        "### Confusion matrix"
      ]
    },
    {
      "cell_type": "code",
      "metadata": {
        "id": "dl2SYvdKqgne"
      },
      "source": [
        "from sklearn.metrics import confusion_matrix"
      ],
      "execution_count": 24,
      "outputs": []
    },
    {
      "cell_type": "code",
      "metadata": {
        "id": "Zn-69c50qZTG"
      },
      "source": [
        "cm = confusion_matrix(test_label, predictions)"
      ],
      "execution_count": 25,
      "outputs": []
    },
    {
      "cell_type": "code",
      "metadata": {
        "colab": {
          "base_uri": "https://localhost:8080/"
        },
        "id": "531Jjp1ZqhvA",
        "outputId": "dbe0b398-3d11-41f0-e7ac-873c267216e3"
      },
      "source": [
        "accuracy = sum(cm[i][i] for i in range(28)) / test_label.shape[0]\n",
        "print(\"accuracy = \" + str(accuracy))"
      ],
      "execution_count": 26,
      "outputs": [
        {
          "output_type": "stream",
          "text": [
            "accuracy = 0.8041666666666667\n"
          ],
          "name": "stdout"
        }
      ]
    },
    {
      "cell_type": "code",
      "metadata": {
        "colab": {
          "base_uri": "https://localhost:8080/",
          "height": 295
        },
        "id": "ZHJjhv2nxSyr",
        "outputId": "b03ff411-3feb-43ea-dd0e-1dae3d3512c9"
      },
      "source": [
        "import keras\n",
        "from matplotlib import pyplot as plt\n",
        "plt.plot(history.history['accuracy'])\n",
        "plt.plot(history.history['val_accuracy'])\n",
        "plt.title('model accuracy')\n",
        "plt.ylabel('accuracy')\n",
        "plt.xlabel('epoch')\n",
        "plt.legend(['train', 'val'], loc='upper left')\n",
        "plt.show()\n"
      ],
      "execution_count": 27,
      "outputs": [
        {
          "output_type": "display_data",
          "data": {
            "image/png": "[encoded data removed]",
            "text/plain": [
              "<Figure size 432x288 with 1 Axes>"
            ]
          },
          "metadata": {
            "tags": [],
            "needs_background": "light"
          }
        }
      ]
    },
    {
      "cell_type": "code",
      "metadata": {
        "colab": {
          "base_uri": "https://localhost:8080/",
          "height": 295
        },
        "id": "GddbmFz7DoeV",
        "outputId": "4fc3b186-0fce-4266-ce96-4d09aeaf1b06"
      },
      "source": [
        "plt.plot(history.history['loss'])\n",
        "plt.plot(history.history['val_loss'])\n",
        "plt.title('model loss')\n",
        "plt.ylabel('loss')\n",
        "plt.xlabel('epoch')\n",
        "plt.legend(['train', 'val'], loc='upper left')\n",
        "plt.show()\n",
        "\n"
      ],
      "execution_count": 28,
      "outputs": [
        {
          "output_type": "display_data",
          "data": {
            "image/png": "[encoded data removed]",
            "text/plain": [
              "<Figure size 432x288 with 1 Axes>"
            ]
          },
          "metadata": {
            "tags": [],
            "needs_background": "light"
          }
        }
      ]
    },
    {
      "cell_type": "code",
      "metadata": {
        "colab": {
          "base_uri": "https://localhost:8080/"
        },
        "id": "_GaNu4dpRl-f",
        "outputId": "c81dd4c7-b099-47da-f0c2-6e6a283e21b7"
      },
      "source": [
        "from sklearn.metrics import precision_score, recall_score\n",
        "print('precision score - ',precision_score(test_label, predictions, average=\"macro\"))\n",
        "print('recall score - ', recall_score(test_label, predictions, average=\"macro\"))    \n"
      ],
      "execution_count": 29,
      "outputs": [
        {
          "output_type": "stream",
          "text": [
            "precision score -  0.8132597934953262\n",
            "recall score -  0.8041666666666668\n"
          ],
          "name": "stdout"
        }
      ]
    },
    {
      "cell_type": "markdown",
      "metadata": {
        "id": "7e_zLzAPWOU4"
      },
      "source": [
        "### Saving Model"
      ]
    },
    {
      "cell_type": "code",
      "metadata": {
        "colab": {
          "base_uri": "https://localhost:8080/"
        },
        "id": "OPr_2A2uTL7s",
        "outputId": "03373fc0-dc3b-42f1-bcca-1c2f81e1c1a5"
      },
      "source": [
        "# save the model to disk\n",
        "model.save('final_model')"
      ],
      "execution_count": 30,
      "outputs": [
        {
          "output_type": "stream",
          "text": [
            "WARNING:tensorflow:From /usr/local/lib/python3.6/dist-packages/tensorflow/python/training/tracking/tracking.py:111: Model.state_updates (from tensorflow.python.keras.engine.training) is deprecated and will be removed in a future version.\n",
            "Instructions for updating:\n",
            "This property should not be used in TensorFlow 2.0, as updates are applied automatically.\n",
            "WARNING:tensorflow:From /usr/local/lib/python3.6/dist-packages/tensorflow/python/training/tracking/tracking.py:111: Layer.updates (from tensorflow.python.keras.engine.base_layer) is deprecated and will be removed in a future version.\n",
            "Instructions for updating:\n",
            "This property should not be used in TensorFlow 2.0, as updates are applied automatically.\n",
            "INFO:tensorflow:Assets written to: final_model/assets\n"
          ],
          "name": "stdout"
        }
      ]
    },
    {
      "cell_type": "markdown",
      "metadata": {
        "id": "ftUJEPlkWQyd"
      },
      "source": [
        "### Loading Model"
      ]
    },
    {
      "cell_type": "code",
      "metadata": {
        "id": "M0MviW4rThxb"
      },
      "source": [
        "from tensorflow import keras\n",
        "model = keras.models.load_model('final_model')\n"
      ],
      "execution_count": 31,
      "outputs": []
    },
    {
      "cell_type": "code",
      "metadata": {
        "colab": {
          "base_uri": "https://localhost:8080/"
        },
        "id": "917Z4UmrV6of",
        "outputId": "12df55aa-a4f4-4f48-d857-4115e02599d1"
      },
      "source": [
        "model.summary()"
      ],
      "execution_count": 32,
      "outputs": [
        {
          "output_type": "stream",
          "text": [
            "Model: \"sequential\"\n",
            "_________________________________________________________________\n",
            "Layer (type)                 Output Shape              Param #   \n",
            "=================================================================\n",
            "flatten (Flatten)            (None, 1024)              0         \n",
            "_________________________________________________________________\n",
            "dense (Dense)                (None, 128)               131200    \n",
            "_________________________________________________________________\n",
            "dense_1 (Dense)              (None, 28)                3612      \n",
            "=================================================================\n",
            "Total params: 134,812\n",
            "Trainable params: 134,812\n",
            "Non-trainable params: 0\n",
            "_________________________________________________________________\n"
          ],
          "name": "stdout"
        }
      ]
    },
    {
      "cell_type": "markdown",
      "metadata": {
        "id": "QNnxS4yFOa5X"
      },
      "source": [
        "**0.8042**"
      ]
    },
    {
      "cell_type": "markdown",
      "metadata": {
        "id": "Yc88G3GYWZd4"
      },
      "source": [
        "# **Flower Recognition** "
      ]
    },
    {
      "cell_type": "markdown",
      "metadata": {
        "id": "JwQg1cnNWeys"
      },
      "source": [
        "### Importing necessary libraries"
      ]
    },
    {
      "cell_type": "code",
      "metadata": {
        "id": "xan33_g1Wi11"
      },
      "source": [
        "# Ignore  the warnings\n",
        "import warnings\n",
        "warnings.filterwarnings('always')\n",
        "warnings.filterwarnings('ignore')\n",
        "\n",
        "# data visualisation and manipulation\n",
        "import numpy as np\n",
        "import pandas as pd\n",
        "import matplotlib.pyplot as plt\n",
        "from matplotlib import style\n",
        "import seaborn as sns\n",
        " \n",
        "#configure\n",
        "# sets matplotlib to inline and displays graphs below the corressponding cell.\n",
        "%matplotlib inline  \n",
        "style.use('fivethirtyeight')\n",
        "sns.set(style='whitegrid',color_codes=True)\n",
        "\n",
        "#model selection\n",
        "from sklearn.model_selection import train_test_split\n",
        "from sklearn.model_selection import KFold\n",
        "from sklearn.metrics import accuracy_score,precision_score,recall_score,confusion_matrix,roc_curve,roc_auc_score\n",
        "from sklearn.model_selection import GridSearchCV\n",
        "from sklearn.preprocessing import LabelEncoder\n",
        "\n",
        "#preprocess.\n",
        "from keras.preprocessing.image import ImageDataGenerator\n",
        "\n",
        "#dl libraraies\n",
        "from keras import backend as K\n",
        "from keras.models import Sequential\n",
        "from keras.layers import Dense\n",
        "from keras.optimizers import Adam,SGD,Adagrad,Adadelta,RMSprop\n",
        "from keras.utils import to_categorical\n",
        "\n",
        "# specifically for cnn\n",
        "from keras.layers import Dropout, Flatten,Activation\n",
        "from keras.layers import Conv2D, MaxPooling2D, BatchNormalization\n",
        " \n",
        "import tensorflow as tf\n",
        "import random as rn\n",
        "\n",
        "# specifically for manipulating zipped images and getting numpy arrays of pixel values of images.\n",
        "import cv2                  \n",
        "import numpy as np  \n",
        "from tqdm import tqdm\n",
        "import os                   \n",
        "from random import shuffle  \n",
        "from zipfile import ZipFile\n",
        "from PIL import Image"
      ],
      "execution_count": 33,
      "outputs": []
    },
    {
      "cell_type": "code",
      "metadata": {
        "colab": {
          "base_uri": "https://localhost:8080/"
        },
        "id": "yKE_TWvjWtoM",
        "outputId": "46cabb98-4839-4a0e-ee2e-5de4be41d9dc"
      },
      "source": [
        "!wget http://upscfever.com/datasets/flowers-new.zip -P drive/app\n",
        "import os\n",
        "os.chdir('drive/app')  #change dir\n",
        "!unzip -q flowers-new.zip  #unzip data in test/\n"
      ],
      "execution_count": 34,
      "outputs": [
        {
          "output_type": "stream",
          "text": [
            "--2020-12-06 18:07:06--  http://upscfever.com/datasets/flowers-new.zip\n",
            "Resolving upscfever.com (upscfever.com)... 104.27.176.133, 104.27.177.133, 172.67.193.2, ...\n",
            "Connecting to upscfever.com (upscfever.com)|104.27.176.133|:80... connected.\n",
            "HTTP request sent, awaiting response... 301 Moved Permanently\n",
            "Location: https://upscfever.com/datasets/flowers-new.zip [following]\n",
            "--2020-12-06 18:07:07--  https://upscfever.com/datasets/flowers-new.zip\n",
            "Connecting to upscfever.com (upscfever.com)|104.27.176.133|:443... connected.\n",
            "HTTP request sent, awaiting response... 200 OK\n",
            "Length: unspecified [application/zip]\n",
            "Saving to: ‘drive/app/flowers-new.zip’\n",
            "\n",
            "flowers-new.zip         [          <=>       ]   5.74M  2.17MB/s    in 2.6s    \n",
            "\n",
            "2020-12-06 18:07:10 (2.17 MB/s) - ‘drive/app/flowers-new.zip’ saved [6021364]\n",
            "\n"
          ],
          "name": "stdout"
        }
      ]
    },
    {
      "cell_type": "markdown",
      "metadata": {
        "id": "-r6UyPMlW_3Q"
      },
      "source": [
        "### Making the functions to get the training and validation set from the Images"
      ]
    },
    {
      "cell_type": "code",
      "metadata": {
        "id": "UQ5sDzfMXBeb"
      },
      "source": [
        "X=[]\n",
        "Z=[]\n",
        "IMG_SIZE=150\n",
        "FLOWER_DAISY_DIR='flowers/daisy'\n",
        "FLOWER_SUNFLOWER_DIR='flowers/sunflower'\n",
        "FLOWER_TULIP_DIR='flowers/tulip'\n",
        "FLOWER_DANDI_DIR='flowers/dandelion'\n",
        "FLOWER_ROSE_DIR='flowers/rose'"
      ],
      "execution_count": 35,
      "outputs": []
    },
    {
      "cell_type": "code",
      "metadata": {
        "id": "YQNzla5-XF1k"
      },
      "source": [
        "def assign_label(img,flower_type):\n",
        "    return flower_type\n",
        "    "
      ],
      "execution_count": 36,
      "outputs": []
    },
    {
      "cell_type": "code",
      "metadata": {
        "id": "aJKgnZIEXI67"
      },
      "source": [
        "def make_train_data(flower_type,DIR):\n",
        "    for img in tqdm(os.listdir(DIR)):\n",
        "        label=assign_label(img,flower_type)\n",
        "        path = os.path.join(DIR,img)\n",
        "        img = cv2.imread(path,cv2.IMREAD_COLOR)\n",
        "        img = cv2.resize(img, (IMG_SIZE,IMG_SIZE))\n",
        "        \n",
        "        X.append(np.array(img))\n",
        "        Z.append(str(label))\n",
        "        \n",
        "        \n",
        "        "
      ],
      "execution_count": 37,
      "outputs": []
    },
    {
      "cell_type": "code",
      "metadata": {
        "id": "9hn_RjL29ze_",
        "trusted": false,
        "_uuid": "46034734b447b127ce033705f44a01e7806a8990",
        "colab": {
          "base_uri": "https://localhost:8080/"
        },
        "outputId": "21d0c91d-6373-416d-804e-1521f853a65d"
      },
      "source": [
        "make_train_data('Daisy',FLOWER_DAISY_DIR)\n",
        "print(len(X))"
      ],
      "execution_count": 38,
      "outputs": [
        {
          "output_type": "stream",
          "text": [
            "100%|██████████| 13/13 [00:00<00:00, 217.44it/s]"
          ],
          "name": "stderr"
        },
        {
          "output_type": "stream",
          "text": [
            "13\n"
          ],
          "name": "stdout"
        },
        {
          "output_type": "stream",
          "text": [
            "\n"
          ],
          "name": "stderr"
        }
      ]
    },
    {
      "cell_type": "code",
      "metadata": {
        "id": "KgYj8x-H9zfL",
        "trusted": false,
        "_uuid": "fef985e030d09df0762031cd2ec4b009a1f7711a",
        "colab": {
          "base_uri": "https://localhost:8080/"
        },
        "outputId": "42035b74-4dbd-43ec-b6a6-08a286dc3007"
      },
      "source": [
        "make_train_data('Dandelion',FLOWER_DANDI_DIR)\n",
        "print(len(X))"
      ],
      "execution_count": 39,
      "outputs": [
        {
          "output_type": "stream",
          "text": [
            "100%|██████████| 26/26 [00:00<00:00, 398.08it/s]"
          ],
          "name": "stderr"
        },
        {
          "output_type": "stream",
          "text": [
            "39\n"
          ],
          "name": "stdout"
        },
        {
          "output_type": "stream",
          "text": [
            "\n"
          ],
          "name": "stderr"
        }
      ]
    },
    {
      "cell_type": "code",
      "metadata": {
        "id": "GkL2oDDrWz_a",
        "colab": {
          "base_uri": "https://localhost:8080/"
        },
        "outputId": "7a1783f0-2fd0-4d36-c05e-3f122a05dd7e"
      },
      "source": [
        "make_train_data('Sunflower',FLOWER_SUNFLOWER_DIR)\n",
        "print(len(X))"
      ],
      "execution_count": 40,
      "outputs": [
        {
          "output_type": "stream",
          "text": [
            "100%|██████████| 26/26 [00:00<00:00, 369.67it/s]"
          ],
          "name": "stderr"
        },
        {
          "output_type": "stream",
          "text": [
            "65\n"
          ],
          "name": "stdout"
        },
        {
          "output_type": "stream",
          "text": [
            "\n"
          ],
          "name": "stderr"
        }
      ]
    },
    {
      "cell_type": "code",
      "metadata": {
        "id": "z7oL75D4W0I5",
        "colab": {
          "base_uri": "https://localhost:8080/"
        },
        "outputId": "116919a7-cbb3-414e-e379-215b932da800"
      },
      "source": [
        "make_train_data('Tulip',FLOWER_TULIP_DIR)\n",
        "print(len(X))"
      ],
      "execution_count": 41,
      "outputs": [
        {
          "output_type": "stream",
          "text": [
            "100%|██████████| 26/26 [00:00<00:00, 420.81it/s]"
          ],
          "name": "stderr"
        },
        {
          "output_type": "stream",
          "text": [
            "91\n"
          ],
          "name": "stdout"
        },
        {
          "output_type": "stream",
          "text": [
            "\n"
          ],
          "name": "stderr"
        }
      ]
    },
    {
      "cell_type": "code",
      "metadata": {
        "id": "fO0QLYDWW0V1",
        "colab": {
          "base_uri": "https://localhost:8080/"
        },
        "outputId": "efe01eda-9b3c-4a51-884f-db8d69db058e"
      },
      "source": [
        "make_train_data('Rose',FLOWER_ROSE_DIR)\n",
        "print(len(X))"
      ],
      "execution_count": 42,
      "outputs": [
        {
          "output_type": "stream",
          "text": [
            "100%|██████████| 26/26 [00:00<00:00, 360.79it/s]"
          ],
          "name": "stderr"
        },
        {
          "output_type": "stream",
          "text": [
            "117\n"
          ],
          "name": "stdout"
        },
        {
          "output_type": "stream",
          "text": [
            "\n"
          ],
          "name": "stderr"
        }
      ]
    },
    {
      "cell_type": "markdown",
      "metadata": {
        "id": "mAYo_ZB3XTDv"
      },
      "source": [
        "### Label Encoding the Y array (i.e. Daisy->0, Rose->1 etc...) & then One Hot Encoding"
      ]
    },
    {
      "cell_type": "code",
      "metadata": {
        "id": "vDeGvCQdXVFf"
      },
      "source": [
        "le=LabelEncoder()\n",
        "Y=le.fit_transform(Z)\n",
        "Y=to_categorical(Y,5)\n",
        "X=np.array(X)\n",
        "X=X/255"
      ],
      "execution_count": 43,
      "outputs": []
    },
    {
      "cell_type": "markdown",
      "metadata": {
        "id": "IGyqUZwWXaEt"
      },
      "source": [
        "### Splitting into Training and Validation Sets"
      ]
    },
    {
      "cell_type": "code",
      "metadata": {
        "id": "9gOIt4kvXgtR"
      },
      "source": [
        "x_train,x_test,y_train,y_test=train_test_split(X,Y,test_size=0.25,random_state=42)"
      ],
      "execution_count": 44,
      "outputs": []
    },
    {
      "cell_type": "markdown",
      "metadata": {
        "id": "voJEFrZDXurs"
      },
      "source": [
        "### Setting the Random Seeds"
      ]
    },
    {
      "cell_type": "code",
      "metadata": {
        "id": "UW62vt2SXxpf"
      },
      "source": [
        "np.random.seed(42)\n",
        "rn.seed(42)\n"
      ],
      "execution_count": 45,
      "outputs": []
    },
    {
      "cell_type": "markdown",
      "metadata": {
        "id": "v9xQPDv7YOY4"
      },
      "source": [
        "### Building the ANN"
      ]
    },
    {
      "cell_type": "code",
      "metadata": {
        "id": "JR52avV3R1wl"
      },
      "source": [
        "from keras import models\n",
        "from keras import layers\n",
        "from keras import optimizers\n",
        "from keras.utils import to_categorical\n",
        "from keras.callbacks import EarlyStopping\n",
        "from keras.callbacks import ModelCheckpoint\n",
        "from keras.models import load_model\n",
        "from sklearn.preprocessing import LabelEncoder, StandardScaler"
      ],
      "execution_count": 68,
      "outputs": []
    },
    {
      "cell_type": "code",
      "metadata": {
        "colab": {
          "base_uri": "https://localhost:8080/"
        },
        "id": "X-ff7doyR5DW",
        "outputId": "fedd4e84-4d17-4c77-dea4-166b444f8cc1"
      },
      "source": [
        "nn = models.Sequential()\n",
        "nn.add(layers.Flatten(input_shape=(150,150,3)))\n",
        "nn.add(layers.Dense(1024, activation=\"relu\"))\n",
        "nn.add(layers.Dense(512, activation=\"relu\"))\n",
        "nn.add(layers.Dense(128, activation=\"relu\"))\n",
        "nn.add(layers.Dense(64, activation=\"relu\"))\n",
        "nn.add(layers.Dense(5, activation=\"softmax\"))\n",
        "\n",
        "nn.summary()"
      ],
      "execution_count": 69,
      "outputs": [
        {
          "output_type": "stream",
          "text": [
            "Model: \"sequential_2\"\n",
            "_________________________________________________________________\n",
            "Layer (type)                 Output Shape              Param #   \n",
            "=================================================================\n",
            "flatten_2 (Flatten)          (None, 67500)             0         \n",
            "_________________________________________________________________\n",
            "dense_4 (Dense)              (None, 1024)              69121024  \n",
            "_________________________________________________________________\n",
            "dense_5 (Dense)              (None, 512)               524800    \n",
            "_________________________________________________________________\n",
            "dense_6 (Dense)              (None, 128)               65664     \n",
            "_________________________________________________________________\n",
            "dense_7 (Dense)              (None, 64)                8256      \n",
            "_________________________________________________________________\n",
            "dense_8 (Dense)              (None, 5)                 325       \n",
            "=================================================================\n",
            "Total params: 69,720,069\n",
            "Trainable params: 69,720,069\n",
            "Non-trainable params: 0\n",
            "_________________________________________________________________\n"
          ],
          "name": "stdout"
        }
      ]
    },
    {
      "cell_type": "markdown",
      "metadata": {
        "id": "A_31Pa4ZSDzQ"
      },
      "source": [
        "# Using callbacks"
      ]
    },
    {
      "cell_type": "code",
      "metadata": {
        "id": "OkFJE_xJR8O1"
      },
      "source": [
        "nn.compile(optimizer=\"adam\",\n",
        "           loss='categorical_crossentropy',\n",
        "           metrics = ['accuracy'])\n",
        "es = EarlyStopping(monitor='val_loss', mode='min', verbose=1, patience=200)\n",
        "mc = ModelCheckpoint('best_model.h5', monitor='val_accuracy', mode='max', verbose=1, save_best_only=True)"
      ],
      "execution_count": 70,
      "outputs": []
    },
    {
      "cell_type": "code",
      "metadata": {
        "colab": {
          "base_uri": "https://localhost:8080/"
        },
        "id": "PEyPoh8NSmGu",
        "outputId": "ba71943c-ae6e-41d9-89bb-b0ec961eb777"
      },
      "source": [
        "history = nn.fit(x_train,y_train, epochs=5000, batch_size = 10, validation_split=0.20, verbose=2, callbacks=[es, mc])"
      ],
      "execution_count": 71,
      "outputs": [
        {
          "output_type": "stream",
          "text": [
            "Epoch 1/5000\n",
            "WARNING:tensorflow:Callbacks method `on_train_batch_end` is slow compared to the batch time (batch time: 0.0042s vs `on_train_batch_end` time: 0.0126s). Check your callbacks.\n",
            "\n",
            "Epoch 00001: val_accuracy improved from -inf to 0.11111, saving model to best_model.h5\n",
            "7/7 - 3s - loss: 36.9254 - accuracy: 0.2029 - val_loss: 26.1832 - val_accuracy: 0.1111\n",
            "Epoch 2/5000\n",
            "\n",
            "Epoch 00002: val_accuracy improved from 0.11111 to 0.38889, saving model to best_model.h5\n",
            "7/7 - 6s - loss: 24.6655 - accuracy: 0.2754 - val_loss: 3.9616 - val_accuracy: 0.3889\n",
            "Epoch 3/5000\n",
            "\n",
            "Epoch 00003: val_accuracy did not improve from 0.38889\n",
            "7/7 - 0s - loss: 11.5956 - accuracy: 0.2174 - val_loss: 7.2719 - val_accuracy: 0.2222\n",
            "Epoch 4/5000\n",
            "\n",
            "Epoch 00004: val_accuracy did not improve from 0.38889\n",
            "7/7 - 0s - loss: 7.6385 - accuracy: 0.3043 - val_loss: 5.4994 - val_accuracy: 0.3889\n",
            "Epoch 5/5000\n",
            "\n",
            "Epoch 00005: val_accuracy did not improve from 0.38889\n",
            "7/7 - 0s - loss: 3.5576 - accuracy: 0.4783 - val_loss: 2.9797 - val_accuracy: 0.2222\n",
            "Epoch 6/5000\n",
            "\n",
            "Epoch 00006: val_accuracy did not improve from 0.38889\n",
            "7/7 - 0s - loss: 2.2549 - accuracy: 0.5942 - val_loss: 2.4635 - val_accuracy: 0.2222\n",
            "Epoch 7/5000\n",
            "\n",
            "Epoch 00007: val_accuracy did not improve from 0.38889\n",
            "7/7 - 0s - loss: 2.1911 - accuracy: 0.5942 - val_loss: 3.7718 - val_accuracy: 0.3333\n",
            "Epoch 8/5000\n",
            "\n",
            "Epoch 00008: val_accuracy improved from 0.38889 to 0.44444, saving model to best_model.h5\n",
            "7/7 - 24s - loss: 2.3402 - accuracy: 0.6087 - val_loss: 2.5107 - val_accuracy: 0.4444\n",
            "Epoch 9/5000\n",
            "\n",
            "Epoch 00009: val_accuracy did not improve from 0.44444\n",
            "7/7 - 0s - loss: 1.2705 - accuracy: 0.6667 - val_loss: 2.4505 - val_accuracy: 0.2778\n",
            "Epoch 10/5000\n",
            "\n",
            "Epoch 00010: val_accuracy did not improve from 0.44444\n",
            "7/7 - 0s - loss: 1.0727 - accuracy: 0.7246 - val_loss: 2.8507 - val_accuracy: 0.4444\n",
            "Epoch 11/5000\n",
            "\n",
            "Epoch 00011: val_accuracy improved from 0.44444 to 0.50000, saving model to best_model.h5\n",
            "7/7 - 17s - loss: 0.7811 - accuracy: 0.7536 - val_loss: 2.5599 - val_accuracy: 0.5000\n",
            "Epoch 12/5000\n",
            "\n",
            "Epoch 00012: val_accuracy did not improve from 0.50000\n",
            "7/7 - 0s - loss: 0.8588 - accuracy: 0.7826 - val_loss: 2.0387 - val_accuracy: 0.5000\n",
            "Epoch 13/5000\n",
            "\n",
            "Epoch 00013: val_accuracy did not improve from 0.50000\n",
            "7/7 - 0s - loss: 0.7389 - accuracy: 0.8116 - val_loss: 3.1005 - val_accuracy: 0.5000\n",
            "Epoch 14/5000\n",
            "\n",
            "Epoch 00014: val_accuracy did not improve from 0.50000\n",
            "7/7 - 0s - loss: 0.7817 - accuracy: 0.7826 - val_loss: 2.2021 - val_accuracy: 0.4444\n",
            "Epoch 15/5000\n",
            "\n",
            "Epoch 00015: val_accuracy improved from 0.50000 to 0.61111, saving model to best_model.h5\n",
            "7/7 - 22s - loss: 0.4767 - accuracy: 0.9565 - val_loss: 2.3886 - val_accuracy: 0.6111\n",
            "Epoch 16/5000\n",
            "\n",
            "Epoch 00016: val_accuracy did not improve from 0.61111\n",
            "7/7 - 0s - loss: 0.2049 - accuracy: 0.9130 - val_loss: 3.2158 - val_accuracy: 0.5556\n",
            "Epoch 17/5000\n",
            "\n",
            "Epoch 00017: val_accuracy did not improve from 0.61111\n",
            "7/7 - 0s - loss: 1.8134 - accuracy: 0.7536 - val_loss: 2.3691 - val_accuracy: 0.5556\n",
            "Epoch 18/5000\n",
            "\n",
            "Epoch 00018: val_accuracy did not improve from 0.61111\n",
            "7/7 - 0s - loss: 1.1655 - accuracy: 0.7971 - val_loss: 3.0305 - val_accuracy: 0.5556\n",
            "Epoch 19/5000\n",
            "\n",
            "Epoch 00019: val_accuracy did not improve from 0.61111\n",
            "7/7 - 0s - loss: 0.8876 - accuracy: 0.8406 - val_loss: 3.3598 - val_accuracy: 0.5556\n",
            "Epoch 20/5000\n",
            "\n",
            "Epoch 00020: val_accuracy did not improve from 0.61111\n",
            "7/7 - 0s - loss: 0.6607 - accuracy: 0.8551 - val_loss: 3.9646 - val_accuracy: 0.3333\n",
            "Epoch 21/5000\n",
            "\n",
            "Epoch 00021: val_accuracy did not improve from 0.61111\n",
            "7/7 - 0s - loss: 0.6757 - accuracy: 0.8551 - val_loss: 3.4409 - val_accuracy: 0.5000\n",
            "Epoch 22/5000\n",
            "\n",
            "Epoch 00022: val_accuracy did not improve from 0.61111\n",
            "7/7 - 0s - loss: 0.3441 - accuracy: 0.8696 - val_loss: 5.0517 - val_accuracy: 0.2778\n",
            "Epoch 23/5000\n",
            "\n",
            "Epoch 00023: val_accuracy did not improve from 0.61111\n",
            "7/7 - 0s - loss: 0.8953 - accuracy: 0.8261 - val_loss: 4.1833 - val_accuracy: 0.5556\n",
            "Epoch 24/5000\n",
            "\n",
            "Epoch 00024: val_accuracy did not improve from 0.61111\n",
            "7/7 - 0s - loss: 0.4427 - accuracy: 0.8986 - val_loss: 2.8544 - val_accuracy: 0.4444\n",
            "Epoch 25/5000\n",
            "\n",
            "Epoch 00025: val_accuracy did not improve from 0.61111\n",
            "7/7 - 0s - loss: 0.3125 - accuracy: 0.8696 - val_loss: 3.1059 - val_accuracy: 0.4444\n",
            "Epoch 26/5000\n",
            "\n",
            "Epoch 00026: val_accuracy did not improve from 0.61111\n",
            "7/7 - 0s - loss: 0.1495 - accuracy: 0.9565 - val_loss: 3.5512 - val_accuracy: 0.2778\n",
            "Epoch 27/5000\n",
            "\n",
            "Epoch 00027: val_accuracy did not improve from 0.61111\n",
            "7/7 - 0s - loss: 0.2216 - accuracy: 0.9710 - val_loss: 2.6779 - val_accuracy: 0.5556\n",
            "Epoch 28/5000\n",
            "\n",
            "Epoch 00028: val_accuracy did not improve from 0.61111\n",
            "7/7 - 0s - loss: 0.1718 - accuracy: 0.9420 - val_loss: 2.7765 - val_accuracy: 0.2778\n",
            "Epoch 29/5000\n",
            "\n",
            "Epoch 00029: val_accuracy did not improve from 0.61111\n",
            "7/7 - 0s - loss: 0.0370 - accuracy: 0.9855 - val_loss: 2.6213 - val_accuracy: 0.5000\n",
            "Epoch 30/5000\n",
            "\n",
            "Epoch 00030: val_accuracy did not improve from 0.61111\n",
            "7/7 - 0s - loss: 0.0664 - accuracy: 0.9855 - val_loss: 2.5198 - val_accuracy: 0.3889\n",
            "Epoch 31/5000\n",
            "\n",
            "Epoch 00031: val_accuracy did not improve from 0.61111\n",
            "7/7 - 0s - loss: 0.0162 - accuracy: 1.0000 - val_loss: 2.3968 - val_accuracy: 0.4444\n",
            "Epoch 32/5000\n",
            "\n",
            "Epoch 00032: val_accuracy did not improve from 0.61111\n",
            "7/7 - 0s - loss: 0.0048 - accuracy: 1.0000 - val_loss: 2.5385 - val_accuracy: 0.5000\n",
            "Epoch 33/5000\n",
            "\n",
            "Epoch 00033: val_accuracy did not improve from 0.61111\n",
            "7/7 - 0s - loss: 0.0086 - accuracy: 1.0000 - val_loss: 2.6644 - val_accuracy: 0.5556\n",
            "Epoch 34/5000\n",
            "\n",
            "Epoch 00034: val_accuracy did not improve from 0.61111\n",
            "7/7 - 0s - loss: 0.0027 - accuracy: 1.0000 - val_loss: 2.8019 - val_accuracy: 0.5000\n",
            "Epoch 35/5000\n",
            "\n",
            "Epoch 00035: val_accuracy did not improve from 0.61111\n",
            "7/7 - 0s - loss: 0.0035 - accuracy: 1.0000 - val_loss: 2.7920 - val_accuracy: 0.5000\n",
            "Epoch 36/5000\n",
            "\n",
            "Epoch 00036: val_accuracy did not improve from 0.61111\n",
            "7/7 - 0s - loss: 0.0028 - accuracy: 1.0000 - val_loss: 2.7796 - val_accuracy: 0.5000\n",
            "Epoch 37/5000\n",
            "\n",
            "Epoch 00037: val_accuracy did not improve from 0.61111\n",
            "7/7 - 0s - loss: 0.0017 - accuracy: 1.0000 - val_loss: 2.7810 - val_accuracy: 0.5000\n",
            "Epoch 38/5000\n",
            "\n",
            "Epoch 00038: val_accuracy did not improve from 0.61111\n",
            "7/7 - 0s - loss: 0.0014 - accuracy: 1.0000 - val_loss: 2.7797 - val_accuracy: 0.5556\n",
            "Epoch 39/5000\n",
            "\n",
            "Epoch 00039: val_accuracy did not improve from 0.61111\n",
            "7/7 - 0s - loss: 0.0012 - accuracy: 1.0000 - val_loss: 2.8051 - val_accuracy: 0.5556\n",
            "Epoch 40/5000\n",
            "\n",
            "Epoch 00040: val_accuracy did not improve from 0.61111\n",
            "7/7 - 0s - loss: 0.0011 - accuracy: 1.0000 - val_loss: 2.8064 - val_accuracy: 0.5556\n",
            "Epoch 41/5000\n",
            "\n",
            "Epoch 00041: val_accuracy did not improve from 0.61111\n",
            "7/7 - 0s - loss: 9.9392e-04 - accuracy: 1.0000 - val_loss: 2.8535 - val_accuracy: 0.5556\n",
            "Epoch 42/5000\n",
            "\n",
            "Epoch 00042: val_accuracy did not improve from 0.61111\n",
            "7/7 - 0s - loss: 9.5488e-04 - accuracy: 1.0000 - val_loss: 2.8751 - val_accuracy: 0.5556\n",
            "Epoch 43/5000\n",
            "\n",
            "Epoch 00043: val_accuracy did not improve from 0.61111\n",
            "7/7 - 0s - loss: 8.4094e-04 - accuracy: 1.0000 - val_loss: 2.8717 - val_accuracy: 0.5556\n",
            "Epoch 44/5000\n",
            "\n",
            "Epoch 00044: val_accuracy did not improve from 0.61111\n",
            "7/7 - 0s - loss: 7.3895e-04 - accuracy: 1.0000 - val_loss: 2.9247 - val_accuracy: 0.5556\n",
            "Epoch 45/5000\n",
            "\n",
            "Epoch 00045: val_accuracy did not improve from 0.61111\n",
            "7/7 - 0s - loss: 7.1455e-04 - accuracy: 1.0000 - val_loss: 2.9226 - val_accuracy: 0.5556\n",
            "Epoch 46/5000\n",
            "\n",
            "Epoch 00046: val_accuracy did not improve from 0.61111\n",
            "7/7 - 0s - loss: 6.3208e-04 - accuracy: 1.0000 - val_loss: 2.9501 - val_accuracy: 0.5556\n",
            "Epoch 47/5000\n",
            "\n",
            "Epoch 00047: val_accuracy did not improve from 0.61111\n",
            "7/7 - 0s - loss: 5.9624e-04 - accuracy: 1.0000 - val_loss: 2.9493 - val_accuracy: 0.5556\n",
            "Epoch 48/5000\n",
            "\n",
            "Epoch 00048: val_accuracy did not improve from 0.61111\n",
            "7/7 - 0s - loss: 5.5735e-04 - accuracy: 1.0000 - val_loss: 2.9609 - val_accuracy: 0.5556\n",
            "Epoch 49/5000\n",
            "\n",
            "Epoch 00049: val_accuracy did not improve from 0.61111\n",
            "7/7 - 0s - loss: 5.1367e-04 - accuracy: 1.0000 - val_loss: 2.9825 - val_accuracy: 0.5556\n",
            "Epoch 50/5000\n",
            "\n",
            "Epoch 00050: val_accuracy did not improve from 0.61111\n",
            "7/7 - 0s - loss: 4.8746e-04 - accuracy: 1.0000 - val_loss: 2.9922 - val_accuracy: 0.5556\n",
            "Epoch 51/5000\n",
            "\n",
            "Epoch 00051: val_accuracy did not improve from 0.61111\n",
            "7/7 - 0s - loss: 4.5877e-04 - accuracy: 1.0000 - val_loss: 3.0185 - val_accuracy: 0.5556\n",
            "Epoch 52/5000\n",
            "\n",
            "Epoch 00052: val_accuracy did not improve from 0.61111\n",
            "7/7 - 0s - loss: 4.3375e-04 - accuracy: 1.0000 - val_loss: 3.0253 - val_accuracy: 0.5556\n",
            "Epoch 53/5000\n",
            "\n",
            "Epoch 00053: val_accuracy did not improve from 0.61111\n",
            "7/7 - 0s - loss: 4.1050e-04 - accuracy: 1.0000 - val_loss: 3.0409 - val_accuracy: 0.5556\n",
            "Epoch 54/5000\n",
            "\n",
            "Epoch 00054: val_accuracy did not improve from 0.61111\n",
            "7/7 - 0s - loss: 3.8560e-04 - accuracy: 1.0000 - val_loss: 3.0613 - val_accuracy: 0.5556\n",
            "Epoch 55/5000\n",
            "\n",
            "Epoch 00055: val_accuracy did not improve from 0.61111\n",
            "7/7 - 0s - loss: 3.6698e-04 - accuracy: 1.0000 - val_loss: 3.0693 - val_accuracy: 0.5556\n",
            "Epoch 56/5000\n",
            "\n",
            "Epoch 00056: val_accuracy did not improve from 0.61111\n",
            "7/7 - 0s - loss: 3.4376e-04 - accuracy: 1.0000 - val_loss: 3.0953 - val_accuracy: 0.5556\n",
            "Epoch 57/5000\n",
            "\n",
            "Epoch 00057: val_accuracy did not improve from 0.61111\n",
            "7/7 - 0s - loss: 3.2890e-04 - accuracy: 1.0000 - val_loss: 3.1097 - val_accuracy: 0.5556\n",
            "Epoch 58/5000\n",
            "\n",
            "Epoch 00058: val_accuracy did not improve from 0.61111\n",
            "7/7 - 0s - loss: 3.1427e-04 - accuracy: 1.0000 - val_loss: 3.1268 - val_accuracy: 0.5556\n",
            "Epoch 59/5000\n",
            "\n",
            "Epoch 00059: val_accuracy did not improve from 0.61111\n",
            "7/7 - 0s - loss: 2.9844e-04 - accuracy: 1.0000 - val_loss: 3.1389 - val_accuracy: 0.5556\n",
            "Epoch 60/5000\n",
            "\n",
            "Epoch 00060: val_accuracy did not improve from 0.61111\n",
            "7/7 - 0s - loss: 2.8391e-04 - accuracy: 1.0000 - val_loss: 3.1347 - val_accuracy: 0.5556\n",
            "Epoch 61/5000\n",
            "\n",
            "Epoch 00061: val_accuracy did not improve from 0.61111\n",
            "7/7 - 0s - loss: 2.5680e-04 - accuracy: 1.0000 - val_loss: 3.1085 - val_accuracy: 0.5556\n",
            "Epoch 62/5000\n",
            "\n",
            "Epoch 00062: val_accuracy did not improve from 0.61111\n",
            "7/7 - 0s - loss: 2.3954e-04 - accuracy: 1.0000 - val_loss: 3.1813 - val_accuracy: 0.5556\n",
            "Epoch 63/5000\n",
            "\n",
            "Epoch 00063: val_accuracy did not improve from 0.61111\n",
            "7/7 - 0s - loss: 2.2103e-04 - accuracy: 1.0000 - val_loss: 3.2417 - val_accuracy: 0.5556\n",
            "Epoch 64/5000\n",
            "\n",
            "Epoch 00064: val_accuracy did not improve from 0.61111\n",
            "7/7 - 0s - loss: 2.2021e-04 - accuracy: 1.0000 - val_loss: 3.2568 - val_accuracy: 0.5556\n",
            "Epoch 65/5000\n",
            "\n",
            "Epoch 00065: val_accuracy did not improve from 0.61111\n",
            "7/7 - 0s - loss: 1.9777e-04 - accuracy: 1.0000 - val_loss: 3.2289 - val_accuracy: 0.5556\n",
            "Epoch 66/5000\n",
            "\n",
            "Epoch 00066: val_accuracy did not improve from 0.61111\n",
            "7/7 - 0s - loss: 1.8626e-04 - accuracy: 1.0000 - val_loss: 3.2849 - val_accuracy: 0.5556\n",
            "Epoch 67/5000\n",
            "\n",
            "Epoch 00067: val_accuracy did not improve from 0.61111\n",
            "7/7 - 0s - loss: 1.7606e-04 - accuracy: 1.0000 - val_loss: 3.2871 - val_accuracy: 0.5556\n",
            "Epoch 68/5000\n",
            "\n",
            "Epoch 00068: val_accuracy did not improve from 0.61111\n",
            "7/7 - 0s - loss: 1.6516e-04 - accuracy: 1.0000 - val_loss: 3.3040 - val_accuracy: 0.5556\n",
            "Epoch 69/5000\n",
            "\n",
            "Epoch 00069: val_accuracy did not improve from 0.61111\n",
            "7/7 - 0s - loss: 1.5784e-04 - accuracy: 1.0000 - val_loss: 3.3458 - val_accuracy: 0.5556\n",
            "Epoch 70/5000\n",
            "\n",
            "Epoch 00070: val_accuracy did not improve from 0.61111\n",
            "7/7 - 0s - loss: 1.4857e-04 - accuracy: 1.0000 - val_loss: 3.4094 - val_accuracy: 0.5556\n",
            "Epoch 71/5000\n",
            "\n",
            "Epoch 00071: val_accuracy did not improve from 0.61111\n",
            "7/7 - 0s - loss: 1.4176e-04 - accuracy: 1.0000 - val_loss: 3.3976 - val_accuracy: 0.5556\n",
            "Epoch 72/5000\n",
            "\n",
            "Epoch 00072: val_accuracy did not improve from 0.61111\n",
            "7/7 - 0s - loss: 1.3167e-04 - accuracy: 1.0000 - val_loss: 3.3998 - val_accuracy: 0.5556\n",
            "Epoch 73/5000\n",
            "\n",
            "Epoch 00073: val_accuracy did not improve from 0.61111\n",
            "7/7 - 0s - loss: 1.2294e-04 - accuracy: 1.0000 - val_loss: 3.4687 - val_accuracy: 0.5556\n",
            "Epoch 74/5000\n",
            "\n",
            "Epoch 00074: val_accuracy did not improve from 0.61111\n",
            "7/7 - 0s - loss: 1.1436e-04 - accuracy: 1.0000 - val_loss: 3.4808 - val_accuracy: 0.5556\n",
            "Epoch 75/5000\n",
            "\n",
            "Epoch 00075: val_accuracy did not improve from 0.61111\n",
            "7/7 - 0s - loss: 1.0705e-04 - accuracy: 1.0000 - val_loss: 3.4905 - val_accuracy: 0.5556\n",
            "Epoch 76/5000\n",
            "\n",
            "Epoch 00076: val_accuracy did not improve from 0.61111\n",
            "7/7 - 0s - loss: 1.0157e-04 - accuracy: 1.0000 - val_loss: 3.5306 - val_accuracy: 0.5556\n",
            "Epoch 77/5000\n",
            "\n",
            "Epoch 00077: val_accuracy did not improve from 0.61111\n",
            "7/7 - 0s - loss: 9.3652e-05 - accuracy: 1.0000 - val_loss: 3.5718 - val_accuracy: 0.5556\n",
            "Epoch 78/5000\n",
            "\n",
            "Epoch 00078: val_accuracy did not improve from 0.61111\n",
            "7/7 - 0s - loss: 9.6260e-05 - accuracy: 1.0000 - val_loss: 3.6076 - val_accuracy: 0.5556\n",
            "Epoch 79/5000\n",
            "\n",
            "Epoch 00079: val_accuracy did not improve from 0.61111\n",
            "7/7 - 0s - loss: 8.2713e-05 - accuracy: 1.0000 - val_loss: 3.5958 - val_accuracy: 0.5556\n",
            "Epoch 80/5000\n",
            "\n",
            "Epoch 00080: val_accuracy did not improve from 0.61111\n",
            "7/7 - 0s - loss: 9.4806e-05 - accuracy: 1.0000 - val_loss: 3.5973 - val_accuracy: 0.5556\n",
            "Epoch 81/5000\n",
            "\n",
            "Epoch 00081: val_accuracy did not improve from 0.61111\n",
            "7/7 - 0s - loss: 8.2682e-05 - accuracy: 1.0000 - val_loss: 3.5584 - val_accuracy: 0.5556\n",
            "Epoch 82/5000\n",
            "\n",
            "Epoch 00082: val_accuracy did not improve from 0.61111\n",
            "7/7 - 0s - loss: 7.8168e-05 - accuracy: 1.0000 - val_loss: 3.6181 - val_accuracy: 0.5556\n",
            "Epoch 83/5000\n",
            "\n",
            "Epoch 00083: val_accuracy did not improve from 0.61111\n",
            "7/7 - 0s - loss: 7.4900e-05 - accuracy: 1.0000 - val_loss: 3.6334 - val_accuracy: 0.5556\n",
            "Epoch 84/5000\n",
            "\n",
            "Epoch 00084: val_accuracy did not improve from 0.61111\n",
            "7/7 - 0s - loss: 6.8993e-05 - accuracy: 1.0000 - val_loss: 3.6704 - val_accuracy: 0.5556\n",
            "Epoch 85/5000\n",
            "\n",
            "Epoch 00085: val_accuracy did not improve from 0.61111\n",
            "7/7 - 0s - loss: 6.4134e-05 - accuracy: 1.0000 - val_loss: 3.7086 - val_accuracy: 0.5556\n",
            "Epoch 86/5000\n",
            "\n",
            "Epoch 00086: val_accuracy did not improve from 0.61111\n",
            "7/7 - 0s - loss: 5.9989e-05 - accuracy: 1.0000 - val_loss: 3.7300 - val_accuracy: 0.5556\n",
            "Epoch 87/5000\n",
            "\n",
            "Epoch 00087: val_accuracy did not improve from 0.61111\n",
            "7/7 - 0s - loss: 5.6379e-05 - accuracy: 1.0000 - val_loss: 3.7478 - val_accuracy: 0.5556\n",
            "Epoch 88/5000\n",
            "\n",
            "Epoch 00088: val_accuracy did not improve from 0.61111\n",
            "7/7 - 0s - loss: 5.3847e-05 - accuracy: 1.0000 - val_loss: 3.7640 - val_accuracy: 0.5556\n",
            "Epoch 89/5000\n",
            "\n",
            "Epoch 00089: val_accuracy did not improve from 0.61111\n",
            "7/7 - 0s - loss: 5.1398e-05 - accuracy: 1.0000 - val_loss: 3.7819 - val_accuracy: 0.5556\n",
            "Epoch 90/5000\n",
            "\n",
            "Epoch 00090: val_accuracy did not improve from 0.61111\n",
            "7/7 - 0s - loss: 4.8264e-05 - accuracy: 1.0000 - val_loss: 3.8130 - val_accuracy: 0.5556\n",
            "Epoch 91/5000\n",
            "\n",
            "Epoch 00091: val_accuracy did not improve from 0.61111\n",
            "7/7 - 0s - loss: 4.6796e-05 - accuracy: 1.0000 - val_loss: 3.8391 - val_accuracy: 0.5556\n",
            "Epoch 92/5000\n",
            "\n",
            "Epoch 00092: val_accuracy did not improve from 0.61111\n",
            "7/7 - 0s - loss: 4.4708e-05 - accuracy: 1.0000 - val_loss: 3.8646 - val_accuracy: 0.5556\n",
            "Epoch 93/5000\n",
            "\n",
            "Epoch 00093: val_accuracy did not improve from 0.61111\n",
            "7/7 - 0s - loss: 4.2953e-05 - accuracy: 1.0000 - val_loss: 3.8897 - val_accuracy: 0.5556\n",
            "Epoch 94/5000\n",
            "\n",
            "Epoch 00094: val_accuracy did not improve from 0.61111\n",
            "7/7 - 0s - loss: 4.1089e-05 - accuracy: 1.0000 - val_loss: 3.9006 - val_accuracy: 0.5556\n",
            "Epoch 95/5000\n",
            "\n",
            "Epoch 00095: val_accuracy did not improve from 0.61111\n",
            "7/7 - 0s - loss: 3.9805e-05 - accuracy: 1.0000 - val_loss: 3.9086 - val_accuracy: 0.5556\n",
            "Epoch 96/5000\n",
            "\n",
            "Epoch 00096: val_accuracy did not improve from 0.61111\n",
            "7/7 - 0s - loss: 3.8942e-05 - accuracy: 1.0000 - val_loss: 3.9152 - val_accuracy: 0.5556\n",
            "Epoch 97/5000\n",
            "\n",
            "Epoch 00097: val_accuracy did not improve from 0.61111\n",
            "7/7 - 0s - loss: 3.7294e-05 - accuracy: 1.0000 - val_loss: 3.9298 - val_accuracy: 0.5556\n",
            "Epoch 98/5000\n",
            "\n",
            "Epoch 00098: val_accuracy did not improve from 0.61111\n",
            "7/7 - 0s - loss: 3.6662e-05 - accuracy: 1.0000 - val_loss: 3.9338 - val_accuracy: 0.5556\n",
            "Epoch 99/5000\n",
            "\n",
            "Epoch 00099: val_accuracy did not improve from 0.61111\n",
            "7/7 - 0s - loss: 3.5114e-05 - accuracy: 1.0000 - val_loss: 3.9501 - val_accuracy: 0.5556\n",
            "Epoch 100/5000\n",
            "\n",
            "Epoch 00100: val_accuracy did not improve from 0.61111\n",
            "7/7 - 0s - loss: 3.4490e-05 - accuracy: 1.0000 - val_loss: 3.9697 - val_accuracy: 0.5556\n",
            "Epoch 101/5000\n",
            "\n",
            "Epoch 00101: val_accuracy did not improve from 0.61111\n",
            "7/7 - 0s - loss: 3.3499e-05 - accuracy: 1.0000 - val_loss: 3.9937 - val_accuracy: 0.5556\n",
            "Epoch 102/5000\n",
            "\n",
            "Epoch 00102: val_accuracy did not improve from 0.61111\n",
            "7/7 - 0s - loss: 3.2476e-05 - accuracy: 1.0000 - val_loss: 3.9970 - val_accuracy: 0.5556\n",
            "Epoch 103/5000\n",
            "\n",
            "Epoch 00103: val_accuracy did not improve from 0.61111\n",
            "7/7 - 0s - loss: 3.1739e-05 - accuracy: 1.0000 - val_loss: 4.0129 - val_accuracy: 0.5556\n",
            "Epoch 104/5000\n",
            "\n",
            "Epoch 00104: val_accuracy did not improve from 0.61111\n",
            "7/7 - 0s - loss: 3.0899e-05 - accuracy: 1.0000 - val_loss: 4.0189 - val_accuracy: 0.5556\n",
            "Epoch 105/5000\n",
            "\n",
            "Epoch 00105: val_accuracy did not improve from 0.61111\n",
            "7/7 - 0s - loss: 3.0419e-05 - accuracy: 1.0000 - val_loss: 4.0358 - val_accuracy: 0.5556\n",
            "Epoch 106/5000\n",
            "\n",
            "Epoch 00106: val_accuracy did not improve from 0.61111\n",
            "7/7 - 0s - loss: 2.9118e-05 - accuracy: 1.0000 - val_loss: 4.0298 - val_accuracy: 0.5556\n",
            "Epoch 107/5000\n",
            "\n",
            "Epoch 00107: val_accuracy did not improve from 0.61111\n",
            "7/7 - 0s - loss: 2.8636e-05 - accuracy: 1.0000 - val_loss: 4.0496 - val_accuracy: 0.5556\n",
            "Epoch 108/5000\n",
            "\n",
            "Epoch 00108: val_accuracy did not improve from 0.61111\n",
            "7/7 - 0s - loss: 2.8216e-05 - accuracy: 1.0000 - val_loss: 4.0599 - val_accuracy: 0.5556\n",
            "Epoch 109/5000\n",
            "\n",
            "Epoch 00109: val_accuracy did not improve from 0.61111\n",
            "7/7 - 0s - loss: 2.7207e-05 - accuracy: 1.0000 - val_loss: 4.0789 - val_accuracy: 0.5556\n",
            "Epoch 110/5000\n",
            "\n",
            "Epoch 00110: val_accuracy did not improve from 0.61111\n",
            "7/7 - 0s - loss: 2.6463e-05 - accuracy: 1.0000 - val_loss: 4.0929 - val_accuracy: 0.5556\n",
            "Epoch 111/5000\n",
            "\n",
            "Epoch 00111: val_accuracy did not improve from 0.61111\n",
            "7/7 - 0s - loss: 2.5919e-05 - accuracy: 1.0000 - val_loss: 4.0979 - val_accuracy: 0.5556\n",
            "Epoch 112/5000\n",
            "\n",
            "Epoch 00112: val_accuracy did not improve from 0.61111\n",
            "7/7 - 0s - loss: 2.5361e-05 - accuracy: 1.0000 - val_loss: 4.1060 - val_accuracy: 0.5556\n",
            "Epoch 113/5000\n",
            "\n",
            "Epoch 00113: val_accuracy did not improve from 0.61111\n",
            "7/7 - 0s - loss: 2.4678e-05 - accuracy: 1.0000 - val_loss: 4.1075 - val_accuracy: 0.5556\n",
            "Epoch 114/5000\n",
            "\n",
            "Epoch 00114: val_accuracy did not improve from 0.61111\n",
            "7/7 - 0s - loss: 2.4494e-05 - accuracy: 1.0000 - val_loss: 4.1275 - val_accuracy: 0.5556\n",
            "Epoch 115/5000\n",
            "\n",
            "Epoch 00115: val_accuracy did not improve from 0.61111\n",
            "7/7 - 0s - loss: 2.3925e-05 - accuracy: 1.0000 - val_loss: 4.1306 - val_accuracy: 0.5556\n",
            "Epoch 116/5000\n",
            "\n",
            "Epoch 00116: val_accuracy did not improve from 0.61111\n",
            "7/7 - 0s - loss: 2.3288e-05 - accuracy: 1.0000 - val_loss: 4.1513 - val_accuracy: 0.5556\n",
            "Epoch 117/5000\n",
            "\n",
            "Epoch 00117: val_accuracy did not improve from 0.61111\n",
            "7/7 - 0s - loss: 2.2901e-05 - accuracy: 1.0000 - val_loss: 4.1407 - val_accuracy: 0.5556\n",
            "Epoch 118/5000\n",
            "\n",
            "Epoch 00118: val_accuracy did not improve from 0.61111\n",
            "7/7 - 0s - loss: 2.2441e-05 - accuracy: 1.0000 - val_loss: 4.1477 - val_accuracy: 0.5556\n",
            "Epoch 119/5000\n",
            "\n",
            "Epoch 00119: val_accuracy did not improve from 0.61111\n",
            "7/7 - 0s - loss: 2.2130e-05 - accuracy: 1.0000 - val_loss: 4.1591 - val_accuracy: 0.5556\n",
            "Epoch 120/5000\n",
            "\n",
            "Epoch 00120: val_accuracy did not improve from 0.61111\n",
            "7/7 - 0s - loss: 2.1591e-05 - accuracy: 1.0000 - val_loss: 4.1639 - val_accuracy: 0.5556\n",
            "Epoch 121/5000\n",
            "\n",
            "Epoch 00121: val_accuracy did not improve from 0.61111\n",
            "7/7 - 0s - loss: 2.1369e-05 - accuracy: 1.0000 - val_loss: 4.1863 - val_accuracy: 0.5556\n",
            "Epoch 122/5000\n",
            "\n",
            "Epoch 00122: val_accuracy did not improve from 0.61111\n",
            "7/7 - 0s - loss: 2.1135e-05 - accuracy: 1.0000 - val_loss: 4.2254 - val_accuracy: 0.5556\n",
            "Epoch 123/5000\n",
            "\n",
            "Epoch 00123: val_accuracy did not improve from 0.61111\n",
            "7/7 - 0s - loss: 2.0306e-05 - accuracy: 1.0000 - val_loss: 4.2033 - val_accuracy: 0.5556\n",
            "Epoch 124/5000\n",
            "\n",
            "Epoch 00124: val_accuracy did not improve from 0.61111\n",
            "7/7 - 0s - loss: 1.9712e-05 - accuracy: 1.0000 - val_loss: 4.1944 - val_accuracy: 0.5556\n",
            "Epoch 125/5000\n",
            "\n",
            "Epoch 00125: val_accuracy did not improve from 0.61111\n",
            "7/7 - 0s - loss: 1.9484e-05 - accuracy: 1.0000 - val_loss: 4.2062 - val_accuracy: 0.5556\n",
            "Epoch 126/5000\n",
            "\n",
            "Epoch 00126: val_accuracy did not improve from 0.61111\n",
            "7/7 - 0s - loss: 1.8760e-05 - accuracy: 1.0000 - val_loss: 4.2514 - val_accuracy: 0.5556\n",
            "Epoch 127/5000\n",
            "\n",
            "Epoch 00127: val_accuracy did not improve from 0.61111\n",
            "7/7 - 0s - loss: 1.8304e-05 - accuracy: 1.0000 - val_loss: 4.2480 - val_accuracy: 0.5556\n",
            "Epoch 128/5000\n",
            "\n",
            "Epoch 00128: val_accuracy did not improve from 0.61111\n",
            "7/7 - 0s - loss: 1.7722e-05 - accuracy: 1.0000 - val_loss: 4.2486 - val_accuracy: 0.5556\n",
            "Epoch 129/5000\n",
            "\n",
            "Epoch 00129: val_accuracy did not improve from 0.61111\n",
            "7/7 - 0s - loss: 1.7387e-05 - accuracy: 1.0000 - val_loss: 4.2573 - val_accuracy: 0.5556\n",
            "Epoch 130/5000\n",
            "\n",
            "Epoch 00130: val_accuracy did not improve from 0.61111\n",
            "7/7 - 0s - loss: 1.7057e-05 - accuracy: 1.0000 - val_loss: 4.2725 - val_accuracy: 0.5556\n",
            "Epoch 131/5000\n",
            "\n",
            "Epoch 00131: val_accuracy did not improve from 0.61111\n",
            "7/7 - 0s - loss: 1.6658e-05 - accuracy: 1.0000 - val_loss: 4.2666 - val_accuracy: 0.5556\n",
            "Epoch 132/5000\n",
            "\n",
            "Epoch 00132: val_accuracy did not improve from 0.61111\n",
            "7/7 - 0s - loss: 1.6072e-05 - accuracy: 1.0000 - val_loss: 4.3232 - val_accuracy: 0.5556\n",
            "Epoch 133/5000\n",
            "\n",
            "Epoch 00133: val_accuracy did not improve from 0.61111\n",
            "7/7 - 0s - loss: 1.6664e-05 - accuracy: 1.0000 - val_loss: 4.3274 - val_accuracy: 0.5556\n",
            "Epoch 134/5000\n",
            "\n",
            "Epoch 00134: val_accuracy did not improve from 0.61111\n",
            "7/7 - 0s - loss: 1.5272e-05 - accuracy: 1.0000 - val_loss: 4.3008 - val_accuracy: 0.5556\n",
            "Epoch 135/5000\n",
            "\n",
            "Epoch 00135: val_accuracy did not improve from 0.61111\n",
            "7/7 - 0s - loss: 1.4868e-05 - accuracy: 1.0000 - val_loss: 4.2999 - val_accuracy: 0.5556\n",
            "Epoch 136/5000\n",
            "\n",
            "Epoch 00136: val_accuracy did not improve from 0.61111\n",
            "7/7 - 0s - loss: 1.4460e-05 - accuracy: 1.0000 - val_loss: 4.3289 - val_accuracy: 0.5556\n",
            "Epoch 137/5000\n",
            "\n",
            "Epoch 00137: val_accuracy did not improve from 0.61111\n",
            "7/7 - 0s - loss: 1.4078e-05 - accuracy: 1.0000 - val_loss: 4.3325 - val_accuracy: 0.5556\n",
            "Epoch 138/5000\n",
            "\n",
            "Epoch 00138: val_accuracy did not improve from 0.61111\n",
            "7/7 - 0s - loss: 1.3731e-05 - accuracy: 1.0000 - val_loss: 4.3231 - val_accuracy: 0.5556\n",
            "Epoch 139/5000\n",
            "\n",
            "Epoch 00139: val_accuracy did not improve from 0.61111\n",
            "7/7 - 0s - loss: 1.3289e-05 - accuracy: 1.0000 - val_loss: 4.3602 - val_accuracy: 0.5556\n",
            "Epoch 140/5000\n",
            "\n",
            "Epoch 00140: val_accuracy did not improve from 0.61111\n",
            "7/7 - 0s - loss: 1.3064e-05 - accuracy: 1.0000 - val_loss: 4.3755 - val_accuracy: 0.5556\n",
            "Epoch 141/5000\n",
            "\n",
            "Epoch 00141: val_accuracy did not improve from 0.61111\n",
            "7/7 - 0s - loss: 1.2681e-05 - accuracy: 1.0000 - val_loss: 4.3757 - val_accuracy: 0.5556\n",
            "Epoch 142/5000\n",
            "\n",
            "Epoch 00142: val_accuracy did not improve from 0.61111\n",
            "7/7 - 0s - loss: 1.2059e-05 - accuracy: 1.0000 - val_loss: 4.3590 - val_accuracy: 0.5556\n",
            "Epoch 143/5000\n",
            "\n",
            "Epoch 00143: val_accuracy did not improve from 0.61111\n",
            "7/7 - 0s - loss: 1.1796e-05 - accuracy: 1.0000 - val_loss: 4.3660 - val_accuracy: 0.5556\n",
            "Epoch 144/5000\n",
            "\n",
            "Epoch 00144: val_accuracy did not improve from 0.61111\n",
            "7/7 - 0s - loss: 1.1461e-05 - accuracy: 1.0000 - val_loss: 4.3848 - val_accuracy: 0.5556\n",
            "Epoch 145/5000\n",
            "\n",
            "Epoch 00145: val_accuracy did not improve from 0.61111\n",
            "7/7 - 0s - loss: 1.1204e-05 - accuracy: 1.0000 - val_loss: 4.3981 - val_accuracy: 0.5556\n",
            "Epoch 146/5000\n",
            "\n",
            "Epoch 00146: val_accuracy did not improve from 0.61111\n",
            "7/7 - 0s - loss: 1.0932e-05 - accuracy: 1.0000 - val_loss: 4.4014 - val_accuracy: 0.5556\n",
            "Epoch 147/5000\n",
            "\n",
            "Epoch 00147: val_accuracy did not improve from 0.61111\n",
            "7/7 - 0s - loss: 1.0678e-05 - accuracy: 1.0000 - val_loss: 4.3928 - val_accuracy: 0.5556\n",
            "Epoch 148/5000\n",
            "\n",
            "Epoch 00148: val_accuracy did not improve from 0.61111\n",
            "7/7 - 0s - loss: 1.0447e-05 - accuracy: 1.0000 - val_loss: 4.4117 - val_accuracy: 0.5556\n",
            "Epoch 149/5000\n",
            "\n",
            "Epoch 00149: val_accuracy did not improve from 0.61111\n",
            "7/7 - 0s - loss: 1.0348e-05 - accuracy: 1.0000 - val_loss: 4.4255 - val_accuracy: 0.5556\n",
            "Epoch 150/5000\n",
            "\n",
            "Epoch 00150: val_accuracy did not improve from 0.61111\n",
            "7/7 - 0s - loss: 1.0022e-05 - accuracy: 1.0000 - val_loss: 4.3920 - val_accuracy: 0.5556\n",
            "Epoch 151/5000\n",
            "\n",
            "Epoch 00151: val_accuracy did not improve from 0.61111\n",
            "7/7 - 0s - loss: 9.8268e-06 - accuracy: 1.0000 - val_loss: 4.4181 - val_accuracy: 0.5556\n",
            "Epoch 152/5000\n",
            "\n",
            "Epoch 00152: val_accuracy did not improve from 0.61111\n",
            "7/7 - 0s - loss: 9.5365e-06 - accuracy: 1.0000 - val_loss: 4.4251 - val_accuracy: 0.5556\n",
            "Epoch 153/5000\n",
            "\n",
            "Epoch 00153: val_accuracy did not improve from 0.61111\n",
            "7/7 - 0s - loss: 9.3845e-06 - accuracy: 1.0000 - val_loss: 4.4317 - val_accuracy: 0.5556\n",
            "Epoch 154/5000\n",
            "\n",
            "Epoch 00154: val_accuracy did not improve from 0.61111\n",
            "7/7 - 0s - loss: 9.1236e-06 - accuracy: 1.0000 - val_loss: 4.4303 - val_accuracy: 0.5556\n",
            "Epoch 155/5000\n",
            "\n",
            "Epoch 00155: val_accuracy did not improve from 0.61111\n",
            "7/7 - 0s - loss: 8.9751e-06 - accuracy: 1.0000 - val_loss: 4.4504 - val_accuracy: 0.5556\n",
            "Epoch 156/5000\n",
            "\n",
            "Epoch 00156: val_accuracy did not improve from 0.61111\n",
            "7/7 - 0s - loss: 8.9198e-06 - accuracy: 1.0000 - val_loss: 4.4579 - val_accuracy: 0.5556\n",
            "Epoch 157/5000\n",
            "\n",
            "Epoch 00157: val_accuracy did not improve from 0.61111\n",
            "7/7 - 0s - loss: 8.5224e-06 - accuracy: 1.0000 - val_loss: 4.4360 - val_accuracy: 0.5556\n",
            "Epoch 158/5000\n",
            "\n",
            "Epoch 00158: val_accuracy did not improve from 0.61111\n",
            "7/7 - 0s - loss: 8.4343e-06 - accuracy: 1.0000 - val_loss: 4.4613 - val_accuracy: 0.5556\n",
            "Epoch 159/5000\n",
            "\n",
            "Epoch 00159: val_accuracy did not improve from 0.61111\n",
            "7/7 - 0s - loss: 8.2477e-06 - accuracy: 1.0000 - val_loss: 4.4672 - val_accuracy: 0.5556\n",
            "Epoch 160/5000\n",
            "\n",
            "Epoch 00160: val_accuracy did not improve from 0.61111\n",
            "7/7 - 0s - loss: 8.1337e-06 - accuracy: 1.0000 - val_loss: 4.4372 - val_accuracy: 0.5556\n",
            "Epoch 161/5000\n",
            "\n",
            "Epoch 00161: val_accuracy did not improve from 0.61111\n",
            "7/7 - 0s - loss: 7.9972e-06 - accuracy: 1.0000 - val_loss: 4.4474 - val_accuracy: 0.5556\n",
            "Epoch 162/5000\n",
            "\n",
            "Epoch 00162: val_accuracy did not improve from 0.61111\n",
            "7/7 - 0s - loss: 7.8728e-06 - accuracy: 1.0000 - val_loss: 4.4854 - val_accuracy: 0.5556\n",
            "Epoch 163/5000\n",
            "\n",
            "Epoch 00163: val_accuracy did not improve from 0.61111\n",
            "7/7 - 0s - loss: 7.6604e-06 - accuracy: 1.0000 - val_loss: 4.4776 - val_accuracy: 0.5556\n",
            "Epoch 164/5000\n",
            "\n",
            "Epoch 00164: val_accuracy did not improve from 0.61111\n",
            "7/7 - 0s - loss: 7.5204e-06 - accuracy: 1.0000 - val_loss: 4.4719 - val_accuracy: 0.5556\n",
            "Epoch 165/5000\n",
            "\n",
            "Epoch 00165: val_accuracy did not improve from 0.61111\n",
            "7/7 - 0s - loss: 7.4047e-06 - accuracy: 1.0000 - val_loss: 4.4827 - val_accuracy: 0.5556\n",
            "Epoch 166/5000\n",
            "\n",
            "Epoch 00166: val_accuracy did not improve from 0.61111\n",
            "7/7 - 0s - loss: 7.1853e-06 - accuracy: 1.0000 - val_loss: 4.5048 - val_accuracy: 0.5556\n",
            "Epoch 167/5000\n",
            "\n",
            "Epoch 00167: val_accuracy did not improve from 0.61111\n",
            "7/7 - 0s - loss: 7.1075e-06 - accuracy: 1.0000 - val_loss: 4.4909 - val_accuracy: 0.5556\n",
            "Epoch 168/5000\n",
            "\n",
            "Epoch 00168: val_accuracy did not improve from 0.61111\n",
            "7/7 - 0s - loss: 7.0280e-06 - accuracy: 1.0000 - val_loss: 4.4894 - val_accuracy: 0.5556\n",
            "Epoch 169/5000\n",
            "\n",
            "Epoch 00169: val_accuracy did not improve from 0.61111\n",
            "7/7 - 0s - loss: 6.8484e-06 - accuracy: 1.0000 - val_loss: 4.5129 - val_accuracy: 0.5556\n",
            "Epoch 170/5000\n",
            "\n",
            "Epoch 00170: val_accuracy did not improve from 0.61111\n",
            "7/7 - 0s - loss: 6.7810e-06 - accuracy: 1.0000 - val_loss: 4.5281 - val_accuracy: 0.5556\n",
            "Epoch 171/5000\n",
            "\n",
            "Epoch 00171: val_accuracy did not improve from 0.61111\n",
            "7/7 - 0s - loss: 6.6238e-06 - accuracy: 1.0000 - val_loss: 4.5149 - val_accuracy: 0.5556\n",
            "Epoch 172/5000\n",
            "\n",
            "Epoch 00172: val_accuracy did not improve from 0.61111\n",
            "7/7 - 0s - loss: 6.5391e-06 - accuracy: 1.0000 - val_loss: 4.5282 - val_accuracy: 0.5556\n",
            "Epoch 173/5000\n",
            "\n",
            "Epoch 00173: val_accuracy did not improve from 0.61111\n",
            "7/7 - 0s - loss: 6.4182e-06 - accuracy: 1.0000 - val_loss: 4.5250 - val_accuracy: 0.5556\n",
            "Epoch 174/5000\n",
            "\n",
            "Epoch 00174: val_accuracy did not improve from 0.61111\n",
            "7/7 - 0s - loss: 6.3284e-06 - accuracy: 1.0000 - val_loss: 4.5449 - val_accuracy: 0.5556\n",
            "Epoch 175/5000\n",
            "\n",
            "Epoch 00175: val_accuracy did not improve from 0.61111\n",
            "7/7 - 0s - loss: 6.2852e-06 - accuracy: 1.0000 - val_loss: 4.5454 - val_accuracy: 0.5556\n",
            "Epoch 176/5000\n",
            "\n",
            "Epoch 00176: val_accuracy did not improve from 0.61111\n",
            "7/7 - 0s - loss: 6.1210e-06 - accuracy: 1.0000 - val_loss: 4.5389 - val_accuracy: 0.5556\n",
            "Epoch 177/5000\n",
            "\n",
            "Epoch 00177: val_accuracy did not improve from 0.61111\n",
            "7/7 - 0s - loss: 5.9984e-06 - accuracy: 1.0000 - val_loss: 4.5568 - val_accuracy: 0.5556\n",
            "Epoch 178/5000\n",
            "\n",
            "Epoch 00178: val_accuracy did not improve from 0.61111\n",
            "7/7 - 0s - loss: 5.9552e-06 - accuracy: 1.0000 - val_loss: 4.5476 - val_accuracy: 0.5556\n",
            "Epoch 179/5000\n",
            "\n",
            "Epoch 00179: val_accuracy did not improve from 0.61111\n",
            "7/7 - 0s - loss: 5.8844e-06 - accuracy: 1.0000 - val_loss: 4.5456 - val_accuracy: 0.5556\n",
            "Epoch 180/5000\n",
            "\n",
            "Epoch 00180: val_accuracy did not improve from 0.61111\n",
            "7/7 - 0s - loss: 5.7842e-06 - accuracy: 1.0000 - val_loss: 4.5643 - val_accuracy: 0.5556\n",
            "Epoch 181/5000\n",
            "\n",
            "Epoch 00181: val_accuracy did not improve from 0.61111\n",
            "7/7 - 0s - loss: 5.7202e-06 - accuracy: 1.0000 - val_loss: 4.5689 - val_accuracy: 0.5556\n",
            "Epoch 182/5000\n",
            "\n",
            "Epoch 00182: val_accuracy did not improve from 0.61111\n",
            "7/7 - 0s - loss: 5.6373e-06 - accuracy: 1.0000 - val_loss: 4.5702 - val_accuracy: 0.5556\n",
            "Epoch 183/5000\n",
            "\n",
            "Epoch 00183: val_accuracy did not improve from 0.61111\n",
            "7/7 - 0s - loss: 5.5648e-06 - accuracy: 1.0000 - val_loss: 4.5489 - val_accuracy: 0.5556\n",
            "Epoch 184/5000\n",
            "\n",
            "Epoch 00184: val_accuracy did not improve from 0.61111\n",
            "7/7 - 0s - loss: 5.4836e-06 - accuracy: 1.0000 - val_loss: 4.5570 - val_accuracy: 0.5556\n",
            "Epoch 185/5000\n",
            "\n",
            "Epoch 00185: val_accuracy did not improve from 0.61111\n",
            "7/7 - 0s - loss: 5.3782e-06 - accuracy: 1.0000 - val_loss: 4.5821 - val_accuracy: 0.5556\n",
            "Epoch 186/5000\n",
            "\n",
            "Epoch 00186: val_accuracy did not improve from 0.61111\n",
            "7/7 - 0s - loss: 5.3505e-06 - accuracy: 1.0000 - val_loss: 4.5974 - val_accuracy: 0.5556\n",
            "Epoch 187/5000\n",
            "\n",
            "Epoch 00187: val_accuracy did not improve from 0.61111\n",
            "7/7 - 0s - loss: 5.2296e-06 - accuracy: 1.0000 - val_loss: 4.5868 - val_accuracy: 0.5556\n",
            "Epoch 188/5000\n",
            "\n",
            "Epoch 00188: val_accuracy did not improve from 0.61111\n",
            "7/7 - 0s - loss: 5.1899e-06 - accuracy: 1.0000 - val_loss: 4.5885 - val_accuracy: 0.5556\n",
            "Epoch 189/5000\n",
            "\n",
            "Epoch 00189: val_accuracy did not improve from 0.61111\n",
            "7/7 - 0s - loss: 5.0741e-06 - accuracy: 1.0000 - val_loss: 4.6062 - val_accuracy: 0.5556\n",
            "Epoch 190/5000\n",
            "\n",
            "Epoch 00190: val_accuracy did not improve from 0.61111\n",
            "7/7 - 0s - loss: 4.9843e-06 - accuracy: 1.0000 - val_loss: 4.5895 - val_accuracy: 0.5556\n",
            "Epoch 191/5000\n",
            "\n",
            "Epoch 00191: val_accuracy did not improve from 0.61111\n",
            "7/7 - 0s - loss: 4.9912e-06 - accuracy: 1.0000 - val_loss: 4.5927 - val_accuracy: 0.5556\n",
            "Epoch 192/5000\n",
            "\n",
            "Epoch 00192: val_accuracy did not improve from 0.61111\n",
            "7/7 - 0s - loss: 4.8996e-06 - accuracy: 1.0000 - val_loss: 4.6126 - val_accuracy: 0.5556\n",
            "Epoch 193/5000\n",
            "\n",
            "Epoch 00193: val_accuracy did not improve from 0.61111\n",
            "7/7 - 0s - loss: 4.8115e-06 - accuracy: 1.0000 - val_loss: 4.6272 - val_accuracy: 0.5556\n",
            "Epoch 194/5000\n",
            "\n",
            "Epoch 00194: val_accuracy did not improve from 0.61111\n",
            "7/7 - 0s - loss: 4.8184e-06 - accuracy: 1.0000 - val_loss: 4.6178 - val_accuracy: 0.5556\n",
            "Epoch 195/5000\n",
            "\n",
            "Epoch 00195: val_accuracy did not improve from 0.61111\n",
            "7/7 - 0s - loss: 4.6837e-06 - accuracy: 1.0000 - val_loss: 4.6084 - val_accuracy: 0.5556\n",
            "Epoch 196/5000\n",
            "\n",
            "Epoch 00196: val_accuracy did not improve from 0.61111\n",
            "7/7 - 0s - loss: 4.6474e-06 - accuracy: 1.0000 - val_loss: 4.6239 - val_accuracy: 0.5556\n",
            "Epoch 197/5000\n",
            "\n",
            "Epoch 00197: val_accuracy did not improve from 0.61111\n",
            "7/7 - 0s - loss: 4.5627e-06 - accuracy: 1.0000 - val_loss: 4.6443 - val_accuracy: 0.5556\n",
            "Epoch 198/5000\n",
            "\n",
            "Epoch 00198: val_accuracy did not improve from 0.61111\n",
            "7/7 - 0s - loss: 4.5748e-06 - accuracy: 1.0000 - val_loss: 4.6481 - val_accuracy: 0.5556\n",
            "Epoch 199/5000\n",
            "\n",
            "Epoch 00199: val_accuracy did not improve from 0.61111\n",
            "7/7 - 0s - loss: 4.5005e-06 - accuracy: 1.0000 - val_loss: 4.6081 - val_accuracy: 0.5556\n",
            "Epoch 200/5000\n",
            "\n",
            "Epoch 00200: val_accuracy did not improve from 0.61111\n",
            "7/7 - 0s - loss: 4.4591e-06 - accuracy: 1.0000 - val_loss: 4.6065 - val_accuracy: 0.5556\n",
            "Epoch 201/5000\n",
            "\n",
            "Epoch 00201: val_accuracy did not improve from 0.61111\n",
            "7/7 - 0s - loss: 4.3796e-06 - accuracy: 1.0000 - val_loss: 4.6220 - val_accuracy: 0.5556\n",
            "Epoch 202/5000\n",
            "\n",
            "Epoch 00202: val_accuracy did not improve from 0.61111\n",
            "7/7 - 0s - loss: 4.3243e-06 - accuracy: 1.0000 - val_loss: 4.6434 - val_accuracy: 0.5556\n",
            "Epoch 203/5000\n",
            "\n",
            "Epoch 00203: val_accuracy did not improve from 0.61111\n",
            "7/7 - 0s - loss: 4.2656e-06 - accuracy: 1.0000 - val_loss: 4.6601 - val_accuracy: 0.5556\n",
            "Epoch 204/5000\n",
            "\n",
            "Epoch 00204: val_accuracy did not improve from 0.61111\n",
            "7/7 - 0s - loss: 4.2172e-06 - accuracy: 1.0000 - val_loss: 4.6522 - val_accuracy: 0.5556\n",
            "Epoch 205/5000\n",
            "\n",
            "Epoch 00205: val_accuracy did not improve from 0.61111\n",
            "7/7 - 0s - loss: 4.1723e-06 - accuracy: 1.0000 - val_loss: 4.6525 - val_accuracy: 0.5556\n",
            "Epoch 206/5000\n",
            "\n",
            "Epoch 00206: val_accuracy did not improve from 0.61111\n",
            "7/7 - 0s - loss: 4.1084e-06 - accuracy: 1.0000 - val_loss: 4.6594 - val_accuracy: 0.5556\n",
            "Epoch 207/5000\n",
            "\n",
            "Epoch 00207: val_accuracy did not improve from 0.61111\n",
            "7/7 - 0s - loss: 4.0773e-06 - accuracy: 1.0000 - val_loss: 4.6547 - val_accuracy: 0.5556\n",
            "Epoch 208/5000\n",
            "\n",
            "Epoch 00208: val_accuracy did not improve from 0.61111\n",
            "7/7 - 0s - loss: 4.0116e-06 - accuracy: 1.0000 - val_loss: 4.6719 - val_accuracy: 0.5556\n",
            "Epoch 209/5000\n",
            "\n",
            "Epoch 00209: val_accuracy did not improve from 0.61111\n",
            "7/7 - 0s - loss: 3.9581e-06 - accuracy: 1.0000 - val_loss: 4.6738 - val_accuracy: 0.5556\n",
            "Epoch 210/5000\n",
            "\n",
            "Epoch 00210: val_accuracy did not improve from 0.61111\n",
            "7/7 - 0s - loss: 3.9304e-06 - accuracy: 1.0000 - val_loss: 4.6792 - val_accuracy: 0.5556\n",
            "Epoch 211/5000\n",
            "\n",
            "Epoch 00211: val_accuracy did not improve from 0.61111\n",
            "7/7 - 0s - loss: 3.9131e-06 - accuracy: 1.0000 - val_loss: 4.6738 - val_accuracy: 0.5556\n",
            "Epoch 212/5000\n",
            "\n",
            "Epoch 00212: val_accuracy did not improve from 0.61111\n",
            "7/7 - 0s - loss: 3.8216e-06 - accuracy: 1.0000 - val_loss: 4.6835 - val_accuracy: 0.5556\n",
            "Epoch 00212: early stopping\n"
          ],
          "name": "stdout"
        }
      ]
    },
    {
      "cell_type": "code",
      "metadata": {
        "colab": {
          "base_uri": "https://localhost:8080/"
        },
        "id": "S0bC_WU0Ss5A",
        "outputId": "2c2e297e-b48a-4b51-b774-e0b1df55c445"
      },
      "source": [
        "x_train.shape"
      ],
      "execution_count": 72,
      "outputs": [
        {
          "output_type": "execute_result",
          "data": {
            "text/plain": [
              "(87, 150, 150, 3)"
            ]
          },
          "metadata": {
            "tags": []
          },
          "execution_count": 72
        }
      ]
    },
    {
      "cell_type": "code",
      "metadata": {
        "colab": {
          "base_uri": "https://localhost:8080/"
        },
        "id": "z-dAZqV1UVRF",
        "outputId": "430ccdf2-6c19-4522-ee8d-4d71206f7942"
      },
      "source": [
        "x_test.shape"
      ],
      "execution_count": 73,
      "outputs": [
        {
          "output_type": "execute_result",
          "data": {
            "text/plain": [
              "(30, 150, 150, 3)"
            ]
          },
          "metadata": {
            "tags": []
          },
          "execution_count": 73
        }
      ]
    },
    {
      "cell_type": "code",
      "metadata": {
        "id": "9fwlWvsjUgxE"
      },
      "source": [
        "saved_model = load_model('best_model.h5')"
      ],
      "execution_count": 74,
      "outputs": []
    },
    {
      "cell_type": "code",
      "metadata": {
        "colab": {
          "base_uri": "https://localhost:8080/"
        },
        "id": "zBYAEUt6UjlN",
        "outputId": "b9800774-2378-42b6-8532-a5db2f38d1c4"
      },
      "source": [
        "_, test_acc = saved_model.evaluate(x_test, y_test, verbose=2)\n",
        "print('Test: %.3f' % ( test_acc))"
      ],
      "execution_count": 75,
      "outputs": [
        {
          "output_type": "stream",
          "text": [
            "1/1 - 0s - loss: 2.8814 - accuracy: 0.4333\n",
            "Test: 0.433\n"
          ],
          "name": "stdout"
        }
      ]
    },
    {
      "cell_type": "markdown",
      "metadata": {
        "id": "iZAxEB3rVSVh"
      },
      "source": [
        "# Plots"
      ]
    },
    {
      "cell_type": "code",
      "metadata": {
        "colab": {
          "base_uri": "https://localhost:8080/",
          "height": 967
        },
        "id": "CjnnO4ezUmMd",
        "outputId": "2c392b0a-438b-4bf0-b4aa-380d541b35d2"
      },
      "source": [
        "plt.figure(figsize = (10,7))\n",
        "plt.plot(history.history['accuracy'], color = 'blue')\n",
        "plt.plot(history.history['val_accuracy'], color = 'red')\n",
        "plt.title('Model accuracy')\n",
        "plt.ylabel('Accuracy')\n",
        "plt.xlabel('Epoch')\n",
        "plt.legend(['Train', 'Validation'], loc='upper left')\n",
        "plt.show()\n",
        "\n",
        "plt.figure(figsize = (10,7))\n",
        "plt.plot(history.history['loss'], color = 'blue')\n",
        "plt.plot(history.history['val_loss'], color = 'red')\n",
        "plt.ylim((0,1))\n",
        "plt.title('Model loss')\n",
        "plt.ylabel('Loss')\n",
        "plt.xlabel('Epoch')\n",
        "plt.legend(['Train', 'Validation'], loc='upper left')\n",
        "plt.show()"
      ],
      "execution_count": 76,
      "outputs": [
        {
          "output_type": "display_data",
          "data": {
            "image/png": "[encoded data removed]",
            "text/plain": [
              "<Figure size 720x504 with 1 Axes>"
            ]
          },
          "metadata": {
            "tags": []
          }
        },
        {
          "output_type": "display_data",
          "data": {
            "image/png": "[encoded data removed]",
            "text/plain": [
              "<Figure size 720x504 with 1 Axes>"
            ]
          },
          "metadata": {
            "tags": []
          }
        }
      ]
    },
    {
      "cell_type": "markdown",
      "metadata": {
        "id": "UdrAHDPMVk6p"
      },
      "source": [
        "# Precision and Recall"
      ]
    },
    {
      "cell_type": "code",
      "metadata": {
        "id": "OfeE2tXAVwu4"
      },
      "source": [
        "from tensorflow import keras\n",
        "model = keras.models.load_model('best_model.h5')"
      ],
      "execution_count": 77,
      "outputs": []
    },
    {
      "cell_type": "code",
      "metadata": {
        "id": "p711Rvk9Vwrb"
      },
      "source": [
        "predictions = model.predict(x_test)"
      ],
      "execution_count": 78,
      "outputs": []
    },
    {
      "cell_type": "code",
      "metadata": {
        "id": "sC0LIb29Vwoo"
      },
      "source": [
        "a = np.argmax( predictions ,axis=1)"
      ],
      "execution_count": 79,
      "outputs": []
    },
    {
      "cell_type": "code",
      "metadata": {
        "colab": {
          "base_uri": "https://localhost:8080/"
        },
        "id": "MVIZvpNhVwmK",
        "outputId": "6fd88b58-ffa6-4d41-d459-be5ae7d8560e"
      },
      "source": [
        "a"
      ],
      "execution_count": 80,
      "outputs": [
        {
          "output_type": "execute_result",
          "data": {
            "text/plain": [
              "array([3, 2, 3, 3, 1, 1, 1, 2, 1, 4, 1, 3, 4, 1, 1, 1, 3, 1, 2, 2, 2, 2,\n",
              "       4, 1, 3, 4, 1, 1, 3, 1])"
            ]
          },
          "metadata": {
            "tags": []
          },
          "execution_count": 80
        }
      ]
    },
    {
      "cell_type": "code",
      "metadata": {
        "colab": {
          "base_uri": "https://localhost:8080/"
        },
        "id": "5oPQflvfVwj2",
        "outputId": "c765018a-7782-4f98-a3c3-ef4528cf4dc6"
      },
      "source": [
        "b = np.argmax( y_test ,axis=1)\n",
        "b"
      ],
      "execution_count": 81,
      "outputs": [
        {
          "output_type": "execute_result",
          "data": {
            "text/plain": [
              "array([3, 0, 3, 3, 0, 4, 4, 2, 1, 0, 3, 1, 2, 2, 1, 0, 3, 2, 4, 2, 4, 4,\n",
              "       2, 0, 1, 4, 1, 1, 3, 1])"
            ]
          },
          "metadata": {
            "tags": []
          },
          "execution_count": 81
        }
      ]
    },
    {
      "cell_type": "code",
      "metadata": {
        "colab": {
          "base_uri": "https://localhost:8080/"
        },
        "id": "F4YmDsU_VwhY",
        "outputId": "d18763b3-a160-4a81-a620-662b48ef9238"
      },
      "source": [
        "cm = confusion_matrix(a,b)\n",
        "cm"
      ],
      "execution_count": 83,
      "outputs": [
        {
          "output_type": "execute_result",
          "data": {
            "text/plain": [
              "array([[0, 0, 0, 0, 0],\n",
              "       [3, 5, 2, 1, 2],\n",
              "       [1, 0, 2, 0, 3],\n",
              "       [0, 2, 0, 5, 0],\n",
              "       [1, 0, 2, 0, 1]])"
            ]
          },
          "metadata": {
            "tags": []
          },
          "execution_count": 83
        }
      ]
    },
    {
      "cell_type": "code",
      "metadata": {
        "colab": {
          "base_uri": "https://localhost:8080/"
        },
        "id": "FY4k2PL4Vwet",
        "outputId": "ddf72142-4ed9-47b7-9c7f-7af34c728f39"
      },
      "source": [
        "accuracy = sum(cm[i][i] for i in range(5)) / y_test.shape[0]\n",
        "print(\"accuracy = \" + str(accuracy))"
      ],
      "execution_count": 84,
      "outputs": [
        {
          "output_type": "stream",
          "text": [
            "accuracy = 0.43333333333333335\n"
          ],
          "name": "stdout"
        }
      ]
    },
    {
      "cell_type": "code",
      "metadata": {
        "colab": {
          "base_uri": "https://localhost:8080/"
        },
        "id": "HkXIQ7HsWIqm",
        "outputId": "8cfffa7f-d4de-452d-92c6-3e27c92c40d8"
      },
      "source": [
        "\n",
        "from sklearn.metrics import precision_score, recall_score\n",
        "print('precision score - ',precision_score(a, b, average=\"macro\"))\n",
        "print('recall score - ', recall_score(a, b, average=\"macro\"))"
      ],
      "execution_count": 85,
      "outputs": [
        {
          "output_type": "stream",
          "text": [
            "precision score -  0.4095238095238095\n",
            "recall score -  0.3364468864468865\n"
          ],
          "name": "stdout"
        }
      ]
    },
    {
      "cell_type": "markdown",
      "metadata": {
        "id": "w_BIKtjhWg6O"
      },
      "source": [
        "# Saving and Loading model"
      ]
    },
    {
      "cell_type": "code",
      "metadata": {
        "colab": {
          "base_uri": "https://localhost:8080/"
        },
        "id": "coMW9Lc6VwcU",
        "outputId": "23aa88ad-74b3-4f02-dca0-6a57a3c2f05f"
      },
      "source": [
        "model.save('final_model2')"
      ],
      "execution_count": 86,
      "outputs": [
        {
          "output_type": "stream",
          "text": [
            "INFO:tensorflow:Assets written to: final_model2/assets\n"
          ],
          "name": "stdout"
        }
      ]
    },
    {
      "cell_type": "code",
      "metadata": {
        "id": "lRjm7QWeWInN"
      },
      "source": [
        "from tensorflow import keras\n",
        "model = keras.models.load_model('final_model2')"
      ],
      "execution_count": 87,
      "outputs": []
    },
    {
      "cell_type": "markdown",
      "metadata": {
        "id": "hRVYsBqtVNF3"
      },
      "source": [
        "**0.4333**"
      ]
    }
  ]
}