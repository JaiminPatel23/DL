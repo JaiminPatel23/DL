{
  "nbformat": 4,
  "nbformat_minor": 0,
  "metadata": {
    "colab": {
      "name": "J035_DL_LAB04_25-01-21.ipynb",
      "provenance": [],
      "collapsed_sections": [
        "6xM_Yb2PoPfz"
      ],
      "include_colab_link": true
    },
    "kernelspec": {
      "name": "python3",
      "display_name": "Python 3"
    },
    "accelerator": "GPU"
  },
  "cells": [
    {
      "cell_type": "markdown",
      "metadata": {
        "id": "view-in-github",
        "colab_type": "text"
      },
      "source": [
        "<a href=\"https://colab.research.google.com/github/JaiminPatel23/DL/blob/main/LAB/J035_DL_LAB04_25_01_21.ipynb\" target=\"_parent\"><img src=\"https://colab.research.google.com/assets/colab-badge.svg\" alt=\"Open In Colab\"/></a>"
      ]
    },
    {
      "cell_type": "markdown",
      "metadata": {
        "id": "4EYy9IxOcmtX"
      },
      "source": [
        "**Aim: Analyze deployed models**"
      ]
    },
    {
      "cell_type": "markdown",
      "metadata": {
        "id": "xSp9xTEkJRiV"
      },
      "source": [
        "Objectives:\n",
        "\n",
        "Define seed.\n",
        "\n",
        "Trainset: Extract only Cat vs dog images from CIFAR10\n",
        "\n",
        "Dev set and Test set: ImageNet (cat and dog)\n",
        "\n",
        "After the model is deployed as Flask app, collect data from user via flask app\n",
        "\n",
        "Use collected data to retrain model - Create new versions of model\n",
        "\n",
        "Analyze performance of these versions - accuracy, error\n",
        "\n",
        "Steps :\n",
        "\n",
        "1) Create trainset from CIFAR10 of only cats and dogs\n",
        "\n",
        "2) Augment training  data  and again save it in respective folder only\n",
        "\n",
        "3) Create dev and test - from imagenet of only cats and dogs\n",
        "\n",
        "4) Build your modelon train set, save as h5\n",
        "\n",
        "5) Evaluate on Development Set & Test Set\n",
        "\n",
        "6) Build website \n",
        "\n",
        "7) Collect data (labels and images) from user\n",
        "\n",
        "8) Analyse confusion matrix for 25 attempts\n",
        "\n",
        "9) Decide the next strategy:  retrain with new data? Or not retrain?\n"
      ]
    },
    {
      "cell_type": "code",
      "metadata": {
        "id": "xbR2PBlvHzgi"
      },
      "source": [
        "from __future__ import print_function\n",
        "import keras\n",
        "from keras.datasets import cifar10\n",
        "from keras import backend as K\n",
        "import matplotlib.pyplot as plt\n",
        "import numpy as np"
      ],
      "execution_count": null,
      "outputs": []
    },
    {
      "cell_type": "markdown",
      "metadata": {
        "id": "x_lF3otsJgdw"
      },
      "source": [
        "Trainset: Extract only Cat vs dog images from CIFAR10"
      ]
    },
    {
      "cell_type": "code",
      "metadata": {
        "colab": {
          "base_uri": "https://localhost:8080/",
          "height": 120
        },
        "id": "lzNSTwcuJb8A",
        "outputId": "31672510-c838-4968-e340-f8a1d8dc4fab"
      },
      "source": [
        "#Input image dimensions\n",
        "img_rows, img_cols = 32, 32\n",
        "num_classes = 2\n",
        "#The data, shuffled and split between train and test sets\n",
        "(x_train, y_train), (x_test, y_test) = cifar10.load_data()\n",
        "\n",
        "#Only look at cats [=3] and dogs [=5]\n",
        "train_picks = np.ravel(np.logical_or(y_train==3,y_train==5))  \n",
        "y_train = np.array(y_train[train_picks]==5,dtype=int)\n",
        "x_train = x_train[train_picks]\n",
        "\n",
        "if K.image_data_format() == 'channels_first':\n",
        "    x_train = x_train.reshape(x_train.shape[0], 3, img_rows, img_cols)\n",
        "else:\n",
        "    x_train = x_train.reshape(x_train.shape[0], img_rows, img_cols, 3)\n",
        "    \n",
        "x_train = x_train.astype('float32')\n",
        "x_train /= 255\n",
        "print('x_train shape:', x_train.shape)\n",
        "print(x_train.shape[0], 'train samples')\n",
        "\n",
        "'''\n",
        "#Convert class vectors to binary class matrices\n",
        "#y_train = keras.utils.to_categorical(np.ravel(y_train), num_classes)\n",
        "#print('y_train shape:', y_train.shape)\n",
        "'''"
      ],
      "execution_count": null,
      "outputs": [
        {
          "output_type": "stream",
          "text": [
            "Downloading data from https://www.cs.toronto.edu/~kriz/cifar-10-python.tar.gz\n",
            "170500096/170498071 [==============================] - 4s 0us/step\n",
            "x_train shape: (10000, 32, 32, 3)\n",
            "10000 train samples\n"
          ],
          "name": "stdout"
        },
        {
          "output_type": "execute_result",
          "data": {
            "application/vnd.google.colaboratory.intrinsic+json": {
              "type": "string"
            },
            "text/plain": [
              "\"\\n#Convert class vectors to binary class matrices\\n#y_train = keras.utils.to_categorical(np.ravel(y_train), num_classes)\\n#print('y_train shape:', y_train.shape)\\n\""
            ]
          },
          "metadata": {
            "tags": []
          },
          "execution_count": 2
        }
      ]
    },
    {
      "cell_type": "markdown",
      "metadata": {
        "id": "VmeJvGO7Jn1z"
      },
      "source": [
        "[The Data Loading Code is taken from this reference file](https://colab.research.google.com/drive/1v8jsuS8tg_uktV1FW0Rz3Ho85QcVaZ_c#scrollTo=F8jwTf2Pey5D)"
      ]
    },
    {
      "cell_type": "code",
      "metadata": {
        "id": "71PDD-dqJlth",
        "colab": {
          "base_uri": "https://localhost:8080/",
          "height": 268
        },
        "outputId": "8655d1bd-4275-437c-db5b-aecd1cc14089"
      },
      "source": [
        "#Look at the first 9 images from the dataset\n",
        "images = range(0,9)\n",
        "for i in images:\n",
        "    plt.subplot(330 + 1 + i)\n",
        "    plt.imshow(x_train[i], cmap=plt.get_cmap('gray'))\n",
        "    \n",
        "#Show the plot\n",
        "plt.show()"
      ],
      "execution_count": null,
      "outputs": [
        {
          "output_type": "display_data",
          "data": {
            "image/png": "[encoded data removed]",
            "text/plain": [
              "<Figure size 432x288 with 9 Axes>"
            ]
          },
          "metadata": {
            "tags": [],
            "needs_background": "light"
          }
        }
      ]
    },
    {
      "cell_type": "code",
      "metadata": {
        "id": "X-5Qa_7eKRrX",
        "colab": {
          "base_uri": "https://localhost:8080/",
          "height": 266
        },
        "outputId": "8c3232e9-c72a-41ca-a682-86c6954758ff"
      },
      "source": [
        "#Image of Cat\n",
        "plt.imshow(x_train[0], cmap=plt.get_cmap('gray'))\n",
        "plt.show()"
      ],
      "execution_count": null,
      "outputs": [
        {
          "output_type": "display_data",
          "data": {
            "image/png": "[encoded data removed]",
            "text/plain": [
              "<Figure size 432x288 with 1 Axes>"
            ]
          },
          "metadata": {
            "tags": [],
            "needs_background": "light"
          }
        }
      ]
    },
    {
      "cell_type": "code",
      "metadata": {
        "id": "29ztdz0XKRr0",
        "colab": {
          "base_uri": "https://localhost:8080/"
        },
        "outputId": "e6a80e79-f616-43b3-fb35-444720a9c7b8"
      },
      "source": [
        "#Its a 1st cat image label\n",
        "y_train[0]"
      ],
      "execution_count": null,
      "outputs": [
        {
          "output_type": "execute_result",
          "data": {
            "text/plain": [
              "array([0])"
            ]
          },
          "metadata": {
            "tags": []
          },
          "execution_count": 5
        }
      ]
    },
    {
      "cell_type": "code",
      "metadata": {
        "id": "bTOZWpDLKJD2",
        "colab": {
          "base_uri": "https://localhost:8080/",
          "height": 266
        },
        "outputId": "f89c16fe-ef05-4629-d99f-3feca25a3779"
      },
      "source": [
        "#Image of 1st Dog\n",
        "plt.imshow(x_train[7000], cmap=plt.get_cmap('gray'))\n",
        "plt.show()"
      ],
      "execution_count": null,
      "outputs": [
        {
          "output_type": "display_data",
          "data": {
            "image/png": "[encoded data removed]",
            "text/plain": [
              "<Figure size 432x288 with 1 Axes>"
            ]
          },
          "metadata": {
            "tags": [],
            "needs_background": "light"
          }
        }
      ]
    },
    {
      "cell_type": "code",
      "metadata": {
        "id": "1KnYsYmhKL1U",
        "colab": {
          "base_uri": "https://localhost:8080/"
        },
        "outputId": "5e82d4e7-b800-4476-cd0f-fd93ea067f50"
      },
      "source": [
        "#Its a 1st dog image label\n",
        "y_train[7000]"
      ],
      "execution_count": null,
      "outputs": [
        {
          "output_type": "execute_result",
          "data": {
            "text/plain": [
              "array([1])"
            ]
          },
          "metadata": {
            "tags": []
          },
          "execution_count": 7
        }
      ]
    },
    {
      "cell_type": "markdown",
      "metadata": {
        "id": "ENk8i6ZyLoH8"
      },
      "source": [
        "##Loading Dev and Test Set\n"
      ]
    },
    {
      "cell_type": "code",
      "metadata": {
        "id": "f1FhsUtoLm5d",
        "colab": {
          "base_uri": "https://localhost:8080/",
          "height": 120
        },
        "outputId": "c1bf209e-1264-403e-a66f-02ce5f984a42"
      },
      "source": [
        "#code part 1 -Obtaining the Dataset\n",
        "from bs4 import BeautifulSoup\n",
        "import numpy as np\n",
        "import requests\n",
        "import cv2\n",
        "import PIL.Image\n",
        "import urllib\n",
        "\n",
        "#-----------------------------------Cats--------------------------------------------------------------------\n",
        "cat_page1 = requests.get(\"http://www.image-net.org/api/text/imagenet.synset.geturls?wnid=n02123159\")# Tiger Cats synset\n",
        "#print(ie_page.content)\n",
        "cat_soup1 = BeautifulSoup(cat_page1.content, 'html.parser')#puts the content of the website into the soup variable, each url on a different line\n",
        "\n",
        "cat_page2 = requests.get(\"http://www.image-net.org/api/text/imagenet.synset.geturls?wnid=n02124075\")# Egyptian synset\n",
        "#print(ae_page.content)\n",
        "cat_soup2 = BeautifulSoup(cat_page2.content, 'html.parser')#puts the content of the website into the soup variable, each url on a different line\n",
        "''''\n",
        "cat_page3 = requests.get(\"http://www.image-net.org/api/text/imagenet.synset.geturls?wnid=n02123394\")# Persian Cats synset\n",
        "#print(cat_page3.content)\n",
        "cat_soup3 = BeautifulSoup(cat_page3.content, 'html.parser')#puts the content of the website into the soup variable, each url on a different line\n",
        "\n",
        "ae_page = requests.get(\"http://www.image-net.org/api/text/imagenet.synset.geturls?wnid=n02123045\")# Tabby Cats  synset\n",
        "print(ae_page.content)\n",
        "ae_soup = BeautifulSoup(ae_page.content, 'html.parser')#puts the content of the website into the soup variable, each url on a different line\n",
        "\n",
        "ie_page = requests.get(\"http://www.image-net.org/api/text/imagenet.synset.geturls?wnid=n02123597\")# Siamese Cats synset\n",
        "print(ie_page.content)\n",
        "ie_soup = BeautifulSoup(ie_page.content, 'html.parser')#puts the content of the website into the soup variable, each url on a different line\n",
        "'''\n",
        "\n",
        "#----------------------------------Dogs--------------------------------------------------------------------------\n",
        "dog_page1 = requests.get(\"http://www.image-net.org/api/text/imagenet.synset.geturls?wnid=n02110341\")# Dalmation Dogs synset\n",
        "#print(dog_page1.content)\n",
        "dog_soup1 = BeautifulSoup(dog_page1.content, 'html.parser')#puts the content of the website into the soup variable, each url on a different line\n",
        "\n",
        "dog_page2 = requests.get(\"http://www.image-net.org/api/text/imagenet.synset.geturls?wnid=n02109961\")# Eskimo dog synset\n",
        "#print(ae_page.content)\n",
        "dog_soup2 = BeautifulSoup(dog_page2.content, 'html.parser')#puts the content of the website into the soup variable, each url on a different line\n",
        "\n",
        "'''\n",
        "dog_page3 = requests.get(\"http://www.image-net.org/api/text/imagenet.synset.geturls?wnid=n02106662\")# German shepherd dog synset\n",
        "#print(ie_page.content)\n",
        "dog_soup3 = BeautifulSoup(dog_page3.content, 'html.parser')#puts the content of the website into the soup variable, each url on a different line\n",
        "\n",
        "ae_page = requests.get(\"http://www.image-net.org/api/text/imagenet.synset.geturls?wnid=n02116738\")# African hunting dog  synset\n",
        "print(ae_page.content)\n",
        "ae_soup = BeautifulSoup(ae_page.content, 'html.parser')#puts the content of the website into the soup variable, each url on a different line\n",
        "\n",
        "ie_page = requests.get(\"http://www.image-net.org/api/text/imagenet.synset.geturls?wnid=n02111277\")# Newfoundland dog synset\n",
        "print(ie_page.content)\n",
        "ie_soup = BeautifulSoup(ie_page.content, 'html.parser')#puts the content of the website into the soup variable, each url on a different line\n",
        "'''"
      ],
      "execution_count": null,
      "outputs": [
        {
          "output_type": "execute_result",
          "data": {
            "application/vnd.google.colaboratory.intrinsic+json": {
              "type": "string"
            },
            "text/plain": [
              "'\\ndog_page3 = requests.get(\"http://www.image-net.org/api/text/imagenet.synset.geturls?wnid=n02106662\")# German shepherd dog synset\\n#print(ie_page.content)\\ndog_soup3 = BeautifulSoup(dog_page3.content, \\'html.parser\\')#puts the content of the website into the soup variable, each url on a different line\\n\\nae_page = requests.get(\"http://www.image-net.org/api/text/imagenet.synset.geturls?wnid=n02116738\")# African hunting dog  synset\\nprint(ae_page.content)\\nae_soup = BeautifulSoup(ae_page.content, \\'html.parser\\')#puts the content of the website into the soup variable, each url on a different line\\n\\nie_page = requests.get(\"http://www.image-net.org/api/text/imagenet.synset.geturls?wnid=n02111277\")# Newfoundland dog synset\\nprint(ie_page.content)\\nie_soup = BeautifulSoup(ie_page.content, \\'html.parser\\')#puts the content of the website into the soup variable, each url on a different line\\n'"
            ]
          },
          "metadata": {
            "tags": []
          },
          "execution_count": 8
        }
      ]
    },
    {
      "cell_type": "code",
      "metadata": {
        "id": "Dy8l0Wk3uJ8T",
        "colab": {
          "base_uri": "https://localhost:8080/"
        },
        "outputId": "42508323-fc9b-4779-95ed-b48302f33cf7"
      },
      "source": [
        "#code part 2- Using Beautiful Soup to get the correct Outcome\n",
        "\n",
        "cat_str_soup1=str(cat_soup1)#convert soup to string so it can be split\n",
        "type(cat_str_soup1)\n",
        "cat_split_urls1=cat_str_soup1.split('\\r\\n')#split so each url is a different position on a list\n",
        "print(len(cat_split_urls1))#print the length of the list so you know how many urls you have\n",
        "\n",
        "cat_str_soup2=str(cat_soup2)#convert soup to string so it can be split\n",
        "type(cat_str_soup2)\n",
        "cat_split_urls2=cat_str_soup2.split('\\r\\n')#split so each url is a different position on a list\n",
        "print(len(cat_split_urls2))\n",
        "\n",
        "dog_str_soup1=str(dog_soup1)#convert soup to string so it can be split\n",
        "type(dog_str_soup1)\n",
        "dog_split_urls1=dog_str_soup1.split('\\r\\n')#split so each url is a different position on a list\n",
        "print(len(dog_split_urls1))#print the length of the list so you know how many urls you have\n",
        "\n",
        "dog_str_soup2=str(dog_soup2)#convert soup to string so it can be split\n",
        "type(dog_str_soup2)\n",
        "dog_split_urls2=dog_str_soup2.split('\\r\\n')#split so each url is a different position on a list\n",
        "print(len(dog_split_urls2))#print the length of the list so you know how many urls you have"
      ],
      "execution_count": null,
      "outputs": [
        {
          "output_type": "stream",
          "text": [
            "1421\n",
            "978\n",
            "1400\n",
            "1541\n"
          ],
          "name": "stdout"
        }
      ]
    },
    {
      "cell_type": "code",
      "metadata": {
        "id": "e8GuiFzwzkZo"
      },
      "source": [
        "!mkdir /content/catdog_dev/ \n",
        "!mkdir /content/catdog_test/"
      ],
      "execution_count": null,
      "outputs": []
    },
    {
      "cell_type": "code",
      "metadata": {
        "id": "pBC7h_fMzoRa"
      },
      "source": [
        "img_rows, img_cols = 32, 32 #number of rows and columns to convert the images to\n",
        "input_shape = (img_rows, img_cols, 3)#format to store the images (rows, columns,channels) called channels last\n",
        "\n",
        "def url_to_image(url):\n",
        "\t# download the image, convert it to a NumPy array, and then read\n",
        "\t# it into OpenCV format\n",
        "\tresp = urllib.request.urlopen(url)\n",
        "\timage = np.asarray(bytearray(resp.read()), dtype=\"uint8\")\n",
        "\timage = cv2.imdecode(image, cv2.IMREAD_COLOR)\n",
        " \n",
        "\t# return the image\n",
        "\treturn image"
      ],
      "execution_count": null,
      "outputs": []
    },
    {
      "cell_type": "code",
      "metadata": {
        "id": "YF4b0mPMzrzi",
        "colab": {
          "base_uri": "https://localhost:8080/"
        },
        "outputId": "d7e8de7b-bb6f-46de-9971-c17dcfabcf86"
      },
      "source": [
        "n_of_training_images=50   #The number of Development images to use\n",
        "counter1=0\n",
        "for progress in range(10*n_of_training_images):#store all 200 INDIAN ELEPHANT images on a directory\n",
        "    if (counter1 == n_of_training_images):\n",
        "      break\n",
        "    if (progress%10==0):\n",
        "        print(progress)\n",
        "    if not cat_split_urls1[progress] == None:\n",
        "      try:\n",
        "        I = url_to_image(cat_split_urls1[progress])\n",
        "        if (len(I.shape))==3: #check if the image has width, length and channels\n",
        "          save_path = '/content/catdog_dev/cat.'+str(progress)+'.jpg'#create a name of each image\n",
        "          cv2.imwrite(save_path,I)\n",
        "          counter1=counter1+1\n",
        "          print(\"Counter count :\",counter1)\n",
        "      except:\n",
        "        None\n",
        "\n",
        "counter2=0\n",
        "for progress in range(10*n_of_training_images):#store all 200 INDIAN ELEPHANT images on a directory\n",
        "    if (counter2 == n_of_training_images):\n",
        "      break\n",
        "    if (progress%10==0):\n",
        "        print(progress)\n",
        "    if not cat_split_urls2[progress] == None:\n",
        "      try:\n",
        "        I = url_to_image(cat_split_urls2[progress])\n",
        "        if (len(I.shape))==3: #check if the image has width, length and channels\n",
        "          save_path = '/content/catdog_dev/cat.'+str(progress)+'.jpg'#create a name of each image\n",
        "          cv2.imwrite(save_path,I)\n",
        "          counter2=counter2+1\n",
        "          print(\"Counter count :\",counter2)\n",
        "      except:\n",
        "        None\n",
        "\n",
        "print(\"\\n ALL THE DEV SET CATS- IMAGES STORED ON THE DIRECTORY\\n\")\n",
        "print(\"Total Counter :\" ,(counter1+counter2))\n",
        "\n",
        "n_of_training_images=50   #The number of Development images to use\n",
        "counter1=0\n",
        "for progress in range(10*n_of_training_images):#store all 200 INDIAN ELEPHANT images on a directory\n",
        "    if (counter1 == n_of_training_images):\n",
        "      break\n",
        "    if (progress%10==0):\n",
        "        print(progress)\n",
        "    if not dog_split_urls1[progress] == None:\n",
        "      try:\n",
        "        I = url_to_image(dog_split_urls1[progress])\n",
        "        if (len(I.shape))==3: #check if the image has width, length and channels\n",
        "          save_path = '/content/catdog_dev/dog.'+str(progress)+'.jpg'#create a name of each image\n",
        "          cv2.imwrite(save_path,I)\n",
        "          counter1=counter1+1\n",
        "          print(\"Counter count :\",counter1)\n",
        "      except:\n",
        "        None\n",
        "\n",
        "counter2=0\n",
        "for progress in range(10*n_of_training_images):#store all 200 INDIAN ELEPHANT images on a directory\n",
        "    if (counter2 == n_of_training_images):\n",
        "      break\n",
        "    if (progress%10==0):\n",
        "        print(progress)\n",
        "    if not dog_split_urls2[progress] == None:\n",
        "      try:\n",
        "        I = url_to_image(dog_split_urls2[progress])\n",
        "        if (len(I.shape))==3: #check if the image has width, length and channels\n",
        "          save_path = '/content/catdog_dev/dog.'+str(progress)+'.jpg'#create a name of each image\n",
        "          cv2.imwrite(save_path,I)\n",
        "          counter2=counter2+1\n",
        "          print(\"Counter count :\",counter2)\n",
        "      except:\n",
        "        None\n",
        "\n",
        "print(\"\\n ALL THE DEV SET DOG- IMAGES STORED ON THE DIRECTORY\\n\")\n",
        "print(\"Total Counter :\" ,(counter1+counter2))"
      ],
      "execution_count": null,
      "outputs": [
        {
          "output_type": "stream",
          "text": [
            "0\n",
            "Counter count : 1\n",
            "Counter count : 2\n",
            "Counter count : 3\n",
            "Counter count : 4\n",
            "Counter count : 5\n",
            "Counter count : 6\n",
            "Counter count : 7\n",
            "Counter count : 8\n",
            "10\n",
            "Counter count : 9\n",
            "Counter count : 10\n",
            "Counter count : 11\n",
            "Counter count : 12\n",
            "Counter count : 13\n",
            "Counter count : 14\n",
            "Counter count : 15\n",
            "Counter count : 16\n",
            "20\n",
            "Counter count : 17\n",
            "Counter count : 18\n",
            "Counter count : 19\n",
            "Counter count : 20\n",
            "Counter count : 21\n",
            "Counter count : 22\n",
            "Counter count : 23\n",
            "30\n",
            "Counter count : 24\n",
            "Counter count : 25\n",
            "Counter count : 26\n",
            "Counter count : 27\n",
            "Counter count : 28\n",
            "Counter count : 29\n",
            "Counter count : 30\n",
            "40\n",
            "Counter count : 31\n",
            "Counter count : 32\n",
            "Counter count : 33\n",
            "Counter count : 34\n",
            "Counter count : 35\n",
            "Counter count : 36\n",
            "Counter count : 37\n",
            "Counter count : 38\n",
            "Counter count : 39\n",
            "Counter count : 40\n",
            "50\n",
            "Counter count : 41\n",
            "Counter count : 42\n",
            "Counter count : 43\n",
            "Counter count : 44\n",
            "Counter count : 45\n",
            "Counter count : 46\n",
            "60\n",
            "Counter count : 47\n",
            "Counter count : 48\n",
            "Counter count : 49\n",
            "Counter count : 50\n",
            "0\n",
            "Counter count : 1\n",
            "Counter count : 2\n",
            "Counter count : 3\n",
            "Counter count : 4\n",
            "10\n",
            "Counter count : 5\n",
            "Counter count : 6\n",
            "Counter count : 7\n",
            "Counter count : 8\n",
            "Counter count : 9\n",
            "Counter count : 10\n",
            "20\n",
            "Counter count : 11\n",
            "Counter count : 12\n",
            "Counter count : 13\n",
            "Counter count : 14\n",
            "Counter count : 15\n",
            "30\n",
            "Counter count : 16\n",
            "Counter count : 17\n",
            "Counter count : 18\n",
            "40\n",
            "Counter count : 19\n",
            "Counter count : 20\n",
            "Counter count : 21\n",
            "Counter count : 22\n",
            "Counter count : 23\n",
            "Counter count : 24\n",
            "Counter count : 25\n",
            "Counter count : 26\n",
            "50\n",
            "Counter count : 27\n",
            "Counter count : 28\n",
            "Counter count : 29\n",
            "60\n",
            "Counter count : 30\n",
            "Counter count : 31\n",
            "Counter count : 32\n",
            "70\n",
            "Counter count : 33\n",
            "Counter count : 34\n",
            "Counter count : 35\n",
            "80\n",
            "Counter count : 36\n",
            "Counter count : 37\n",
            "Counter count : 38\n",
            "Counter count : 39\n",
            "Counter count : 40\n",
            "90\n",
            "Counter count : 41\n",
            "Counter count : 42\n",
            "Counter count : 43\n",
            "Counter count : 44\n",
            "Counter count : 45\n",
            "Counter count : 46\n",
            "100\n",
            "Counter count : 47\n",
            "Counter count : 48\n",
            "Counter count : 49\n",
            "Counter count : 50\n",
            "\n",
            " ALL THE DEV SET CATS- IMAGES STORED ON THE DIRECTORY\n",
            "\n",
            "Total Counter : 100\n",
            "0\n",
            "Counter count : 1\n",
            "Counter count : 2\n",
            "Counter count : 3\n",
            "Counter count : 4\n",
            "Counter count : 5\n",
            "Counter count : 6\n",
            "10\n",
            "Counter count : 7\n",
            "Counter count : 8\n",
            "Counter count : 9\n",
            "Counter count : 10\n",
            "Counter count : 11\n",
            "Counter count : 12\n",
            "Counter count : 13\n",
            "20\n",
            "Counter count : 14\n",
            "Counter count : 15\n",
            "Counter count : 16\n",
            "Counter count : 17\n",
            "Counter count : 18\n",
            "Counter count : 19\n",
            "30\n",
            "Counter count : 20\n",
            "Counter count : 21\n",
            "Counter count : 22\n",
            "Counter count : 23\n",
            "Counter count : 24\n",
            "Counter count : 25\n",
            "40\n",
            "Counter count : 26\n",
            "Counter count : 27\n",
            "Counter count : 28\n",
            "Counter count : 29\n",
            "Counter count : 30\n",
            "Counter count : 31\n",
            "Counter count : 32\n",
            "Counter count : 33\n",
            "50\n",
            "Counter count : 34\n",
            "Counter count : 35\n",
            "Counter count : 36\n",
            "Counter count : 37\n",
            "Counter count : 38\n",
            "60\n",
            "Counter count : 39\n",
            "Counter count : 40\n",
            "Counter count : 41\n",
            "Counter count : 42\n",
            "Counter count : 43\n",
            "Counter count : 44\n",
            "70\n",
            "Counter count : 45\n",
            "Counter count : 46\n",
            "Counter count : 47\n",
            "Counter count : 48\n",
            "Counter count : 49\n",
            "Counter count : 50\n",
            "0\n",
            "Counter count : 1\n",
            "Counter count : 2\n",
            "Counter count : 3\n",
            "Counter count : 4\n",
            "Counter count : 5\n",
            "Counter count : 6\n",
            "Counter count : 7\n",
            "Counter count : 8\n",
            "10\n",
            "Counter count : 9\n",
            "Counter count : 10\n",
            "Counter count : 11\n",
            "Counter count : 12\n",
            "Counter count : 13\n",
            "Counter count : 14\n",
            "Counter count : 15\n",
            "Counter count : 16\n",
            "Counter count : 17\n",
            "20\n",
            "Counter count : 18\n",
            "Counter count : 19\n",
            "Counter count : 20\n",
            "Counter count : 21\n",
            "Counter count : 22\n",
            "Counter count : 23\n",
            "Counter count : 24\n",
            "Counter count : 25\n",
            "30\n",
            "Counter count : 26\n",
            "Counter count : 27\n",
            "Counter count : 28\n",
            "Counter count : 29\n",
            "Counter count : 30\n",
            "40\n",
            "Counter count : 31\n",
            "Counter count : 32\n",
            "Counter count : 33\n",
            "Counter count : 34\n",
            "Counter count : 35\n",
            "Counter count : 36\n",
            "Counter count : 37\n",
            "Counter count : 38\n",
            "Counter count : 39\n",
            "50\n",
            "Counter count : 40\n",
            "Counter count : 41\n",
            "Counter count : 42\n",
            "Counter count : 43\n",
            "Counter count : 44\n",
            "60\n",
            "Counter count : 45\n",
            "Counter count : 46\n",
            "Counter count : 47\n",
            "Counter count : 48\n",
            "Counter count : 49\n",
            "Counter count : 50\n",
            "\n",
            " ALL THE DEV SET DOG- IMAGES STORED ON THE DIRECTORY\n",
            "\n",
            "Total Counter : 100\n"
          ],
          "name": "stdout"
        }
      ]
    },
    {
      "cell_type": "code",
      "metadata": {
        "id": "JmcJcCHMz2Ga",
        "colab": {
          "base_uri": "https://localhost:8080/"
        },
        "outputId": "a3343f3f-eb5b-48c2-b1c9-7678cbce48b8"
      },
      "source": [
        "n_of_training_images=50   #The number of Development images to use\n",
        "counter1=0\n",
        "for progress in range(10*n_of_training_images):  #store all 200 INDIAN ELEPHANT images on a directory\n",
        "    if (counter1 == n_of_training_images):\n",
        "      break\n",
        "    if (progress%10==0):\n",
        "        print(progress)\n",
        "    if not cat_split_urls1[progress] == None:\n",
        "      try:\n",
        "        I = url_to_image(cat_split_urls1[progress])\n",
        "        if (len(I.shape))==3:  #check if the image has width, length and channels\n",
        "          save_path = '/content/catdog_test/cat.'+str(progress)+'.jpg'#create a name of each image\n",
        "          cv2.imwrite(save_path,I)\n",
        "          counter1=counter1+1\n",
        "          print(\"Counter count :\",counter1)\n",
        "      except:\n",
        "        None\n",
        "\n",
        "counter2=0\n",
        "for progress in range(10*n_of_training_images):  #store all 200 INDIAN ELEPHANT images on a directory\n",
        "    if (counter2 == n_of_training_images):\n",
        "      break\n",
        "    if (progress%10==0):\n",
        "        print(progress)\n",
        "    if not cat_split_urls2[progress] == None:\n",
        "      try:\n",
        "        I = url_to_image(cat_split_urls2[progress])\n",
        "        if (len(I.shape))==3: #check if the image has width, length and channels\n",
        "          save_path = '/content/catdog_test/cat.'+str(progress)+'.jpg'#create a name of each image\n",
        "          cv2.imwrite(save_path,I)\n",
        "          counter2=counter2+1\n",
        "          print(\"Counter count :\",counter2)\n",
        "      except:\n",
        "        None\n",
        "\n",
        "print(\"\\n ALL THE TEST SET CATS- IMAGES STORED ON THE DIRECTORY\\n\")\n",
        "print(\"Total Counter :\" ,(counter1+counter2))\n",
        "\n",
        "n_of_training_images=50   #The number of Development images to use\n",
        "counter1=0\n",
        "for progress in range(10*n_of_training_images):#store all 200 INDIAN ELEPHANT images on a directory\n",
        "    if (counter1 == n_of_training_images):\n",
        "      break\n",
        "    if (progress%10==0):\n",
        "        print(progress)\n",
        "    if not dog_split_urls1[progress] == None:\n",
        "      try:\n",
        "        I = url_to_image(dog_split_urls1[progress])\n",
        "        if (len(I.shape))==3: #check if the image has width, length and channels\n",
        "          save_path = '/content/catdog_test/dog.'+str(progress)+'.jpg'#create a name of each image\n",
        "          cv2.imwrite(save_path,I)\n",
        "          counter1=counter1+1\n",
        "          print(\"Counter count :\",counter1)\n",
        "      except:\n",
        "        None\n",
        "\n",
        "counter2=0\n",
        "for progress in range(10*n_of_training_images):#store all 200 INDIAN ELEPHANT images on a directory\n",
        "    if (counter2 == n_of_training_images):\n",
        "      break\n",
        "    if (progress%10==0):\n",
        "        print(progress)\n",
        "    if not dog_split_urls2[progress] == None:\n",
        "      try:\n",
        "        I = url_to_image(dog_split_urls2[progress])\n",
        "        if (len(I.shape))==3: #check if the image has width, length and channels\n",
        "          save_path = '/content/catdog_test/dog.'+str(progress)+'.jpg'#create a name of each image\n",
        "          cv2.imwrite(save_path,I)\n",
        "          counter2=counter2+1\n",
        "          print(\"Counter count :\",counter2)\n",
        "      except:\n",
        "        None\n",
        "\n",
        "print(\"\\n ALL THE TEST SET DOG- IMAGES STORED ON THE DIRECTORY\\n\")\n",
        "print(\"Total Counter :\" ,(counter1+counter2))"
      ],
      "execution_count": null,
      "outputs": [
        {
          "output_type": "stream",
          "text": [
            "0\n",
            "Counter count : 1\n",
            "Counter count : 2\n",
            "Counter count : 3\n",
            "Counter count : 4\n",
            "Counter count : 5\n",
            "Counter count : 6\n",
            "Counter count : 7\n",
            "Counter count : 8\n",
            "10\n",
            "Counter count : 9\n",
            "Counter count : 10\n",
            "Counter count : 11\n",
            "Counter count : 12\n",
            "Counter count : 13\n",
            "Counter count : 14\n",
            "Counter count : 15\n",
            "Counter count : 16\n",
            "20\n",
            "Counter count : 17\n",
            "Counter count : 18\n",
            "Counter count : 19\n",
            "Counter count : 20\n",
            "Counter count : 21\n",
            "Counter count : 22\n",
            "Counter count : 23\n",
            "30\n",
            "Counter count : 24\n",
            "Counter count : 25\n",
            "Counter count : 26\n",
            "Counter count : 27\n",
            "Counter count : 28\n",
            "Counter count : 29\n",
            "Counter count : 30\n",
            "40\n",
            "Counter count : 31\n",
            "Counter count : 32\n",
            "Counter count : 33\n",
            "Counter count : 34\n",
            "Counter count : 35\n",
            "Counter count : 36\n",
            "Counter count : 37\n",
            "Counter count : 38\n",
            "Counter count : 39\n",
            "Counter count : 40\n",
            "50\n",
            "Counter count : 41\n",
            "Counter count : 42\n",
            "Counter count : 43\n",
            "Counter count : 44\n",
            "Counter count : 45\n",
            "Counter count : 46\n",
            "60\n",
            "Counter count : 47\n",
            "Counter count : 48\n",
            "Counter count : 49\n",
            "Counter count : 50\n",
            "0\n",
            "Counter count : 1\n",
            "Counter count : 2\n",
            "Counter count : 3\n",
            "Counter count : 4\n",
            "10\n",
            "Counter count : 5\n",
            "Counter count : 6\n",
            "Counter count : 7\n",
            "Counter count : 8\n",
            "Counter count : 9\n",
            "Counter count : 10\n",
            "20\n",
            "Counter count : 11\n",
            "Counter count : 12\n",
            "Counter count : 13\n",
            "Counter count : 14\n",
            "Counter count : 15\n",
            "30\n",
            "Counter count : 16\n",
            "Counter count : 17\n",
            "Counter count : 18\n",
            "40\n",
            "Counter count : 19\n",
            "Counter count : 20\n",
            "Counter count : 21\n",
            "Counter count : 22\n",
            "Counter count : 23\n",
            "Counter count : 24\n",
            "Counter count : 25\n",
            "Counter count : 26\n",
            "50\n",
            "Counter count : 27\n",
            "Counter count : 28\n",
            "Counter count : 29\n",
            "60\n",
            "Counter count : 30\n",
            "Counter count : 31\n",
            "Counter count : 32\n",
            "70\n",
            "Counter count : 33\n",
            "Counter count : 34\n",
            "Counter count : 35\n",
            "80\n",
            "Counter count : 36\n",
            "Counter count : 37\n",
            "Counter count : 38\n",
            "Counter count : 39\n",
            "Counter count : 40\n",
            "90\n",
            "Counter count : 41\n",
            "Counter count : 42\n",
            "Counter count : 43\n",
            "Counter count : 44\n",
            "Counter count : 45\n",
            "Counter count : 46\n",
            "100\n",
            "Counter count : 47\n",
            "Counter count : 48\n",
            "Counter count : 49\n",
            "Counter count : 50\n",
            "\n",
            " ALL THE TEST SET CATS- IMAGES STORED ON THE DIRECTORY\n",
            "\n",
            "Total Counter : 100\n",
            "0\n",
            "Counter count : 1\n",
            "Counter count : 2\n",
            "Counter count : 3\n",
            "Counter count : 4\n",
            "Counter count : 5\n",
            "Counter count : 6\n",
            "10\n",
            "Counter count : 7\n",
            "Counter count : 8\n",
            "Counter count : 9\n",
            "Counter count : 10\n",
            "Counter count : 11\n",
            "Counter count : 12\n",
            "Counter count : 13\n",
            "20\n",
            "Counter count : 14\n",
            "Counter count : 15\n",
            "Counter count : 16\n",
            "Counter count : 17\n",
            "Counter count : 18\n",
            "Counter count : 19\n",
            "30\n",
            "Counter count : 20\n",
            "Counter count : 21\n",
            "Counter count : 22\n",
            "Counter count : 23\n",
            "Counter count : 24\n",
            "Counter count : 25\n",
            "40\n",
            "Counter count : 26\n",
            "Counter count : 27\n",
            "Counter count : 28\n",
            "Counter count : 29\n",
            "Counter count : 30\n",
            "Counter count : 31\n",
            "Counter count : 32\n",
            "Counter count : 33\n",
            "50\n",
            "Counter count : 34\n",
            "Counter count : 35\n",
            "Counter count : 36\n",
            "Counter count : 37\n",
            "Counter count : 38\n",
            "60\n",
            "Counter count : 39\n",
            "Counter count : 40\n",
            "Counter count : 41\n",
            "Counter count : 42\n",
            "Counter count : 43\n",
            "Counter count : 44\n",
            "70\n",
            "Counter count : 45\n",
            "Counter count : 46\n",
            "Counter count : 47\n",
            "Counter count : 48\n",
            "Counter count : 49\n",
            "Counter count : 50\n",
            "0\n",
            "Counter count : 1\n",
            "Counter count : 2\n",
            "Counter count : 3\n",
            "Counter count : 4\n",
            "Counter count : 5\n",
            "Counter count : 6\n",
            "Counter count : 7\n",
            "Counter count : 8\n",
            "10\n",
            "Counter count : 9\n",
            "Counter count : 10\n",
            "Counter count : 11\n",
            "Counter count : 12\n",
            "Counter count : 13\n",
            "Counter count : 14\n",
            "Counter count : 15\n",
            "Counter count : 16\n",
            "Counter count : 17\n",
            "20\n",
            "Counter count : 18\n",
            "Counter count : 19\n",
            "Counter count : 20\n",
            "Counter count : 21\n",
            "Counter count : 22\n",
            "Counter count : 23\n",
            "Counter count : 24\n",
            "Counter count : 25\n",
            "30\n",
            "Counter count : 26\n",
            "Counter count : 27\n",
            "Counter count : 28\n",
            "Counter count : 29\n",
            "Counter count : 30\n",
            "40\n",
            "Counter count : 31\n",
            "Counter count : 32\n",
            "Counter count : 33\n",
            "Counter count : 34\n",
            "Counter count : 35\n",
            "Counter count : 36\n",
            "Counter count : 37\n",
            "Counter count : 38\n",
            "Counter count : 39\n",
            "50\n",
            "Counter count : 40\n",
            "Counter count : 41\n",
            "Counter count : 42\n",
            "Counter count : 43\n",
            "Counter count : 44\n",
            "60\n",
            "Counter count : 45\n",
            "Counter count : 46\n",
            "Counter count : 47\n",
            "Counter count : 48\n",
            "Counter count : 49\n",
            "Counter count : 50\n",
            "\n",
            " ALL THE TEST SET DOG- IMAGES STORED ON THE DIRECTORY\n",
            "\n",
            "Total Counter : 100\n"
          ],
          "name": "stdout"
        }
      ]
    },
    {
      "cell_type": "markdown",
      "metadata": {
        "id": "yR_eYOJ62hk0"
      },
      "source": [
        "###Save Dev images to folder"
      ]
    },
    {
      "cell_type": "code",
      "metadata": {
        "id": "dVyzi7Xk2kfA"
      },
      "source": [
        "# Path to the train folder\n",
        "import os\n",
        "original_dev = '/content/catdog_dev/'\n",
        " \n",
        "filenames = os.listdir(original_dev)\n",
        "categories = []\n",
        "for filename in filenames:\n",
        "  category = filename.split('.')[0]\n",
        "  if category == 'cat':\n",
        "    categories.append('0')\n",
        "  else:\n",
        "    categories.append('1')\n",
        "\n",
        "\n",
        "#Create dataframe for Development\n",
        "\n",
        "import pandas as pd\n",
        "data = pd.DataFrame({'filename':filenames,'label':categories})\n",
        "data.to_csv(\"original_catdog_dev.csv\",index=False)"
      ],
      "execution_count": null,
      "outputs": []
    },
    {
      "cell_type": "code",
      "metadata": {
        "id": "fJmNNvfx2w0O",
        "colab": {
          "base_uri": "https://localhost:8080/",
          "height": 419
        },
        "outputId": "f86f5f4a-2720-4ba1-8a3c-37c1dae33c77"
      },
      "source": [
        "data"
      ],
      "execution_count": null,
      "outputs": [
        {
          "output_type": "execute_result",
          "data": {
            "text/html": [
              "<div>\n",
              "<style scoped>\n",
              "    .dataframe tbody tr th:only-of-type {\n",
              "        vertical-align: middle;\n",
              "    }\n",
              "\n",
              "    .dataframe tbody tr th {\n",
              "        vertical-align: top;\n",
              "    }\n",
              "\n",
              "    .dataframe thead th {\n",
              "        text-align: right;\n",
              "    }\n",
              "</style>\n",
              "<table border=\"1\" class=\"dataframe\">\n",
              "  <thead>\n",
              "    <tr style=\"text-align: right;\">\n",
              "      <th></th>\n",
              "      <th>filename</th>\n",
              "      <th>label</th>\n",
              "    </tr>\n",
              "  </thead>\n",
              "  <tbody>\n",
              "    <tr>\n",
              "      <th>0</th>\n",
              "      <td>cat.10.jpg</td>\n",
              "      <td>0</td>\n",
              "    </tr>\n",
              "    <tr>\n",
              "      <th>1</th>\n",
              "      <td>dog.64.jpg</td>\n",
              "      <td>1</td>\n",
              "    </tr>\n",
              "    <tr>\n",
              "      <th>2</th>\n",
              "      <td>cat.35.jpg</td>\n",
              "      <td>0</td>\n",
              "    </tr>\n",
              "    <tr>\n",
              "      <th>3</th>\n",
              "      <td>dog.58.jpg</td>\n",
              "      <td>1</td>\n",
              "    </tr>\n",
              "    <tr>\n",
              "      <th>4</th>\n",
              "      <td>dog.27.jpg</td>\n",
              "      <td>1</td>\n",
              "    </tr>\n",
              "    <tr>\n",
              "      <th>...</th>\n",
              "      <td>...</td>\n",
              "      <td>...</td>\n",
              "    </tr>\n",
              "    <tr>\n",
              "      <th>139</th>\n",
              "      <td>cat.73.jpg</td>\n",
              "      <td>0</td>\n",
              "    </tr>\n",
              "    <tr>\n",
              "      <th>140</th>\n",
              "      <td>dog.11.jpg</td>\n",
              "      <td>1</td>\n",
              "    </tr>\n",
              "    <tr>\n",
              "      <th>141</th>\n",
              "      <td>dog.40.jpg</td>\n",
              "      <td>1</td>\n",
              "    </tr>\n",
              "    <tr>\n",
              "      <th>142</th>\n",
              "      <td>cat.80.jpg</td>\n",
              "      <td>0</td>\n",
              "    </tr>\n",
              "    <tr>\n",
              "      <th>143</th>\n",
              "      <td>dog.10.jpg</td>\n",
              "      <td>1</td>\n",
              "    </tr>\n",
              "  </tbody>\n",
              "</table>\n",
              "<p>144 rows × 2 columns</p>\n",
              "</div>"
            ],
            "text/plain": [
              "       filename label\n",
              "0    cat.10.jpg     0\n",
              "1    dog.64.jpg     1\n",
              "2    cat.35.jpg     0\n",
              "3    dog.58.jpg     1\n",
              "4    dog.27.jpg     1\n",
              "..          ...   ...\n",
              "139  cat.73.jpg     0\n",
              "140  dog.11.jpg     1\n",
              "141  dog.40.jpg     1\n",
              "142  cat.80.jpg     0\n",
              "143  dog.10.jpg     1\n",
              "\n",
              "[144 rows x 2 columns]"
            ]
          },
          "metadata": {
            "tags": []
          },
          "execution_count": 15
        }
      ]
    },
    {
      "cell_type": "markdown",
      "metadata": {
        "id": "FUks4rP83Bpr"
      },
      "source": [
        "###Similarly for test"
      ]
    },
    {
      "cell_type": "code",
      "metadata": {
        "id": "CFlkxX8j3EPC"
      },
      "source": [
        "# Path to the train folder\n",
        "import os\n",
        "original_test = '/content/catdog_test/'\n",
        " \n",
        "filenames = os.listdir(original_test)\n",
        "categories = []\n",
        "for filename in filenames:\n",
        "  category = filename.split('.')[0]\n",
        "  if category == 'cat':\n",
        "    categories.append(0)\n",
        "  else:\n",
        "    categories.append(1)\n",
        "\n",
        "data_test = pd.DataFrame({'filename':filenames,'label':categories})\n",
        "data_test.to_csv(\"original_catdog_test.csv\",index=False)\n"
      ],
      "execution_count": null,
      "outputs": []
    },
    {
      "cell_type": "code",
      "metadata": {
        "id": "Fxt5P9b43F1Y",
        "colab": {
          "base_uri": "https://localhost:8080/",
          "height": 419
        },
        "outputId": "71d5e139-1a93-4937-874f-4ddf08aa1e08"
      },
      "source": [
        "data_test"
      ],
      "execution_count": null,
      "outputs": [
        {
          "output_type": "execute_result",
          "data": {
            "text/html": [
              "<div>\n",
              "<style scoped>\n",
              "    .dataframe tbody tr th:only-of-type {\n",
              "        vertical-align: middle;\n",
              "    }\n",
              "\n",
              "    .dataframe tbody tr th {\n",
              "        vertical-align: top;\n",
              "    }\n",
              "\n",
              "    .dataframe thead th {\n",
              "        text-align: right;\n",
              "    }\n",
              "</style>\n",
              "<table border=\"1\" class=\"dataframe\">\n",
              "  <thead>\n",
              "    <tr style=\"text-align: right;\">\n",
              "      <th></th>\n",
              "      <th>filename</th>\n",
              "      <th>label</th>\n",
              "    </tr>\n",
              "  </thead>\n",
              "  <tbody>\n",
              "    <tr>\n",
              "      <th>0</th>\n",
              "      <td>cat.10.jpg</td>\n",
              "      <td>0</td>\n",
              "    </tr>\n",
              "    <tr>\n",
              "      <th>1</th>\n",
              "      <td>dog.64.jpg</td>\n",
              "      <td>1</td>\n",
              "    </tr>\n",
              "    <tr>\n",
              "      <th>2</th>\n",
              "      <td>cat.35.jpg</td>\n",
              "      <td>0</td>\n",
              "    </tr>\n",
              "    <tr>\n",
              "      <th>3</th>\n",
              "      <td>dog.58.jpg</td>\n",
              "      <td>1</td>\n",
              "    </tr>\n",
              "    <tr>\n",
              "      <th>4</th>\n",
              "      <td>dog.27.jpg</td>\n",
              "      <td>1</td>\n",
              "    </tr>\n",
              "    <tr>\n",
              "      <th>...</th>\n",
              "      <td>...</td>\n",
              "      <td>...</td>\n",
              "    </tr>\n",
              "    <tr>\n",
              "      <th>139</th>\n",
              "      <td>cat.73.jpg</td>\n",
              "      <td>0</td>\n",
              "    </tr>\n",
              "    <tr>\n",
              "      <th>140</th>\n",
              "      <td>dog.11.jpg</td>\n",
              "      <td>1</td>\n",
              "    </tr>\n",
              "    <tr>\n",
              "      <th>141</th>\n",
              "      <td>dog.40.jpg</td>\n",
              "      <td>1</td>\n",
              "    </tr>\n",
              "    <tr>\n",
              "      <th>142</th>\n",
              "      <td>cat.80.jpg</td>\n",
              "      <td>0</td>\n",
              "    </tr>\n",
              "    <tr>\n",
              "      <th>143</th>\n",
              "      <td>dog.10.jpg</td>\n",
              "      <td>1</td>\n",
              "    </tr>\n",
              "  </tbody>\n",
              "</table>\n",
              "<p>144 rows × 2 columns</p>\n",
              "</div>"
            ],
            "text/plain": [
              "       filename  label\n",
              "0    cat.10.jpg      0\n",
              "1    dog.64.jpg      1\n",
              "2    cat.35.jpg      0\n",
              "3    dog.58.jpg      1\n",
              "4    dog.27.jpg      1\n",
              "..          ...    ...\n",
              "139  cat.73.jpg      0\n",
              "140  dog.11.jpg      1\n",
              "141  dog.40.jpg      1\n",
              "142  cat.80.jpg      0\n",
              "143  dog.10.jpg      1\n",
              "\n",
              "[144 rows x 2 columns]"
            ]
          },
          "metadata": {
            "tags": []
          },
          "execution_count": 17
        }
      ]
    },
    {
      "cell_type": "code",
      "metadata": {
        "id": "Z-hlwEr54Uad",
        "colab": {
          "base_uri": "https://localhost:8080/",
          "height": 120
        },
        "outputId": "810ab6ea-e7fc-49f1-a1cf-413f074b5c0b"
      },
      "source": [
        "'''\n",
        "from keras.preprocessing.image import ImageDataGenerator\n",
        "\n",
        "datagen = ImageDataGenerator()\n",
        "datagen.fit(x_train)\n",
        "\n",
        "dev_generator = datagen.flow_from_dataframe(dataframe=data, directory=original_dev,\n",
        "                                             x_col='filename',\n",
        "                                             y_col='label',\n",
        "                                             target_size=(32,32),\n",
        "                                             class_mode='binary',\n",
        "                                             #batch_size=10,\n",
        "                                             #subset='validation',\n",
        "                                             #shuffle=True,\n",
        "                                             #seed=7,\n",
        "                                            color_mode='rgb')\n",
        "\n",
        "test_datagen=ImageDataGenerator(rescale=1./255)\n",
        "\n",
        "test_generator=test_datagen.flow_from_dataframe(dataframe=data_test,\n",
        "                                                directory=\"/content/catdog_test/\",\n",
        "                                                x_col=\"filename\",\n",
        "                                                y_col=None,\n",
        "                                                #batch_size=10,\n",
        "                                                #seed=7,\n",
        "                                                #shuffle=False,\n",
        "                                                class_mode=None,\n",
        "                                                target_size=(32,32),\n",
        "                                                color_mode='rgb')\n",
        "'''"
      ],
      "execution_count": null,
      "outputs": [
        {
          "output_type": "execute_result",
          "data": {
            "application/vnd.google.colaboratory.intrinsic+json": {
              "type": "string"
            },
            "text/plain": [
              "'\\nfrom keras.preprocessing.image import ImageDataGenerator\\n\\ndatagen = ImageDataGenerator()\\ndatagen.fit(x_train)\\n\\ndev_generator = datagen.flow_from_dataframe(dataframe=data, directory=original_dev,\\n                                             x_col=\\'filename\\',\\n                                             y_col=\\'label\\',\\n                                             target_size=(32,32),\\n                                             class_mode=\\'binary\\',\\n                                             #batch_size=10,\\n                                             #subset=\\'validation\\',\\n                                             #shuffle=True,\\n                                             #seed=7,\\n                                            color_mode=\\'rgb\\')\\n\\ntest_datagen=ImageDataGenerator(rescale=1./255)\\n\\ntest_generator=test_datagen.flow_from_dataframe(dataframe=data_test,\\n                                                directory=\"/content/catdog_test/\",\\n                                                x_col=\"filename\",\\n                                                y_col=None,\\n                                                #batch_size=10,\\n                                                #seed=7,\\n                                                #shuffle=False,\\n                                                class_mode=None,\\n                                                target_size=(32,32),\\n                                                color_mode=\\'rgb\\')\\n'"
            ]
          },
          "metadata": {
            "tags": []
          },
          "execution_count": 18
        }
      ]
    },
    {
      "cell_type": "markdown",
      "metadata": {
        "id": "QwUZCzc0LmYX"
      },
      "source": [
        "###Model Building"
      ]
    },
    {
      "cell_type": "code",
      "metadata": {
        "id": "2XgbTA2MN_ZF",
        "colab": {
          "base_uri": "https://localhost:8080/",
          "height": 120
        },
        "outputId": "64ff2863-47a3-47aa-b3fe-4af8dfeb7103"
      },
      "source": [
        "'''\n",
        "from keras import models\n",
        "from keras.layers import Dense, Dropout\n",
        "from keras.models import Sequential\n",
        "from keras.layers import Activation, Flatten, Conv2D,MaxPooling2D\n",
        "from keras.utils.vis_utils import model_to_dot\n",
        "from IPython.display import SVG\n",
        "from keras import layers\n",
        "\n",
        "model = Sequential()\n",
        "model.add(Conv2D(filters = 32, kernel_size = (5,5),padding = 'valid',activation ='relu', input_shape=x_train.shape[1:]))\n",
        "model.add(MaxPooling2D(pool_size=(2,2)))\n",
        "model.add(Dropout(0.20))\n",
        "\n",
        "model.add(Conv2D(filters = 64, kernel_size = (3,3),padding = 'valid',activation ='relu'))\n",
        "model.add(MaxPooling2D(pool_size=(2,2), strides=(2,2)))\n",
        "model.add(Dropout(0.15))\n",
        "\n",
        "model.add(Flatten())\n",
        "model.add(Dense(1024))\n",
        "model.add(Activation('relu'))\n",
        "\n",
        "model.add(Dense(512))\n",
        "model.add(Activation('relu'))\n",
        "\n",
        "model.add(Dense(256))\n",
        "model.add(Activation('relu'))\n",
        "\n",
        "model.add(Dense(1, activation = \"sigmoid\"))\n",
        "model.summary()\n",
        "'''"
      ],
      "execution_count": null,
      "outputs": [
        {
          "output_type": "execute_result",
          "data": {
            "application/vnd.google.colaboratory.intrinsic+json": {
              "type": "string"
            },
            "text/plain": [
              "'\\nfrom keras import models\\nfrom keras.layers import Dense, Dropout\\nfrom keras.models import Sequential\\nfrom keras.layers import Activation, Flatten, Conv2D,MaxPooling2D\\nfrom keras.utils.vis_utils import model_to_dot\\nfrom IPython.display import SVG\\nfrom keras import layers\\n\\nmodel = Sequential()\\nmodel.add(Conv2D(filters = 32, kernel_size = (5,5),padding = \\'valid\\',activation =\\'relu\\', input_shape=x_train.shape[1:]))\\nmodel.add(MaxPooling2D(pool_size=(2,2)))\\nmodel.add(Dropout(0.20))\\n\\nmodel.add(Conv2D(filters = 64, kernel_size = (3,3),padding = \\'valid\\',activation =\\'relu\\'))\\nmodel.add(MaxPooling2D(pool_size=(2,2), strides=(2,2)))\\nmodel.add(Dropout(0.15))\\n\\nmodel.add(Flatten())\\nmodel.add(Dense(1024))\\nmodel.add(Activation(\\'relu\\'))\\n\\nmodel.add(Dense(512))\\nmodel.add(Activation(\\'relu\\'))\\n\\nmodel.add(Dense(256))\\nmodel.add(Activation(\\'relu\\'))\\n\\nmodel.add(Dense(1, activation = \"sigmoid\"))\\nmodel.summary()\\n'"
            ]
          },
          "metadata": {
            "tags": []
          },
          "execution_count": 19
        }
      ]
    },
    {
      "cell_type": "code",
      "metadata": {
        "id": "gNoBLty7fd50"
      },
      "source": [
        "#Building the Sequential Model\n",
        "from tensorflow.keras.layers import BatchNormalization, Activation, MaxPooling2D\n",
        "from keras import models\n",
        "from keras.layers import Dense, Dropout\n",
        "from keras.models import Sequential\n",
        "from keras.layers import Activation, Flatten, Conv2D,MaxPooling2D\n",
        "from keras.utils.vis_utils import model_to_dot\n",
        "from IPython.display import SVG\n",
        "from keras import layers\n",
        "\n",
        "#We need to use a Conv2D layer at start of the neural network for Images\n",
        "#the syntax is Conv2D(1, (image_width,image_height), padding=\"valid\", activation=\"sigmoid\", input_shape=X_train.shape[1:])\n",
        "#the we add a flatten layer\n",
        "model = Sequential()\n",
        "# 1st Convolution\n",
        "model.add(Conv2D(32 , (5 , 5) , padding = \"same\" ,  input_shape=x_train.shape[1:],activation=\"relu\"))\n",
        "model.add(BatchNormalization())\n",
        "model.add(MaxPooling2D(pool_size = (2 , 2)))\n",
        "model.add(Dropout(0.25))\n",
        "\n",
        "# 2nd Convolution layer\n",
        "model.add(Conv2D(64 , (5 , 5) , padding = \"same\",activation=\"relu\"))\n",
        "model.add(BatchNormalization())\n",
        "model.add(Activation(\"relu\"))\n",
        "model.add(MaxPooling2D(pool_size = (2 , 2)))\n",
        "model.add(Dropout(0.25))\n",
        "\n",
        "# 3rd Convolution layer\n",
        "model.add(Conv2D(128 , (5 , 5) , padding = \"same\",activation=\"relu\"))\n",
        "model.add(BatchNormalization())\n",
        "model.add(Activation(\"relu\"))\n",
        "model.add(MaxPooling2D(pool_size = (2 , 2)))\n",
        "model.add(Dropout(0.5))\n",
        "\n",
        "# Flattening to run the model\n",
        "model.add(Flatten())\n",
        "\n",
        "model.add(Dense(1024,activation=\"relu\"))\n",
        "model.add(BatchNormalization())\n",
        "model.add(Dropout(0.4))\n",
        "\n",
        "model.add(Dense(512,activation=\"relu\"))\n",
        "model.add(BatchNormalization())\n",
        "model.add(Dropout(0.4))\n",
        "\n",
        "#As it has 3 classes so last layer has 3 units\n",
        "model.add(Dense(1 , activation=\"sigmoid\"))"
      ],
      "execution_count": null,
      "outputs": []
    },
    {
      "cell_type": "code",
      "metadata": {
        "id": "HwFoBFr2OEqY"
      },
      "source": [
        "from keras.callbacks import ReduceLROnPlateau\n",
        "from keras.optimizers import Adam\n",
        "from keras.callbacks import ModelCheckpoint, EarlyStopping\n",
        "filepath = \"weights-improvement-experiment3.h5\"\n",
        "checkpoint = ModelCheckpoint(filepath, monitor = 'val_accuracy', verbose=1, save_best_only=True, mode='max')\n",
        "es = EarlyStopping(monitor='val_loss', mode='min', verbose=1, patience=30, min_delta=0.01, baseline=2.0)\n",
        "red_lr= ReduceLROnPlateau(monitor='val_accuracy',patience=10,verbose=1,factor=0.1)\n",
        "callbacks_list = [checkpoint, es,red_lr]"
      ],
      "execution_count": null,
      "outputs": []
    },
    {
      "cell_type": "code",
      "metadata": {
        "id": "RyqkJ18jOG6B"
      },
      "source": [
        "model.compile(loss='binary_crossentropy',optimizer=Adam(lr=0.001),metrics=['accuracy'])"
      ],
      "execution_count": null,
      "outputs": []
    },
    {
      "cell_type": "markdown",
      "metadata": {
        "id": "kABOSPLubK_F"
      },
      "source": [
        "###Using Flow from DataFrame Technique "
      ]
    },
    {
      "cell_type": "code",
      "metadata": {
        "id": "JVmZ_qlD5beV",
        "colab": {
          "base_uri": "https://localhost:8080/"
        },
        "outputId": "11eaf7c7-ab35-4462-eede-afdf81c3406d"
      },
      "source": [
        "from keras.preprocessing.image import load_img, img_to_array, ImageDataGenerator\n",
        "datagen = ImageDataGenerator(\n",
        "    featurewise_center=True,\n",
        "    featurewise_std_normalization=True,\n",
        "    rotation_range=5,\n",
        "    width_shift_range=0.2,\n",
        "    height_shift_range=0.2,\n",
        "    horizontal_flip=True)\n",
        "\n",
        "datagen.fit(x_train)\n",
        "\n",
        "dev_generator = datagen.flow_from_dataframe(dataframe=data, directory=original_dev,\n",
        "                                             x_col='filename',\n",
        "                                             y_col='label',\n",
        "                                             target_size=(32,32),\n",
        "                                             class_mode='binary',\n",
        "                                             #batch_size=10,\n",
        "                                             #subset='validation',\n",
        "                                             #shuffle=True,\n",
        "                                             #seed=7,\n",
        "                                            color_mode='rgb')\n",
        "\n",
        "test_datagen=ImageDataGenerator(rescale=1/255)\n",
        "\n",
        "test_generator=test_datagen.flow_from_dataframe(dataframe=data_test,\n",
        "                                                directory=\"/content/catdog_test/\",\n",
        "                                                x_col=\"filename\",\n",
        "                                                y_col=None,\n",
        "                                                #batch_size=10,\n",
        "                                                #seed=7,\n",
        "                                                #shuffle=False,\n",
        "                                                class_mode=None,\n",
        "                                                target_size=(32,32),\n",
        "                                                color_mode='rgb')"
      ],
      "execution_count": null,
      "outputs": [
        {
          "output_type": "stream",
          "text": [
            "Found 144 validated image filenames belonging to 2 classes.\n",
            "Found 144 validated image filenames.\n"
          ],
          "name": "stdout"
        }
      ]
    },
    {
      "cell_type": "code",
      "metadata": {
        "id": "-W4sm9ZYOHkC",
        "colab": {
          "base_uri": "https://localhost:8080/"
        },
        "outputId": "d2a8accb-573e-4a55-bdd2-365d09230b91"
      },
      "source": [
        "# fits the model on batches with real-time data augmentation:\n",
        "history=model.fit(datagen.flow(x_train, y_train),epochs=100,verbose=1,callbacks=callbacks_list,validation_data=dev_generator)"
      ],
      "execution_count": null,
      "outputs": [
        {
          "output_type": "stream",
          "text": [
            "Epoch 1/5\n",
            "313/313 [==============================] - 15s 22ms/step - loss: 0.9738 - accuracy: 0.5236 - val_loss: 1222.9117 - val_accuracy: 0.5278\n",
            "\n",
            "Epoch 00001: val_accuracy improved from -inf to 0.52778, saving model to weights-improvement-experiment3.h5\n",
            "Epoch 2/5\n",
            "313/313 [==============================] - 6s 20ms/step - loss: 0.7201 - accuracy: 0.5534 - val_loss: 814.3580 - val_accuracy: 0.5278\n",
            "\n",
            "Epoch 00002: val_accuracy did not improve from 0.52778\n",
            "Epoch 3/5\n",
            "313/313 [==============================] - 6s 20ms/step - loss: 0.6772 - accuracy: 0.5970 - val_loss: 222.4556 - val_accuracy: 0.4792\n",
            "\n",
            "Epoch 00003: val_accuracy did not improve from 0.52778\n",
            "Epoch 4/5\n",
            "313/313 [==============================] - 6s 21ms/step - loss: 0.6719 - accuracy: 0.5966 - val_loss: 131.5236 - val_accuracy: 0.5208\n",
            "\n",
            "Epoch 00004: val_accuracy did not improve from 0.52778\n",
            "Epoch 5/5\n",
            "313/313 [==============================] - 6s 20ms/step - loss: 0.6447 - accuracy: 0.6344 - val_loss: 519.2340 - val_accuracy: 0.4722\n",
            "\n",
            "Epoch 00005: val_accuracy did not improve from 0.52778\n"
          ],
          "name": "stdout"
        }
      ]
    },
    {
      "cell_type": "markdown",
      "metadata": {
        "id": "Ri4En1wvOPkM"
      },
      "source": [
        "Plot of accuracy of Train & Validation\n"
      ]
    },
    {
      "cell_type": "code",
      "metadata": {
        "id": "TW3F_TizOO4J",
        "colab": {
          "base_uri": "https://localhost:8080/",
          "height": 295
        },
        "outputId": "22ced648-70b4-4f06-aed3-cbda2d8c6ade"
      },
      "source": [
        "import matplotlib.pyplot as plt\n",
        "plt.plot(history.history['accuracy'])\n",
        "plt.plot(history.history['val_accuracy'])\n",
        "plt.title(\"Model accuracy\")\n",
        "plt.ylabel(\"Accuracy\")\n",
        "plt.xlabel(\"Epochs/iterations\")\n",
        "plt.legend(['Train','Validation'], loc=\"upper left\")\n",
        "plt.show()"
      ],
      "execution_count": null,
      "outputs": [
        {
          "output_type": "display_data",
          "data": {
            "image/png": "[encoded data removed]",
            "text/plain": [
              "<Figure size 432x288 with 1 Axes>"
            ]
          },
          "metadata": {
            "tags": [],
            "needs_background": "light"
          }
        }
      ]
    },
    {
      "cell_type": "markdown",
      "metadata": {
        "id": "vd5OHFmSOUg0"
      },
      "source": [
        "Plot of Loss of Train & Validation\n"
      ]
    },
    {
      "cell_type": "code",
      "metadata": {
        "id": "9FVY-lWOOWjO",
        "colab": {
          "base_uri": "https://localhost:8080/",
          "height": 295
        },
        "outputId": "caa8340f-bc0d-4bf6-8e95-8a346a138827"
      },
      "source": [
        "plt.plot(history.history['loss'])\n",
        "plt.plot(history.history['val_loss'])\n",
        "plt.title(\"Model LOSS\")\n",
        "plt.ylabel(\"Loss\")\n",
        "plt.xlabel(\"Epochs/iterations\")\n",
        "plt.legend(['Train','Validation'], loc=\"upper left\")\n",
        "plt.show()"
      ],
      "execution_count": null,
      "outputs": [
        {
          "output_type": "display_data",
          "data": {
            "image/png": "[encoded data removed]",
            "text/plain": [
              "<Figure size 432x288 with 1 Axes>"
            ]
          },
          "metadata": {
            "tags": [],
            "needs_background": "light"
          }
        }
      ]
    },
    {
      "cell_type": "markdown",
      "metadata": {
        "id": "2tHwKfNy6Mb8"
      },
      "source": [
        "#Predict the output\n"
      ]
    },
    {
      "cell_type": "code",
      "metadata": {
        "id": "UAicJTg86ONr",
        "colab": {
          "base_uri": "https://localhost:8080/"
        },
        "outputId": "dc75d8a1-f670-4864-9b69-261fb44d5d86"
      },
      "source": [
        "test_generator.reset()\n",
        "predictions=np.argmax(model.predict_generator(test_generator),axis=-1)\n",
        "\n",
        "filenames=test_generator.filenames\n",
        "results=pd.DataFrame({\"Filename\":filenames,\"Predictions\":predictions})\n",
        "\n",
        "results.to_csv(\"results_catsdogs_test.csv\",index=False)"
      ],
      "execution_count": null,
      "outputs": [
        {
          "output_type": "stream",
          "text": [
            "/usr/local/lib/python3.6/dist-packages/tensorflow/python/keras/engine/training.py:1905: UserWarning: `Model.predict_generator` is deprecated and will be removed in a future version. Please use `Model.predict`, which supports generators.\n",
            "  warnings.warn('`Model.predict_generator` is deprecated and '\n"
          ],
          "name": "stderr"
        }
      ]
    },
    {
      "cell_type": "code",
      "metadata": {
        "id": "kmkJ2HtY6Set",
        "colab": {
          "base_uri": "https://localhost:8080/"
        },
        "outputId": "e8539741-216b-45d8-b8c8-e4b96a01799e"
      },
      "source": [
        "predictions"
      ],
      "execution_count": null,
      "outputs": [
        {
          "output_type": "execute_result",
          "data": {
            "text/plain": [
              "array([0, 0, 0, 0, 0, 0, 0, 0, 0, 0, 0, 0, 0, 0, 0, 0, 0, 0, 0, 0, 0, 0,\n",
              "       0, 0, 0, 0, 0, 0, 0, 0, 0, 0, 0, 0, 0, 0, 0, 0, 0, 0, 0, 0, 0, 0,\n",
              "       0, 0, 0, 0, 0, 0, 0, 0, 0, 0, 0, 0, 0, 0, 0, 0, 0, 0, 0, 0, 0, 0,\n",
              "       0, 0, 0, 0, 0, 0, 0, 0, 0, 0, 0, 0, 0, 0, 0, 0, 0, 0, 0, 0, 0, 0,\n",
              "       0, 0, 0, 0, 0, 0, 0, 0, 0, 0, 0, 0, 0, 0, 0, 0, 0, 0, 0, 0, 0, 0,\n",
              "       0, 0, 0, 0, 0, 0, 0, 0, 0, 0, 0, 0, 0, 0, 0, 0, 0, 0, 0, 0, 0, 0,\n",
              "       0, 0, 0, 0, 0, 0, 0, 0, 0, 0, 0, 0])"
            ]
          },
          "metadata": {
            "tags": []
          },
          "execution_count": 28
        }
      ]
    },
    {
      "cell_type": "code",
      "metadata": {
        "id": "M0ndGrW86S-F",
        "colab": {
          "base_uri": "https://localhost:8080/"
        },
        "outputId": "12932757-b36e-4b97-8d6c-c772e0663eb1"
      },
      "source": [
        "results['Predictions']"
      ],
      "execution_count": null,
      "outputs": [
        {
          "output_type": "execute_result",
          "data": {
            "text/plain": [
              "0      0\n",
              "1      0\n",
              "2      0\n",
              "3      0\n",
              "4      0\n",
              "      ..\n",
              "139    0\n",
              "140    0\n",
              "141    0\n",
              "142    0\n",
              "143    0\n",
              "Name: Predictions, Length: 144, dtype: int64"
            ]
          },
          "metadata": {
            "tags": []
          },
          "execution_count": 29
        }
      ]
    },
    {
      "cell_type": "code",
      "metadata": {
        "id": "uMVk7rpY6UtG",
        "colab": {
          "base_uri": "https://localhost:8080/"
        },
        "outputId": "2559ddb5-f4d7-4389-bfa1-fdf341396b76"
      },
      "source": [
        "data_test['label']"
      ],
      "execution_count": null,
      "outputs": [
        {
          "output_type": "execute_result",
          "data": {
            "text/plain": [
              "0      0\n",
              "1      1\n",
              "2      0\n",
              "3      1\n",
              "4      1\n",
              "      ..\n",
              "139    0\n",
              "140    1\n",
              "141    1\n",
              "142    0\n",
              "143    1\n",
              "Name: label, Length: 144, dtype: int64"
            ]
          },
          "metadata": {
            "tags": []
          },
          "execution_count": 30
        }
      ]
    },
    {
      "cell_type": "markdown",
      "metadata": {
        "id": "UYlYVgvc6Y6c"
      },
      "source": [
        "Confusion matrix"
      ]
    },
    {
      "cell_type": "code",
      "metadata": {
        "id": "v_bvY1346blE",
        "colab": {
          "base_uri": "https://localhost:8080/",
          "height": 367
        },
        "outputId": "d48e4715-484c-457c-b6fc-1be4c3f1c209"
      },
      "source": [
        "plt.figure(figsize=(10,5))\n",
        "from sklearn.metrics import confusion_matrix, classification_report, accuracy_score\n",
        "cm = confusion_matrix(np.asarray(data_test['label']), results['Predictions'])\n",
        "ax = plt.subplot()\n",
        "\n",
        "import seaborn as sns\n",
        "sns.heatmap(cm, annot = True, ax = ax)\n",
        "\n",
        "ax.set_xlabel('Predicted')\n",
        "ax.set_ylabel('Original')\n",
        "ax.set_title('Confusion_matrix')"
      ],
      "execution_count": null,
      "outputs": [
        {
          "output_type": "execute_result",
          "data": {
            "text/plain": [
              "Text(0.5, 1.0, 'Confusion_matrix')"
            ]
          },
          "metadata": {
            "tags": []
          },
          "execution_count": 31
        },
        {
          "output_type": "display_data",
          "data": {
            "image/png": "[encoded data removed]",
            "text/plain": [
              "<Figure size 720x360 with 2 Axes>"
            ]
          },
          "metadata": {
            "tags": [],
            "needs_background": "light"
          }
        }
      ]
    },
    {
      "cell_type": "markdown",
      "metadata": {
        "id": "ECwjQOJx6f7v"
      },
      "source": [
        "Classification report"
      ]
    },
    {
      "cell_type": "code",
      "metadata": {
        "id": "qDIXXZhC6htx",
        "colab": {
          "base_uri": "https://localhost:8080/"
        },
        "outputId": "73f571c4-54c4-4cb1-9f5a-805f3666ad5a"
      },
      "source": [
        "print(classification_report(np.asarray(data_test['label']), results[\"Predictions\"]))"
      ],
      "execution_count": null,
      "outputs": [
        {
          "output_type": "stream",
          "text": [
            "              precision    recall  f1-score   support\n",
            "\n",
            "           0       0.53      1.00      0.69        76\n",
            "           1       0.00      0.00      0.00        68\n",
            "\n",
            "    accuracy                           0.53       144\n",
            "   macro avg       0.26      0.50      0.35       144\n",
            "weighted avg       0.28      0.53      0.36       144\n",
            "\n"
          ],
          "name": "stdout"
        },
        {
          "output_type": "stream",
          "text": [
            "/usr/local/lib/python3.6/dist-packages/sklearn/metrics/_classification.py:1272: UndefinedMetricWarning: Precision and F-score are ill-defined and being set to 0.0 in labels with no predicted samples. Use `zero_division` parameter to control this behavior.\n",
            "  _warn_prf(average, modifier, msg_start, len(result))\n"
          ],
          "name": "stderr"
        }
      ]
    },
    {
      "cell_type": "markdown",
      "metadata": {
        "id": "IjOEqHJm6lq3"
      },
      "source": [
        "Getting the test accuracy by checking on labels\n"
      ]
    },
    {
      "cell_type": "code",
      "metadata": {
        "id": "rnKdjZWD6oDH",
        "colab": {
          "base_uri": "https://localhost:8080/"
        },
        "outputId": "fc5a7b6d-72be-4f8d-f87f-ac58792800f3"
      },
      "source": [
        "score = accuracy_score(results['Predictions'],data_test[\"label\"])\n",
        "print('Test Accuracy:',score*100)"
      ],
      "execution_count": null,
      "outputs": [
        {
          "output_type": "stream",
          "text": [
            "Test Accuracy: 52.77777777777778\n"
          ],
          "name": "stdout"
        }
      ]
    },
    {
      "cell_type": "markdown",
      "metadata": {
        "id": "_X2j_3Axh3LQ"
      },
      "source": [
        "#Deployment"
      ]
    },
    {
      "cell_type": "code",
      "metadata": {
        "id": "Subl3y3jh4aS",
        "colab": {
          "base_uri": "https://localhost:8080/"
        },
        "outputId": "a4f8f434-dcf4-4289-ee07-737964eef75f"
      },
      "source": [
        "!pip install flask gevent requests pillow"
      ],
      "execution_count": null,
      "outputs": [
        {
          "output_type": "stream",
          "text": [
            "Requirement already satisfied: flask in /usr/local/lib/python3.6/dist-packages (1.1.2)\n",
            "Collecting gevent\n",
            "\u001b[?25l  Downloading https://files.pythonhosted.org/packages/f5/90/000736e587a720f8eef2bcd384456ce2add5ddfc3c63cf51a7ea13412cb6/gevent-21.1.2-cp36-cp36m-manylinux2010_x86_64.whl (5.5MB)\n",
            "\u001b[K     |████████████████████████████████| 5.5MB 8.0MB/s \n",
            "\u001b[?25hRequirement already satisfied: requests in /usr/local/lib/python3.6/dist-packages (2.23.0)\n",
            "Requirement already satisfied: pillow in /usr/local/lib/python3.6/dist-packages (7.0.0)\n",
            "Requirement already satisfied: Jinja2>=2.10.1 in /usr/local/lib/python3.6/dist-packages (from flask) (2.11.3)\n",
            "Requirement already satisfied: Werkzeug>=0.15 in /usr/local/lib/python3.6/dist-packages (from flask) (1.0.1)\n",
            "Requirement already satisfied: itsdangerous>=0.24 in /usr/local/lib/python3.6/dist-packages (from flask) (1.1.0)\n",
            "Requirement already satisfied: click>=5.1 in /usr/local/lib/python3.6/dist-packages (from flask) (7.1.2)\n",
            "Collecting zope.event\n",
            "  Downloading https://files.pythonhosted.org/packages/9e/85/b45408c64f3b888976f1d5b37eed8d746b8d5729a66a49ec846fda27d371/zope.event-4.5.0-py2.py3-none-any.whl\n",
            "Requirement already satisfied: setuptools in /usr/local/lib/python3.6/dist-packages (from gevent) (53.0.0)\n",
            "Collecting greenlet<2.0,>=0.4.17; platform_python_implementation == \"CPython\"\n",
            "\u001b[?25l  Downloading https://files.pythonhosted.org/packages/22/e2/9fbb24cf1ee89813ded3761314562a83a2822ad2bf5682eef0d0c99e2a5d/greenlet-1.0.0-cp36-cp36m-manylinux2010_x86_64.whl (156kB)\n",
            "\u001b[K     |████████████████████████████████| 163kB 54.4MB/s \n",
            "\u001b[?25hCollecting zope.interface\n",
            "\u001b[?25l  Downloading https://files.pythonhosted.org/packages/82/b0/da8afd9b3bd50c7665ecdac062f182982af1173c9081f9af7261091c5588/zope.interface-5.2.0-cp36-cp36m-manylinux2010_x86_64.whl (236kB)\n",
            "\u001b[K     |████████████████████████████████| 245kB 56.5MB/s \n",
            "\u001b[?25hRequirement already satisfied: idna<3,>=2.5 in /usr/local/lib/python3.6/dist-packages (from requests) (2.10)\n",
            "Requirement already satisfied: chardet<4,>=3.0.2 in /usr/local/lib/python3.6/dist-packages (from requests) (3.0.4)\n",
            "Requirement already satisfied: urllib3!=1.25.0,!=1.25.1,<1.26,>=1.21.1 in /usr/local/lib/python3.6/dist-packages (from requests) (1.24.3)\n",
            "Requirement already satisfied: certifi>=2017.4.17 in /usr/local/lib/python3.6/dist-packages (from requests) (2020.12.5)\n",
            "Requirement already satisfied: MarkupSafe>=0.23 in /usr/local/lib/python3.6/dist-packages (from Jinja2>=2.10.1->flask) (1.1.1)\n",
            "Installing collected packages: zope.event, greenlet, zope.interface, gevent\n",
            "Successfully installed gevent-21.1.2 greenlet-1.0.0 zope.event-4.5.0 zope.interface-5.2.0\n"
          ],
          "name": "stdout"
        }
      ]
    },
    {
      "cell_type": "markdown",
      "metadata": {
        "id": "sWbggV1HiIRn"
      },
      "source": [
        "Creat a file ProcFile"
      ]
    },
    {
      "cell_type": "code",
      "metadata": {
        "id": "jntXbq6SiKLp"
      },
      "source": [
        "procfile = 'web: gunicorn app:app'\n",
        "procfiles= open(\"/content/Procfile\",\"w\")\n",
        "procfiles.write(procfile)\n",
        "procfiles.close()"
      ],
      "execution_count": null,
      "outputs": []
    },
    {
      "cell_type": "markdown",
      "metadata": {
        "id": "c1A_HR9WiU2M"
      },
      "source": [
        "#Install flask and ngrok"
      ]
    },
    {
      "cell_type": "code",
      "metadata": {
        "id": "GO41Vpx0iX0h",
        "colab": {
          "base_uri": "https://localhost:8080/"
        },
        "outputId": "5481741b-1366-4671-e2b8-b8e88b223669"
      },
      "source": [
        "!pip install flask-ngrok\n",
        "from flask_ngrok import run_with_ngrok\n",
        "from flask import Flask"
      ],
      "execution_count": null,
      "outputs": [
        {
          "output_type": "stream",
          "text": [
            "Collecting flask-ngrok\n",
            "  Downloading https://files.pythonhosted.org/packages/af/6c/f54cb686ad1129e27d125d182f90f52b32f284e6c8df58c1bae54fa1adbc/flask_ngrok-0.0.25-py3-none-any.whl\n",
            "Requirement already satisfied: Flask>=0.8 in /usr/local/lib/python3.6/dist-packages (from flask-ngrok) (1.1.2)\n",
            "Requirement already satisfied: requests in /usr/local/lib/python3.6/dist-packages (from flask-ngrok) (2.23.0)\n",
            "Requirement already satisfied: Jinja2>=2.10.1 in /usr/local/lib/python3.6/dist-packages (from Flask>=0.8->flask-ngrok) (2.11.3)\n",
            "Requirement already satisfied: Werkzeug>=0.15 in /usr/local/lib/python3.6/dist-packages (from Flask>=0.8->flask-ngrok) (1.0.1)\n",
            "Requirement already satisfied: click>=5.1 in /usr/local/lib/python3.6/dist-packages (from Flask>=0.8->flask-ngrok) (7.1.2)\n",
            "Requirement already satisfied: itsdangerous>=0.24 in /usr/local/lib/python3.6/dist-packages (from Flask>=0.8->flask-ngrok) (1.1.0)\n",
            "Requirement already satisfied: chardet<4,>=3.0.2 in /usr/local/lib/python3.6/dist-packages (from requests->flask-ngrok) (3.0.4)\n",
            "Requirement already satisfied: idna<3,>=2.5 in /usr/local/lib/python3.6/dist-packages (from requests->flask-ngrok) (2.10)\n",
            "Requirement already satisfied: urllib3!=1.25.0,!=1.25.1,<1.26,>=1.21.1 in /usr/local/lib/python3.6/dist-packages (from requests->flask-ngrok) (1.24.3)\n",
            "Requirement already satisfied: certifi>=2017.4.17 in /usr/local/lib/python3.6/dist-packages (from requests->flask-ngrok) (2020.12.5)\n",
            "Requirement already satisfied: MarkupSafe>=0.23 in /usr/local/lib/python3.6/dist-packages (from Jinja2>=2.10.1->Flask>=0.8->flask-ngrok) (1.1.1)\n",
            "Installing collected packages: flask-ngrok\n",
            "Successfully installed flask-ngrok-0.0.25\n"
          ],
          "name": "stdout"
        }
      ]
    },
    {
      "cell_type": "markdown",
      "metadata": {
        "id": "CWpMsr7Eimfg"
      },
      "source": [
        "#Webpage"
      ]
    },
    {
      "cell_type": "code",
      "metadata": {
        "id": "O4Kpa-XBP2cN"
      },
      "source": [
        "a = '''\n",
        "<!doctype html>\n",
        "<html lang=\"en\">\n",
        "<head>\n",
        "<title>Cat & Dogs Recognition</title>\n",
        "</head> \n",
        "  <body>\n",
        " \n",
        "          <h3>Cat & Dog Recognition Server</h3><br/>\n",
        "       \n",
        "      <form action=\"\" method=\"post\" enctype=multipart/form-data>\n",
        "        <input type=file name=\"catdog\"><br/>\n",
        "        \n",
        "        <p>cat = 0<br/>\n",
        "        dog = 1</p><br/>\n",
        "        <p>Enter Animal number in text box</p><br/>\n",
        "        <input type=text name=\"catdog_name\">\n",
        "\n",
        "        <input type=submit value=Upload>\n",
        "    </form>\n",
        "    {{label}}  \n",
        "     \n",
        "  </body>\n",
        "  </html>\n",
        "  '''"
      ],
      "execution_count": null,
      "outputs": []
    },
    {
      "cell_type": "code",
      "metadata": {
        "id": "8xtT50rRivur"
      },
      "source": [
        "!mkdir '/content/templates'\n",
        "!mkdir '/content/uploads'\n",
        "!mkdir '/content/uploads/cat'\n",
        "!mkdir '/content/uploads/dog'\n",
        "\n",
        "\n",
        "Html_file = open(\"/content/templates/index.html\", \"w\")\n",
        "Html_file.write(a)\n",
        "Html_file.close()"
      ],
      "execution_count": null,
      "outputs": []
    },
    {
      "cell_type": "markdown",
      "metadata": {
        "id": "uWK13ODsj_OW"
      },
      "source": [
        "#Deploy model"
      ]
    },
    {
      "cell_type": "code",
      "metadata": {
        "id": "axMWfFnn5j6h"
      },
      "source": [
        "import os\n",
        "from flask import Flask, render_template, request\n",
        "from keras.preprocessing import image\n",
        "from keras.preprocessing.image import load_img, img_to_array\n",
        "import tensorflow as tf\n",
        "\n",
        "app = Flask(__name__)\n",
        "run_with_ngrok(app)\n",
        "app.config['UPLOADS'] = 'uploads'\n",
        "\n",
        "\n",
        "def load_mymodel():\n",
        "    global mymodel\n",
        "    mymodel = keras.models.load_model('/content/weights-improvement-experiment3.h5')\n",
        "    #final_model = tf.keras.Sequential([mymodel,tf.keras.layers.Softmax()])\n",
        "    \n",
        "\n",
        "@app.route('/')\n",
        "def home():\n",
        "    return render_template('index.html')\n",
        "\n",
        "def predictions(file):\n",
        "    img = image.load_img(file, target_size=(32,32), color_mode=\"rgb\")\n",
        "    img = img_to_array(img)\n",
        "    img = np.expand_dims(img, axis=0)\n",
        "    ans = mymodel.predict_classes(img)\n",
        "    return ans\n",
        "\n",
        "\n",
        "@app.route('/', methods=['POST'])\n",
        "def upload_files():\n",
        "    file = request.files['catdog']\n",
        "    animallabels = request.form['catdog_name']\n",
        "    print(type(animallabels))\n",
        "    if int(animallabels) == 0:\n",
        "      animallabels = 'cat'\n",
        "      filepath = os.path.join(app.config['UPLOADS'], animallabels, file.filename)\n",
        "      file.save(filepath)\n",
        "    else:\n",
        "      animallabels = 'dog'\n",
        "      filepath = os.path.join(app.config['UPLOADS'], animallabels, file.filename)\n",
        "      file.save(filepath)\n",
        "\n",
        "    output = predictions(filepath)\n",
        "\n",
        "    if output.astype('int32') == 0:\n",
        "      output = 'cat'\n",
        "    else:\n",
        "      output = 'dog'\n",
        "\n",
        "    return render_template('index.html', label=output)\n",
        "\n",
        "if __name__=='__main__':\n",
        "    load_mymodel()\n",
        "    app.run()"
      ],
      "execution_count": null,
      "outputs": []
    },
    {
      "cell_type": "markdown",
      "metadata": {
        "id": "dkOFE96M5cR_"
      },
      "source": [
        "##Screenshot of the Deployment of the Flask App"
      ]
    },
    {
      "cell_type": "markdown",
      "metadata": {
        "id": "Q3tfiQLbXaOq"
      },
      "source": [
        "![image.png](data:image/png;base64,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)"
      ]
    },
    {
      "cell_type": "markdown",
      "metadata": {
        "id": "WMDohtlUjh_F"
      },
      "source": [
        "### Now collected data can be used to retrain model - Create new versions of model & Analyze again performance of these versions - accuracy, error"
      ]
    },
    {
      "cell_type": "markdown",
      "metadata": {
        "id": "9xNUsL1tplqN"
      },
      "source": [
        "\n",
        "\n",
        "---\n",
        "\n",
        "---\n",
        "\n",
        "---\n",
        "\n",
        "\n",
        "\n",
        "\n",
        "\n"
      ]
    },
    {
      "cell_type": "code",
      "metadata": {
        "id": "on9Scq9-pprC"
      },
      "source": [
        "'''\n",
        "#Augmenting Train Data & Again storing in Same Data\n",
        "from keras.preprocessing.image import load_img, img_to_array, ImageDataGenerator\n",
        "datagen = ImageDataGenerator(rescale=1/255,\n",
        "                             rotation_range=90, \n",
        "                             vertical_flip=True, \n",
        "                             width_shift_range=0.2, \n",
        "                             height_shift_range=0.2, \n",
        "                             fill_mode='nearest', \n",
        "                             zoom_range=0.1, \n",
        "                             brightness_range=[0.9,0.5])\n",
        "\n",
        "datagen.fit(x_train)\n",
        "\n",
        "\n",
        "import os\n",
        "os.makedirs('images_folder')\n",
        "\n",
        "for x,y in datagen.flow(x_train, y_train, batch_size=9, save_to_dir='images_folder', save_prefix='aug', save_format='.png'):\n",
        "  pass\n",
        "'''"
      ],
      "execution_count": null,
      "outputs": []
    }
  ]
}